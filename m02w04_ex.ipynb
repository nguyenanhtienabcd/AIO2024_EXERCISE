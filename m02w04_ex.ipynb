{
  "nbformat": 4,
  "nbformat_minor": 0,
  "metadata": {
    "colab": {
      "provenance": [],
      "authorship_tag": "ABX9TyPI/IbkzzbB1D09qm3cTzrE",
      "include_colab_link": true
    },
    "kernelspec": {
      "name": "python3",
      "display_name": "Python 3"
    },
    "language_info": {
      "name": "python"
    }
  },
  "cells": [
    {
      "cell_type": "markdown",
      "metadata": {
        "id": "view-in-github",
        "colab_type": "text"
      },
      "source": [
        "<a href=\"https://colab.research.google.com/github/nguyenanhtienabcd/AIO2024_EXERCISE/blob/feature%2FMODULE2-WEEK4/m02w04_ex.ipynb\" target=\"_parent\"><img src=\"https://colab.research.google.com/assets/colab-badge.svg\" alt=\"Open In Colab\"/></a>"
      ]
    },
    {
      "cell_type": "markdown",
      "source": [
        "## ex1: compute mean"
      ],
      "metadata": {
        "id": "QG3MhjnmP2th"
      }
    },
    {
      "cell_type": "code",
      "source": [
        "import numpy as np\n",
        "def compute_mean(x):\n",
        "    return np.mean(x)\n"
      ],
      "metadata": {
        "id": "Zw_51MaaP2CL"
      },
      "execution_count": null,
      "outputs": []
    },
    {
      "cell_type": "code",
      "source": [
        "x = [2, 0, 2, 2, 7, 4, -2, 5, -1, -1]\n",
        "print('mean:', compute_mean(x))"
      ],
      "metadata": {
        "colab": {
          "base_uri": "https://localhost:8080/"
        },
        "id": "AGnueXCKRHnL",
        "outputId": "a866823e-5717-493e-c1e8-592c7a0a5f8f"
      },
      "execution_count": null,
      "outputs": [
        {
          "output_type": "stream",
          "name": "stdout",
          "text": [
            "mean: 1.8\n"
          ]
        }
      ]
    },
    {
      "cell_type": "markdown",
      "source": [
        "## ex2: compute median"
      ],
      "metadata": {
        "id": "-sGbbjSvP6BX"
      }
    },
    {
      "cell_type": "code",
      "execution_count": null,
      "metadata": {
        "id": "KM5bLt3XPXu7"
      },
      "outputs": [],
      "source": [
        "def compute_median(x):\n",
        "    x.sort()\n",
        "    if len(x) % 2 == 1:\n",
        "      index = len(x) // 2\n",
        "      return x[index]\n",
        "    else:\n",
        "      index = len(x) // 2\n",
        "      return (x[index - 1] + x[index]) / 2"
      ]
    },
    {
      "cell_type": "code",
      "source": [
        "x= [1, 5, 4, 4, 9, 13]\n",
        "print(\" Median : \", compute_median (x))"
      ],
      "metadata": {
        "colab": {
          "base_uri": "https://localhost:8080/"
        },
        "id": "K1SIV5jhRwK1",
        "outputId": "58953fb6-9746-4f85-872c-f78ade53599a"
      },
      "execution_count": null,
      "outputs": [
        {
          "output_type": "stream",
          "name": "stdout",
          "text": [
            " Median :  4.5\n"
          ]
        }
      ]
    },
    {
      "cell_type": "markdown",
      "source": [
        "## ex3: compute_standard"
      ],
      "metadata": {
        "id": "3MVpzcjiWXZJ"
      }
    },
    {
      "cell_type": "code",
      "source": [
        "def compute_std(data):\n",
        "    \"\"\"Compute the variance of a list of numbers.\"\"\"\n",
        "    mean = sum(data) / len(data)\n",
        "    variance = sum((x - mean) ** 2 for x in data) / len(data)\n",
        "    std = variance ** 0.5\n",
        "    return std"
      ],
      "metadata": {
        "id": "4_eMg14fWWT6"
      },
      "execution_count": null,
      "outputs": []
    },
    {
      "cell_type": "code",
      "source": [
        "X = [ 171 , 176 , 155 , 167 , 169 , 182]\n",
        "print(\"Standard Deviation : \", compute_std(X))"
      ],
      "metadata": {
        "colab": {
          "base_uri": "https://localhost:8080/"
        },
        "id": "-uzm-s6pXIa7",
        "outputId": "995a8170-ce92-4d61-ae76-36118a8987e4"
      },
      "execution_count": null,
      "outputs": [
        {
          "output_type": "stream",
          "name": "stdout",
          "text": [
            "Standard Deviation :  8.32666399786453\n"
          ]
        }
      ]
    },
    {
      "cell_type": "markdown",
      "source": [
        "## ex4: correlation coeffection"
      ],
      "metadata": {
        "id": "iiahwky0YiXt"
      }
    },
    {
      "cell_type": "code",
      "source": [
        "def compute_correlation_coefficient(x, y):\n",
        "    \"\"\"Compute the correlation coefficient of two lists of numbers.\"\"\"\n",
        "    x = np.array(x)\n",
        "    y = np.array(y)\n",
        "    mean_x = compute_mean(x)\n",
        "    mean_y = compute_mean(y)\n",
        "    std_x = compute_std(x)\n",
        "    std_y = compute_std(y)\n",
        "    correlation_coefficient = np.sum((x - mean_x) * (y - mean_y)) / (len(x) * std_x * std_y)\n",
        "    return correlation_coefficient"
      ],
      "metadata": {
        "id": "y5KaPFWgYm2g"
      },
      "execution_count": null,
      "outputs": []
    },
    {
      "cell_type": "code",
      "source": [
        "x = np.asarray([-2, -5, -11, 6, 4, 15, 9])\n",
        "y = np.asarray([4 , 25, 121 , 36, 16, 225 , 81])\n",
        "print(\"Correlation Coefficient : \", compute_correlation_coefficient(x, y))"
      ],
      "metadata": {
        "colab": {
          "base_uri": "https://localhost:8080/"
        },
        "id": "A7FxVTIJXm4J",
        "outputId": "768dc75f-de19-4514-b586-7fc20904ae81"
      },
      "execution_count": null,
      "outputs": [
        {
          "output_type": "stream",
          "name": "stdout",
          "text": [
            "Correlation Coefficient :  0.4202633309602727\n"
          ]
        }
      ]
    },
    {
      "cell_type": "markdown",
      "source": [
        "## ex5: TABULAR DATA ANALYSIS"
      ],
      "metadata": {
        "id": "TVBFKoszbZho"
      }
    },
    {
      "cell_type": "code",
      "source": [
        "! gdown 1iA0WmVfW88HyJvTBSQDI5vesf-pgKabq"
      ],
      "metadata": {
        "colab": {
          "base_uri": "https://localhost:8080/"
        },
        "id": "m4j3fKwDbYfS",
        "outputId": "a313c4a0-bc29-45f9-a5b8-fe9e9d1d586d"
      },
      "execution_count": null,
      "outputs": [
        {
          "output_type": "stream",
          "name": "stdout",
          "text": [
            "Downloading...\n",
            "From: https://drive.google.com/uc?id=1iA0WmVfW88HyJvTBSQDI5vesf-pgKabq\n",
            "To: /content/advertising.csv\n",
            "\r  0% 0.00/4.06k [00:00<?, ?B/s]\r100% 4.06k/4.06k [00:00<00:00, 13.6MB/s]\n"
          ]
        }
      ]
    },
    {
      "cell_type": "code",
      "source": [
        "import pandas as pd\n",
        "import numpy as np\n",
        "data = pd.read_csv('/content/advertising.csv')\n",
        "x = np.array(data['TV'])\n",
        "y = np.array(data['Radio'])\n",
        "corr = compute_correlation_coefficient(x, y)\n",
        "print(\"Correlation Coefficient : \",round(corr,2))\n"
      ],
      "metadata": {
        "colab": {
          "base_uri": "https://localhost:8080/"
        },
        "id": "9aplYxenblAN",
        "outputId": "eaaa6f36-d339-453a-ac70-73afc731ec4b"
      },
      "execution_count": null,
      "outputs": [
        {
          "output_type": "stream",
          "name": "stdout",
          "text": [
            "Correlation Coefficient :  0.05\n"
          ]
        }
      ]
    },
    {
      "cell_type": "markdown",
      "source": [
        "## ex6: TABULAR DATA ANALYSIS"
      ],
      "metadata": {
        "id": "KfPpRgNCdSzd"
      }
    },
    {
      "cell_type": "code",
      "source": [
        "data = pd.read_csv('/content/advertising.csv')\n",
        "features = ['TV', 'Radio', 'Newspaper']\n",
        "print(features)\n",
        "for feature_1 in features :\n",
        "  for feature_2 in features :\n",
        "    correlation_value = compute_correlation_coefficient(data[feature_1], data[feature_2])\n",
        "    print(f\" Correlation between {feature_1} and {feature_2}: { round(correlation_value, 2)}\")"
      ],
      "metadata": {
        "colab": {
          "base_uri": "https://localhost:8080/"
        },
        "id": "8bN-veB8dTkJ",
        "outputId": "69ea25b6-3e4d-43dd-9c3f-055560c5a662"
      },
      "execution_count": null,
      "outputs": [
        {
          "output_type": "stream",
          "name": "stdout",
          "text": [
            "['TV', 'Radio', 'Newspaper']\n",
            " Correlation between TV and TV: 1.0\n",
            " Correlation between TV and Radio: 0.05\n",
            " Correlation between TV and Newspaper: 0.06\n",
            " Correlation between Radio and TV: 0.05\n",
            " Correlation between Radio and Radio: 1.0\n",
            " Correlation between Radio and Newspaper: 0.35\n",
            " Correlation between Newspaper and TV: 0.06\n",
            " Correlation between Newspaper and Radio: 0.35\n",
            " Correlation between Newspaper and Newspaper: 1.0\n"
          ]
        }
      ]
    },
    {
      "cell_type": "markdown",
      "source": [
        "## ex7:"
      ],
      "metadata": {
        "id": "i3Dy69dQgEI8"
      }
    },
    {
      "cell_type": "code",
      "source": [
        "data = pd.read_csv('/content/advertising.csv')\n",
        "x = data['Radio']\n",
        "y = data['Newspaper']\n",
        "result = np.corrcoef(x, y)\n",
        "print(result)"
      ],
      "metadata": {
        "colab": {
          "base_uri": "https://localhost:8080/"
        },
        "id": "60ElV85Rf6ts",
        "outputId": "a75406b8-8b9f-4686-eb49-69e5f63f615e"
      },
      "execution_count": null,
      "outputs": [
        {
          "output_type": "stream",
          "name": "stdout",
          "text": [
            "[[1.         0.35410375]\n",
            " [0.35410375 1.        ]]\n"
          ]
        }
      ]
    },
    {
      "cell_type": "markdown",
      "source": [
        "## ex8:"
      ],
      "metadata": {
        "id": "CoTNpxhmggVO"
      }
    },
    {
      "cell_type": "code",
      "source": [
        "data = pd.read_csv('/content/advertising.csv')\n",
        "data.corr()"
      ],
      "metadata": {
        "colab": {
          "base_uri": "https://localhost:8080/",
          "height": 175
        },
        "id": "hLYJJhE7ggGN",
        "outputId": "bb03b8d8-dce2-4c6b-dc56-3a065af7c0ec"
      },
      "execution_count": null,
      "outputs": [
        {
          "output_type": "execute_result",
          "data": {
            "text/plain": [
              "                 TV     Radio  Newspaper     Sales\n",
              "TV         1.000000  0.054809   0.056648  0.901208\n",
              "Radio      0.054809  1.000000   0.354104  0.349631\n",
              "Newspaper  0.056648  0.354104   1.000000  0.157960\n",
              "Sales      0.901208  0.349631   0.157960  1.000000"
            ],
            "text/html": [
              "\n",
              "  <div id=\"df-aa31cede-be27-4406-bf03-868a543cb031\" class=\"colab-df-container\">\n",
              "    <div>\n",
              "<style scoped>\n",
              "    .dataframe tbody tr th:only-of-type {\n",
              "        vertical-align: middle;\n",
              "    }\n",
              "\n",
              "    .dataframe tbody tr th {\n",
              "        vertical-align: top;\n",
              "    }\n",
              "\n",
              "    .dataframe thead th {\n",
              "        text-align: right;\n",
              "    }\n",
              "</style>\n",
              "<table border=\"1\" class=\"dataframe\">\n",
              "  <thead>\n",
              "    <tr style=\"text-align: right;\">\n",
              "      <th></th>\n",
              "      <th>TV</th>\n",
              "      <th>Radio</th>\n",
              "      <th>Newspaper</th>\n",
              "      <th>Sales</th>\n",
              "    </tr>\n",
              "  </thead>\n",
              "  <tbody>\n",
              "    <tr>\n",
              "      <th>TV</th>\n",
              "      <td>1.000000</td>\n",
              "      <td>0.054809</td>\n",
              "      <td>0.056648</td>\n",
              "      <td>0.901208</td>\n",
              "    </tr>\n",
              "    <tr>\n",
              "      <th>Radio</th>\n",
              "      <td>0.054809</td>\n",
              "      <td>1.000000</td>\n",
              "      <td>0.354104</td>\n",
              "      <td>0.349631</td>\n",
              "    </tr>\n",
              "    <tr>\n",
              "      <th>Newspaper</th>\n",
              "      <td>0.056648</td>\n",
              "      <td>0.354104</td>\n",
              "      <td>1.000000</td>\n",
              "      <td>0.157960</td>\n",
              "    </tr>\n",
              "    <tr>\n",
              "      <th>Sales</th>\n",
              "      <td>0.901208</td>\n",
              "      <td>0.349631</td>\n",
              "      <td>0.157960</td>\n",
              "      <td>1.000000</td>\n",
              "    </tr>\n",
              "  </tbody>\n",
              "</table>\n",
              "</div>\n",
              "    <div class=\"colab-df-buttons\">\n",
              "\n",
              "  <div class=\"colab-df-container\">\n",
              "    <button class=\"colab-df-convert\" onclick=\"convertToInteractive('df-aa31cede-be27-4406-bf03-868a543cb031')\"\n",
              "            title=\"Convert this dataframe to an interactive table.\"\n",
              "            style=\"display:none;\">\n",
              "\n",
              "  <svg xmlns=\"http://www.w3.org/2000/svg\" height=\"24px\" viewBox=\"0 -960 960 960\">\n",
              "    <path d=\"M120-120v-720h720v720H120Zm60-500h600v-160H180v160Zm220 220h160v-160H400v160Zm0 220h160v-160H400v160ZM180-400h160v-160H180v160Zm440 0h160v-160H620v160ZM180-180h160v-160H180v160Zm440 0h160v-160H620v160Z\"/>\n",
              "  </svg>\n",
              "    </button>\n",
              "\n",
              "  <style>\n",
              "    .colab-df-container {\n",
              "      display:flex;\n",
              "      gap: 12px;\n",
              "    }\n",
              "\n",
              "    .colab-df-convert {\n",
              "      background-color: #E8F0FE;\n",
              "      border: none;\n",
              "      border-radius: 50%;\n",
              "      cursor: pointer;\n",
              "      display: none;\n",
              "      fill: #1967D2;\n",
              "      height: 32px;\n",
              "      padding: 0 0 0 0;\n",
              "      width: 32px;\n",
              "    }\n",
              "\n",
              "    .colab-df-convert:hover {\n",
              "      background-color: #E2EBFA;\n",
              "      box-shadow: 0px 1px 2px rgba(60, 64, 67, 0.3), 0px 1px 3px 1px rgba(60, 64, 67, 0.15);\n",
              "      fill: #174EA6;\n",
              "    }\n",
              "\n",
              "    .colab-df-buttons div {\n",
              "      margin-bottom: 4px;\n",
              "    }\n",
              "\n",
              "    [theme=dark] .colab-df-convert {\n",
              "      background-color: #3B4455;\n",
              "      fill: #D2E3FC;\n",
              "    }\n",
              "\n",
              "    [theme=dark] .colab-df-convert:hover {\n",
              "      background-color: #434B5C;\n",
              "      box-shadow: 0px 1px 3px 1px rgba(0, 0, 0, 0.15);\n",
              "      filter: drop-shadow(0px 1px 2px rgba(0, 0, 0, 0.3));\n",
              "      fill: #FFFFFF;\n",
              "    }\n",
              "  </style>\n",
              "\n",
              "    <script>\n",
              "      const buttonEl =\n",
              "        document.querySelector('#df-aa31cede-be27-4406-bf03-868a543cb031 button.colab-df-convert');\n",
              "      buttonEl.style.display =\n",
              "        google.colab.kernel.accessAllowed ? 'block' : 'none';\n",
              "\n",
              "      async function convertToInteractive(key) {\n",
              "        const element = document.querySelector('#df-aa31cede-be27-4406-bf03-868a543cb031');\n",
              "        const dataTable =\n",
              "          await google.colab.kernel.invokeFunction('convertToInteractive',\n",
              "                                                    [key], {});\n",
              "        if (!dataTable) return;\n",
              "\n",
              "        const docLinkHtml = 'Like what you see? Visit the ' +\n",
              "          '<a target=\"_blank\" href=https://colab.research.google.com/notebooks/data_table.ipynb>data table notebook</a>'\n",
              "          + ' to learn more about interactive tables.';\n",
              "        element.innerHTML = '';\n",
              "        dataTable['output_type'] = 'display_data';\n",
              "        await google.colab.output.renderOutput(dataTable, element);\n",
              "        const docLink = document.createElement('div');\n",
              "        docLink.innerHTML = docLinkHtml;\n",
              "        element.appendChild(docLink);\n",
              "      }\n",
              "    </script>\n",
              "  </div>\n",
              "\n",
              "\n",
              "<div id=\"df-fa881f86-7327-4767-9589-3d6515e94e01\">\n",
              "  <button class=\"colab-df-quickchart\" onclick=\"quickchart('df-fa881f86-7327-4767-9589-3d6515e94e01')\"\n",
              "            title=\"Suggest charts\"\n",
              "            style=\"display:none;\">\n",
              "\n",
              "<svg xmlns=\"http://www.w3.org/2000/svg\" height=\"24px\"viewBox=\"0 0 24 24\"\n",
              "     width=\"24px\">\n",
              "    <g>\n",
              "        <path d=\"M19 3H5c-1.1 0-2 .9-2 2v14c0 1.1.9 2 2 2h14c1.1 0 2-.9 2-2V5c0-1.1-.9-2-2-2zM9 17H7v-7h2v7zm4 0h-2V7h2v10zm4 0h-2v-4h2v4z\"/>\n",
              "    </g>\n",
              "</svg>\n",
              "  </button>\n",
              "\n",
              "<style>\n",
              "  .colab-df-quickchart {\n",
              "      --bg-color: #E8F0FE;\n",
              "      --fill-color: #1967D2;\n",
              "      --hover-bg-color: #E2EBFA;\n",
              "      --hover-fill-color: #174EA6;\n",
              "      --disabled-fill-color: #AAA;\n",
              "      --disabled-bg-color: #DDD;\n",
              "  }\n",
              "\n",
              "  [theme=dark] .colab-df-quickchart {\n",
              "      --bg-color: #3B4455;\n",
              "      --fill-color: #D2E3FC;\n",
              "      --hover-bg-color: #434B5C;\n",
              "      --hover-fill-color: #FFFFFF;\n",
              "      --disabled-bg-color: #3B4455;\n",
              "      --disabled-fill-color: #666;\n",
              "  }\n",
              "\n",
              "  .colab-df-quickchart {\n",
              "    background-color: var(--bg-color);\n",
              "    border: none;\n",
              "    border-radius: 50%;\n",
              "    cursor: pointer;\n",
              "    display: none;\n",
              "    fill: var(--fill-color);\n",
              "    height: 32px;\n",
              "    padding: 0;\n",
              "    width: 32px;\n",
              "  }\n",
              "\n",
              "  .colab-df-quickchart:hover {\n",
              "    background-color: var(--hover-bg-color);\n",
              "    box-shadow: 0 1px 2px rgba(60, 64, 67, 0.3), 0 1px 3px 1px rgba(60, 64, 67, 0.15);\n",
              "    fill: var(--button-hover-fill-color);\n",
              "  }\n",
              "\n",
              "  .colab-df-quickchart-complete:disabled,\n",
              "  .colab-df-quickchart-complete:disabled:hover {\n",
              "    background-color: var(--disabled-bg-color);\n",
              "    fill: var(--disabled-fill-color);\n",
              "    box-shadow: none;\n",
              "  }\n",
              "\n",
              "  .colab-df-spinner {\n",
              "    border: 2px solid var(--fill-color);\n",
              "    border-color: transparent;\n",
              "    border-bottom-color: var(--fill-color);\n",
              "    animation:\n",
              "      spin 1s steps(1) infinite;\n",
              "  }\n",
              "\n",
              "  @keyframes spin {\n",
              "    0% {\n",
              "      border-color: transparent;\n",
              "      border-bottom-color: var(--fill-color);\n",
              "      border-left-color: var(--fill-color);\n",
              "    }\n",
              "    20% {\n",
              "      border-color: transparent;\n",
              "      border-left-color: var(--fill-color);\n",
              "      border-top-color: var(--fill-color);\n",
              "    }\n",
              "    30% {\n",
              "      border-color: transparent;\n",
              "      border-left-color: var(--fill-color);\n",
              "      border-top-color: var(--fill-color);\n",
              "      border-right-color: var(--fill-color);\n",
              "    }\n",
              "    40% {\n",
              "      border-color: transparent;\n",
              "      border-right-color: var(--fill-color);\n",
              "      border-top-color: var(--fill-color);\n",
              "    }\n",
              "    60% {\n",
              "      border-color: transparent;\n",
              "      border-right-color: var(--fill-color);\n",
              "    }\n",
              "    80% {\n",
              "      border-color: transparent;\n",
              "      border-right-color: var(--fill-color);\n",
              "      border-bottom-color: var(--fill-color);\n",
              "    }\n",
              "    90% {\n",
              "      border-color: transparent;\n",
              "      border-bottom-color: var(--fill-color);\n",
              "    }\n",
              "  }\n",
              "</style>\n",
              "\n",
              "  <script>\n",
              "    async function quickchart(key) {\n",
              "      const quickchartButtonEl =\n",
              "        document.querySelector('#' + key + ' button');\n",
              "      quickchartButtonEl.disabled = true;  // To prevent multiple clicks.\n",
              "      quickchartButtonEl.classList.add('colab-df-spinner');\n",
              "      try {\n",
              "        const charts = await google.colab.kernel.invokeFunction(\n",
              "            'suggestCharts', [key], {});\n",
              "      } catch (error) {\n",
              "        console.error('Error during call to suggestCharts:', error);\n",
              "      }\n",
              "      quickchartButtonEl.classList.remove('colab-df-spinner');\n",
              "      quickchartButtonEl.classList.add('colab-df-quickchart-complete');\n",
              "    }\n",
              "    (() => {\n",
              "      let quickchartButtonEl =\n",
              "        document.querySelector('#df-fa881f86-7327-4767-9589-3d6515e94e01 button');\n",
              "      quickchartButtonEl.style.display =\n",
              "        google.colab.kernel.accessAllowed ? 'block' : 'none';\n",
              "    })();\n",
              "  </script>\n",
              "</div>\n",
              "\n",
              "    </div>\n",
              "  </div>\n"
            ],
            "application/vnd.google.colaboratory.intrinsic+json": {
              "type": "dataframe",
              "summary": "{\n  \"name\": \"data\",\n  \"rows\": 4,\n  \"fields\": [\n    {\n      \"column\": \"TV\",\n      \"properties\": {\n        \"dtype\": \"number\",\n        \"std\": 0.5182290756712874,\n        \"min\": 0.05480866446583008,\n        \"max\": 1.0,\n        \"num_unique_values\": 4,\n        \"samples\": [\n          0.05480866446583008,\n          0.9012079133023315,\n          1.0\n        ],\n        \"semantic_type\": \"\",\n        \"description\": \"\"\n      }\n    },\n    {\n      \"column\": \"Radio\",\n      \"properties\": {\n        \"dtype\": \"number\",\n        \"std\": 0.39896388261461313,\n        \"min\": 0.05480866446583008,\n        \"max\": 1.0,\n        \"num_unique_values\": 4,\n        \"samples\": [\n          1.0,\n          0.34963109700766926,\n          0.05480866446583008\n        ],\n        \"semantic_type\": \"\",\n        \"description\": \"\"\n      }\n    },\n    {\n      \"column\": \"Newspaper\",\n      \"properties\": {\n        \"dtype\": \"number\",\n        \"std\": 0.42360978750776684,\n        \"min\": 0.05664787496505698,\n        \"max\": 1.0,\n        \"num_unique_values\": 4,\n        \"samples\": [\n          0.35410375076117534,\n          0.15796002615492621,\n          0.05664787496505698\n        ],\n        \"semantic_type\": \"\",\n        \"description\": \"\"\n      }\n    },\n    {\n      \"column\": \"Sales\",\n      \"properties\": {\n        \"dtype\": \"number\",\n        \"std\": 0.4118214731886475,\n        \"min\": 0.15796002615492621,\n        \"max\": 1.0,\n        \"num_unique_values\": 4,\n        \"samples\": [\n          0.34963109700766926,\n          1.0,\n          0.9012079133023315\n        ],\n        \"semantic_type\": \"\",\n        \"description\": \"\"\n      }\n    }\n  ]\n}"
            }
          },
          "metadata": {},
          "execution_count": 28
        }
      ]
    },
    {
      "cell_type": "markdown",
      "source": [
        "## ex9:"
      ],
      "metadata": {
        "id": "wYD58pmFg_kn"
      }
    },
    {
      "cell_type": "code",
      "source": [
        "import matplotlib.pyplot as plt\n",
        "import numpy as np\n",
        "import pandas as pd\n",
        "import seaborn as sns\n",
        "data = pd.read_csv('/content/advertising.csv')\n",
        "plt.figure(figsize=(10, 8))\n",
        "sns.heatmap(data.corr(), annot=True, fmt = '.2f', linewidth= .5)\n",
        "plt.title('Correlation Heatmap')\n",
        "plt.show()\n"
      ],
      "metadata": {
        "colab": {
          "base_uri": "https://localhost:8080/",
          "height": 699
        },
        "id": "UFzJVAAihBsb",
        "outputId": "5e9484bb-ca07-4b86-81ee-02bb61b178ac"
      },
      "execution_count": null,
      "outputs": [
        {
          "output_type": "display_data",
          "data": {
            "text/plain": [
              "<Figure size 1000x800 with 2 Axes>"
            ],
            "image/png": "[encoded data removed]"
          },
          "metadata": {}
        }
      ]
    },
    {
      "cell_type": "markdown",
      "source": [
        "## ex10:"
      ],
      "metadata": {
        "id": "ApyI20UBlYVT"
      }
    },
    {
      "cell_type": "code",
      "source": [
        "import pandas as pd\n",
        "import numpy as np\n",
        "from sklearn.metrics.pairwise import cosine_similarity\n",
        "from sklearn.feature_extraction.text import TfidfVectorizer"
      ],
      "metadata": {
        "id": "hFgnK5n2lbhm"
      },
      "execution_count": 1,
      "outputs": []
    },
    {
      "cell_type": "code",
      "source": [
        "! gdown 1jh2p2DlaWsDo_vEWIcTrNh3mUuXd-cw6"
      ],
      "metadata": {
        "colab": {
          "base_uri": "https://localhost:8080/"
        },
        "id": "UD_2nygKlvNo",
        "outputId": "ded2307c-2262-45c9-fe61-9f781680900a"
      },
      "execution_count": 2,
      "outputs": [
        {
          "output_type": "stream",
          "name": "stdout",
          "text": [
            "Downloading...\n",
            "From: https://drive.google.com/uc?id=1jh2p2DlaWsDo_vEWIcTrNh3mUuXd-cw6\n",
            "To: /content/vi_text_retrieval.csv\n",
            "\r  0% 0.00/201k [00:00<?, ?B/s]\r100% 201k/201k [00:00<00:00, 70.2MB/s]\n"
          ]
        }
      ]
    },
    {
      "cell_type": "code",
      "source": [
        "vi_data_df = pd.read_csv('/content/vi_text_retrieval.csv')\n",
        "context =  vi_data_df['text']\n",
        "context = [doc.lower() for doc in context]\n",
        "#print(context)\n",
        "tf_idf_vectorizer = TfidfVectorizer()\n",
        "#print(tf_idf_vectorizer)\n",
        "context_embedded = tf_idf_vectorizer.fit_transform(context)\n",
        "print(context_embedded.shape)\n",
        "context_embedded.toarray()[7][0]\n",
        "print(context_embedded.toarray()[7][0])\n",
        "print(context_embedded.toarray())"
      ],
      "metadata": {
        "colab": {
          "base_uri": "https://localhost:8080/"
        },
        "id": "fVW9qjEFl4dl",
        "outputId": "129bb07a-4e3e-457c-b2fa-23bcca564fee"
      },
      "execution_count": 5,
      "outputs": [
        {
          "output_type": "stream",
          "name": "stdout",
          "text": [
            "(500, 2913)\n",
            "0.31126580760710637\n",
            "[[0. 0. 0. ... 0. 0. 0.]\n",
            " [0. 0. 0. ... 0. 0. 0.]\n",
            " [0. 0. 0. ... 0. 0. 0.]\n",
            " ...\n",
            " [0. 0. 0. ... 0. 0. 0.]\n",
            " [0. 0. 0. ... 0. 0. 0.]\n",
            " [0. 0. 0. ... 0. 0. 0.]]\n"
          ]
        }
      ]
    },
    {
      "cell_type": "markdown",
      "source": [
        "## ex11: tf-idf search"
      ],
      "metadata": {
        "id": "dUOwHDcBuzoW"
      }
    },
    {
      "cell_type": "code",
      "source": [
        "def tfidf_search(question, context_embedded, tf_idf_vectorizer , top_d = 5):\n",
        "  question = question.lower()\n",
        "  query_embedded = tf_idf_vectorizer.transform([question])\n",
        "  cosine_scores = cosine_similarity(context_embedded, query_embedded).reshape((-1,))\n",
        "  # sẽ tạo ra một ma trận 500 hàng và 1 cột có chứa kết quả cosine\n",
        "  # sau đó chuyển thành ma trận 1 hàng và 500 cột\n",
        "   # Get top k cosine scores and index its\n",
        "  results = []\n",
        "  #cosine_scores.argsort()[-top_d:][::-1] lấy 5 phần tử cuối cùng đã được sort, lấy theo chiều giảm dần\n",
        "  for idx in cosine_scores.argsort()[-top_d:][::-1]:\n",
        "      doc_score = {\n",
        "          'id': idx,\n",
        "          'cosine_score': cosine_scores[idx]\n",
        "      }\n",
        "      results.append(doc_score)\n",
        "\n",
        "  return results\n",
        "\n",
        "context_embedded = tf_idf_vectorizer.fit_transform(context)\n",
        "question = vi_data_df.iloc[0]['question']\n",
        "results = tfidf_search(question, context_embedded, tf_idf_vectorizer, top_d=5)\n",
        "print(results[0]['cosine_score'])"
      ],
      "metadata": {
        "colab": {
          "base_uri": "https://localhost:8080/"
        },
        "id": "paAJvRKmu1_6",
        "outputId": "8381a3e7-350b-4c02-b0cb-4df90deb9bcd"
      },
      "execution_count": 11,
      "outputs": [
        {
          "output_type": "stream",
          "name": "stdout",
          "text": [
            "0.6279910475266974\n"
          ]
        }
      ]
    },
    {
      "cell_type": "markdown",
      "source": [
        "## ex12: tf-idf search"
      ],
      "metadata": {
        "id": "8SmaXPppGb96"
      }
    },
    {
      "cell_type": "code",
      "source": [
        "question = vi_data_df.iloc[0]['question']\n",
        "question = question.lower()\n",
        "query_embedded = tf_idf_vectorizer.transform([question])\n",
        "print(query_embedded.shape)\n",
        "print(query_embedded.toarray())\n",
        "print(query_embedded.toarray()[0])\n",
        "print(context_embedded.toarray())\n",
        "correlation = np.corrcoef(\n",
        "      query_embedded.toarray()[0],\n",
        "      context_embedded.toarray()\n",
        "      )\n",
        "print(correlation)"
      ],
      "metadata": {
        "colab": {
          "base_uri": "https://localhost:8080/"
        },
        "id": "QKFG_KvcI-2S",
        "outputId": "801d2906-4ef8-4631-f816-9dc1490ee470"
      },
      "execution_count": 24,
      "outputs": [
        {
          "output_type": "stream",
          "name": "stdout",
          "text": [
            "(1, 2913)\n",
            "[[0. 0. 0. ... 0. 0. 0.]]\n",
            "[0. 0. 0. ... 0. 0. 0.]\n",
            "[[0. 0. 0. ... 0. 0. 0.]\n",
            " [0. 0. 0. ... 0. 0. 0.]\n",
            " [0. 0. 0. ... 0. 0. 0.]\n",
            " ...\n",
            " [0. 0. 0. ... 0. 0. 0.]\n",
            " [0. 0. 0. ... 0. 0. 0.]\n",
            " [0. 0. 0. ... 0. 0. 0.]]\n",
            "[[ 1.00000000e+00  6.25959975e-01 -4.77247139e-03 ... -2.13656571e-03\n",
            "   2.22206998e-02  2.24454295e-03]\n",
            " [ 6.25959975e-01  1.00000000e+00 -1.74572809e-03 ... -7.25634316e-04\n",
            "   2.27200306e-02  1.51604979e-03]\n",
            " [-4.77247139e-03 -1.74572809e-03  1.00000000e+00 ... -3.90803952e-03\n",
            "   2.18249469e-02 -5.55317280e-03]\n",
            " ...\n",
            " [-2.13656571e-03 -7.25634316e-04 -3.90803952e-03 ...  1.00000000e+00\n",
            "   1.56538410e-02  2.23320475e-03]\n",
            " [ 2.22206998e-02  2.27200306e-02  2.18249469e-02 ...  1.56538410e-02\n",
            "   1.00000000e+00  3.42478801e-02]\n",
            " [ 2.24454295e-03  1.51604979e-03 -5.55317280e-03 ...  2.23320475e-03\n",
            "   3.42478801e-02  1.00000000e+00]]\n"
          ]
        }
      ]
    },
    {
      "cell_type": "code",
      "source": [
        "def tfidf_corr_search(question, context_embedded, tf_idf_vectorizer , top_d = 5):\n",
        "  question = question.lower()\n",
        "  query_embedded = tf_idf_vectorizer.transform([question])\n",
        "  # bởi vì numpy sử dụng với mảng nên phải sử dụng đến to array\n",
        "  correlation = np.corrcoef(\n",
        "      query_embedded.toarray()[0],\n",
        "      context_embedded.toarray()\n",
        "      )\n",
        "  # lúc này ma trận corrlation sẽ là ma trận (n+1, n+1)\n",
        "  # với n là số hàng của ma trận context_embedded.toarray()\n",
        "   # Get top k cosine scores and index its\n",
        "  correlation = correlation[0][1:]\n",
        "  results = []\n",
        "  for idx in correlation.argsort()[-top_d:][::-1]:\n",
        "      doc_score = {\n",
        "          'id': idx,\n",
        "          'correlation': correlation[idx]\n",
        "      }\n",
        "      results.append(doc_score)\n",
        "\n",
        "  return results\n",
        "\n",
        "context_embedded = tf_idf_vectorizer.fit_transform(context)\n",
        "question = vi_data_df.iloc[0]['question']\n",
        "results = tfidf_corr_search(question, context_embedded, tf_idf_vectorizer, top_d=5)\n",
        "print(results[1]['correlation'])"
      ],
      "metadata": {
        "colab": {
          "base_uri": "https://localhost:8080/"
        },
        "id": "Ihk6J4dKGYUz",
        "outputId": "2ad44486-7ab8-4c40-d9f1-8997144752b0"
      },
      "execution_count": 28,
      "outputs": [
        {
          "output_type": "stream",
          "name": "stdout",
          "text": [
            "0.20734246471973258\n"
          ]
        }
      ]
    }
  ]
}