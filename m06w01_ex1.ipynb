{
  "nbformat": 4,
  "nbformat_minor": 0,
  "metadata": {
    "colab": {
      "provenance": [],
      "gpuType": "T4",
      "authorship_tag": "ABX9TyNJB7+BEtdq18eXd71B+cd4",
      "include_colab_link": true
    },
    "kernelspec": {
      "name": "python3",
      "display_name": "Python 3"
    },
    "language_info": {
      "name": "python"
    },
    "accelerator": "GPU"
  },
  "cells": [
    {
      "cell_type": "markdown",
      "metadata": {
        "id": "view-in-github",
        "colab_type": "text"
      },
      "source": [
        "<a href=\"https://colab.research.google.com/github/nguyenanhtienabcd/AIO2024_EXERCISE/blob/feature%2FMODULE6-WEEK1-EX1/m06w01_ex1.ipynb\" target=\"_parent\"><img src=\"https://colab.research.google.com/assets/colab-badge.svg\" alt=\"Open In Colab\"/></a>"
      ]
    },
    {
      "cell_type": "code",
      "execution_count": 1,
      "metadata": {
        "id": "DwE0XW4GEv-P"
      },
      "outputs": [],
      "source": [
        "import os\n",
        "import random\n",
        "import numpy as np\n",
        "\n",
        "import torch\n",
        "import torch.nn as nn\n",
        "import torch.optim as optim\n",
        "import torch.nn.functional as F\n",
        "import torch.utils.data as data\n",
        "import torchvision.datasets as datasets\n",
        "import torchvision.transforms as transforms\n",
        "import matplotlib.pyplot as plt\n",
        "from PIL import Image\n",
        "\n",
        "from  torch.utils.data import Dataset, DataLoader\n"
      ]
    },
    {
      "cell_type": "markdown",
      "source": [
        "### Lấy dữ liệu"
      ],
      "metadata": {
        "id": "oPYkjrpjGfvT"
      }
    },
    {
      "cell_type": "code",
      "source": [
        "root = './data'\n",
        "train_data = datasets.MNIST(root=root, train=True, download=True, transform=transforms.ToTensor())\n",
        "test_data = datasets.MNIST(root=root, train=False, download=True, transform=transforms.ToTensor())"
      ],
      "metadata": {
        "id": "bdWSeM-LGPSM",
        "colab": {
          "base_uri": "https://localhost:8080/"
        },
        "outputId": "4163fdac-3e51-4d7c-f498-87ae7362cdc1"
      },
      "execution_count": 2,
      "outputs": [
        {
          "output_type": "stream",
          "name": "stdout",
          "text": [
            "Downloading http://yann.lecun.com/exdb/mnist/train-images-idx3-ubyte.gz\n",
            "Failed to download (trying next):\n",
            "HTTP Error 403: Forbidden\n",
            "\n",
            "Downloading https://ossci-datasets.s3.amazonaws.com/mnist/train-images-idx3-ubyte.gz\n",
            "Downloading https://ossci-datasets.s3.amazonaws.com/mnist/train-images-idx3-ubyte.gz to ./data/MNIST/raw/train-images-idx3-ubyte.gz\n"
          ]
        },
        {
          "output_type": "stream",
          "name": "stderr",
          "text": [
            "100%|██████████| 9.91M/9.91M [00:00<00:00, 15.9MB/s]\n"
          ]
        },
        {
          "output_type": "stream",
          "name": "stdout",
          "text": [
            "Extracting ./data/MNIST/raw/train-images-idx3-ubyte.gz to ./data/MNIST/raw\n",
            "\n",
            "Downloading http://yann.lecun.com/exdb/mnist/train-labels-idx1-ubyte.gz\n",
            "Failed to download (trying next):\n",
            "HTTP Error 403: Forbidden\n",
            "\n",
            "Downloading https://ossci-datasets.s3.amazonaws.com/mnist/train-labels-idx1-ubyte.gz\n",
            "Downloading https://ossci-datasets.s3.amazonaws.com/mnist/train-labels-idx1-ubyte.gz to ./data/MNIST/raw/train-labels-idx1-ubyte.gz\n"
          ]
        },
        {
          "output_type": "stream",
          "name": "stderr",
          "text": [
            "100%|██████████| 28.9k/28.9k [00:00<00:00, 474kB/s]\n"
          ]
        },
        {
          "output_type": "stream",
          "name": "stdout",
          "text": [
            "Extracting ./data/MNIST/raw/train-labels-idx1-ubyte.gz to ./data/MNIST/raw\n",
            "\n",
            "Downloading http://yann.lecun.com/exdb/mnist/t10k-images-idx3-ubyte.gz\n",
            "Failed to download (trying next):\n",
            "HTTP Error 403: Forbidden\n",
            "\n",
            "Downloading https://ossci-datasets.s3.amazonaws.com/mnist/t10k-images-idx3-ubyte.gz\n",
            "Downloading https://ossci-datasets.s3.amazonaws.com/mnist/t10k-images-idx3-ubyte.gz to ./data/MNIST/raw/t10k-images-idx3-ubyte.gz\n"
          ]
        },
        {
          "output_type": "stream",
          "name": "stderr",
          "text": [
            "100%|██████████| 1.65M/1.65M [00:00<00:00, 4.36MB/s]\n"
          ]
        },
        {
          "output_type": "stream",
          "name": "stdout",
          "text": [
            "Extracting ./data/MNIST/raw/t10k-images-idx3-ubyte.gz to ./data/MNIST/raw\n",
            "\n",
            "Downloading http://yann.lecun.com/exdb/mnist/t10k-labels-idx1-ubyte.gz\n",
            "Failed to download (trying next):\n",
            "HTTP Error 403: Forbidden\n",
            "\n",
            "Downloading https://ossci-datasets.s3.amazonaws.com/mnist/t10k-labels-idx1-ubyte.gz\n",
            "Downloading https://ossci-datasets.s3.amazonaws.com/mnist/t10k-labels-idx1-ubyte.gz to ./data/MNIST/raw/t10k-labels-idx1-ubyte.gz\n"
          ]
        },
        {
          "output_type": "stream",
          "name": "stderr",
          "text": [
            "100%|██████████| 4.54k/4.54k [00:00<00:00, 15.5MB/s]"
          ]
        },
        {
          "output_type": "stream",
          "name": "stdout",
          "text": [
            "Extracting ./data/MNIST/raw/t10k-labels-idx1-ubyte.gz to ./data/MNIST/raw\n",
            "\n"
          ]
        },
        {
          "output_type": "stream",
          "name": "stderr",
          "text": [
            "\n"
          ]
        }
      ]
    },
    {
      "cell_type": "code",
      "source": [
        "valid_radio = 0.9\n",
        "\n",
        "n_train_examples = int(len(train_data)*valid_radio)\n",
        "n_valid_examples = len(train_data) - n_train_examples\n",
        "\n",
        "train_data, valid_data = data.random_split(train_data, [n_train_examples, n_valid_examples])\n",
        "\n",
        "# tính toán mean và std khi normalization cho dữ liệu\n",
        "mean = train_data.dataset.data.float().mean()/255\n",
        "std = train_data.dataset.data.float().std()/255\n",
        "\n",
        "train_transforms = transforms.Compose([\n",
        "    transforms.ToTensor(),\n",
        "    transforms.Normalize(mean = [mean], std = [std])\n",
        "])\n",
        "\n",
        "test_transforms = transforms.Compose([\n",
        "    transforms.ToTensor(),\n",
        "    transforms.Normalize(mean = [mean], std = [std])\n",
        "])\n",
        "\n",
        "train_data.dataset.transform = train_transforms\n",
        "valid_data.dataset.transform = test_transforms\n",
        "test_data.transform = test_transforms"
      ],
      "metadata": {
        "id": "dhCf8wA6HMPe"
      },
      "execution_count": 3,
      "outputs": []
    },
    {
      "cell_type": "code",
      "source": [
        "print(len(train_data))\n",
        "# Get the first image and its label from the train_data Subset\n",
        "image, label = train_data[0]\n",
        "\n",
        "# Print the shape of the image\n",
        "print(image.shape)"
      ],
      "metadata": {
        "colab": {
          "base_uri": "https://localhost:8080/"
        },
        "id": "tnsf4bZPGrSh",
        "outputId": "c4719607-1e30-4412-aed0-1cd4e8deceb6"
      },
      "execution_count": 4,
      "outputs": [
        {
          "output_type": "stream",
          "name": "stdout",
          "text": [
            "54000\n",
            "torch.Size([1, 28, 28])\n"
          ]
        }
      ]
    },
    {
      "cell_type": "code",
      "source": [
        "# create dataloader\n",
        "batch_size = 256\n",
        "\n",
        "train_dataloader = DataLoader(train_data, shuffle=True, batch_size=batch_size)\n",
        "test_dataloader = DataLoader(valid_data, batch_size=batch_size)\n"
      ],
      "metadata": {
        "id": "Rqfp1HzzMD24"
      },
      "execution_count": 5,
      "outputs": []
    },
    {
      "cell_type": "code",
      "source": [
        "class LeNetClassifier(nn.Module):\n",
        "  def __init__(self, num_classes):\n",
        "    super(LeNetClassifier, self).__init__()\n",
        "    self.conv1 = nn.Conv2d(in_channels=1,\n",
        "                           out_channels=6,\n",
        "                           kernel_size=5,\n",
        "                           stride=1,\n",
        "                           padding = 'same')\n",
        "    self.avgpool = nn.AvgPool2d(kernel_size=2)\n",
        "    self.conv2 = nn.Conv2d(in_channels=6,\n",
        "                           out_channels=16,\n",
        "                           kernel_size=5,\n",
        "                           stride=1,\n",
        "                           padding = 'same')\n",
        "    self.avgpool2 = nn.AvgPool2d(kernel_size=2)\n",
        "    self.flatten = nn.Flatten()\n",
        "    self.fc1 = nn.Linear(7*7*16, 120)\n",
        "    self.fc2 = nn.Linear(120, 84)\n",
        "    self.fc3 = nn.Linear(84, num_classes)\n",
        "\n",
        "  def forward(self, x):\n",
        "    out = self.conv1(x)\n",
        "    out = self.avgpool(out)\n",
        "    out = F.relu(out)\n",
        "\n",
        "    out = self.conv2(out)\n",
        "    out = self.avgpool2(out)\n",
        "    out = F.relu(out)\n",
        "\n",
        "    out = self.flatten(out)\n",
        "    out = self.fc1(out)\n",
        "    out = self.fc2(out)\n",
        "    out = self.fc3(out)\n",
        "    return out\n"
      ],
      "metadata": {
        "id": "4Z_kUTYcOaTa"
      },
      "execution_count": 6,
      "outputs": []
    },
    {
      "cell_type": "markdown",
      "source": [
        "### hàm training"
      ],
      "metadata": {
        "id": "qaT7KW1QFEFr"
      }
    },
    {
      "cell_type": "code",
      "source": [
        "import time\n",
        "def train(model, optimizer, loss_fn, train_dataloader, device, epoch = 0,\n",
        "          log_interval = 50):\n",
        "    model.train()\n",
        "    total_acc, total_count = 0., 0.\n",
        "    losses = []\n",
        "    start_time = time.time()\n",
        "    for batch, (X, y) in enumerate(train_dataloader):\n",
        "        X, y = X.to(device), y.to(device)\n",
        "\n",
        "        optimizer.zero_grad()\n",
        "        y_pred = model(X)\n",
        "        loss = loss_fn(y_pred, y)\n",
        "        losses.append(loss.item())\n",
        "        loss.backward()\n",
        "        optimizer.step()\n",
        "\n",
        "        # mục đích để hạn chế đầu ra của gradient tránh bị explosion gradient\n",
        "        torch.nn.utils.clip_grad_norm_(model.parameters(), 1.0)\n",
        "        #----\n",
        "\n",
        "        # mục đích đẻ tích dần dần số accuracy sau khi chạy xong epoch\n",
        "        total_acc += (y_pred.argmax(dim=1) == y).sum().item()\n",
        "        total_count += y.size(0)\n",
        "\n",
        "        if batch % log_interval == 0 and batch > 0:\n",
        "          eslapsed_time = time.time() - start_time\n",
        "          print('| epoch {:3d} | {:5d}/{:5d} batches '\n",
        "                '| accuracy {:8.3f}'.format(epoch, batch, len(train_dataloader),\n",
        "                                            total_acc/total_count))\n",
        "          total_acc, total_count = 0, 0\n",
        "          start_time = time.time()\n",
        "\n",
        "    epoch_acc = total_acc/total_count\n",
        "    epoch_loss = np.mean(losses)\n",
        "    return epoch_acc, epoch_loss\n",
        "\n"
      ],
      "metadata": {
        "id": "duvcFxGCTROU"
      },
      "execution_count": 7,
      "outputs": []
    },
    {
      "cell_type": "markdown",
      "source": [
        "### Hàm đánh giá"
      ],
      "metadata": {
        "id": "QB1jNHd8FHRw"
      }
    },
    {
      "cell_type": "code",
      "source": [
        "def evaluate(model, loss_fn, dataloader, device):\n",
        "  total_acc, total_count = 0., 0.\n",
        "  losses = []\n",
        "  model.eval()\n",
        "  with torch.no_grad():\n",
        "    for X, y in dataloader:\n",
        "      X, y = X.to(device), y.to(device)\n",
        "      y_pred = model(X)\n",
        "      loss = loss_fn(y_pred, y)\n",
        "      losses.append(loss.item())\n",
        "\n",
        "      total_acc += (y_pred.argmax(dim=1) == y).sum().item()\n",
        "      total_count += y.size(0)\n",
        "  epoch_acc = total_acc/total_count\n",
        "  epoch_loss = np.mean(losses)\n",
        "  return epoch_acc, epoch_loss"
      ],
      "metadata": {
        "id": "yTWtPddBFCIZ"
      },
      "execution_count": 8,
      "outputs": []
    },
    {
      "cell_type": "markdown",
      "source": [
        "### trainning model"
      ],
      "metadata": {
        "id": "CoLuZX-QH1Ul"
      }
    },
    {
      "cell_type": "code",
      "source": [
        "device = torch.device('cuda' if torch.cuda.is_available() else 'cpu')"
      ],
      "metadata": {
        "id": "Rjrk9Oet95mU"
      },
      "execution_count": 9,
      "outputs": []
    },
    {
      "cell_type": "code",
      "source": [
        "number_class = len(train_data.dataset.classes)\n",
        "model = LeNetClassifier(number_class).to(device)\n",
        "optimizer = optim.Adam(model.parameters(), lr=0.001)\n",
        "loss_fn = nn.CrossEntropyLoss()\n",
        "\n",
        "num_epochs = 10\n",
        "save_model = './model'\n",
        "\n",
        "# Create the directory if it doesn't exist\n",
        "if not os.path.exists(save_model):\n",
        "    os.makedirs(save_model)\n",
        "\n",
        "train_acc, loss_acc = [], []\n",
        "val_acc, val_loss = [], []\n",
        "best_loss_val = 100\n",
        "\n",
        "for epoch in range(1, num_epochs+1):\n",
        "  epoch_train_acc, epoch_train_loss = train(model, optimizer, loss_fn, train_dataloader, device, epoch)\n",
        "  epoch_val_acc, epoch_val_loss = evaluate(model, loss_fn, test_dataloader, device)\n",
        "  train_acc.append(epoch_train_acc)\n",
        "  loss_acc.append(epoch_train_loss)\n",
        "\n",
        "  val_acc.append(epoch_val_acc)\n",
        "  val_loss.append(epoch_val_loss)\n",
        "\n",
        "  # save  best model\n",
        "  if epoch_val_loss < best_loss_val:\n",
        "    best_loss_val = epoch_val_loss\n",
        "    torch.save(model.state_dict(), os.path.join(save_model, 'best_model.pt'))\n",
        "\n",
        "  print('-' * 59)\n",
        "  print('| end of epoch {:3d} | train accuracy {:8.3f} | val accuracy {:8.3f} | train loss {:8.3f} | val loss {:8.3f}'.format(epoch,\n",
        "                                                        epoch_train_acc,\n",
        "                                                        epoch_val_acc,\n",
        "                                                        epoch_train_loss,\n",
        "                                                        epoch_val_loss))\n",
        "\n",
        "  # load best model\n",
        "  print('-' * 59)\n",
        "  model.load_state_dict(torch.load(os.path.join(save_model, 'best_model.pt')))\n",
        "  model.eval()\n",
        "\n",
        "\n"
      ],
      "metadata": {
        "colab": {
          "base_uri": "https://localhost:8080/"
        },
        "id": "sQQf34t3H3Zh",
        "outputId": "163c6266-bad9-4a50-f0ad-45143a5434d4"
      },
      "execution_count": 10,
      "outputs": [
        {
          "output_type": "stream",
          "name": "stdout",
          "text": [
            "| epoch   1 |    50/  211 batches | accuracy    0.719\n",
            "| epoch   1 |   100/  211 batches | accuracy    0.890\n",
            "| epoch   1 |   150/  211 batches | accuracy    0.911\n",
            "| epoch   1 |   200/  211 batches | accuracy    0.929\n",
            "-----------------------------------------------------------\n",
            "| end of epoch   1 | train accuracy    0.938 | val accuracy    0.937 | train loss    0.476 | val loss    0.220\n",
            "-----------------------------------------------------------\n"
          ]
        },
        {
          "output_type": "stream",
          "name": "stderr",
          "text": [
            "<ipython-input-10-38803df4d3e8>:40: FutureWarning: You are using `torch.load` with `weights_only=False` (the current default value), which uses the default pickle module implicitly. It is possible to construct malicious pickle data which will execute arbitrary code during unpickling (See https://github.com/pytorch/pytorch/blob/main/SECURITY.md#untrusted-models for more details). In a future release, the default value for `weights_only` will be flipped to `True`. This limits the functions that could be executed during unpickling. Arbitrary objects will no longer be allowed to be loaded via this mode unless they are explicitly allowlisted by the user via `torch.serialization.add_safe_globals`. We recommend you start setting `weights_only=True` for any use case where you don't have full control of the loaded file. Please open an issue on GitHub for any issues related to this experimental feature.\n",
            "  model.load_state_dict(torch.load(os.path.join(save_model, 'best_model.pt')))\n"
          ]
        },
        {
          "output_type": "stream",
          "name": "stdout",
          "text": [
            "| epoch   2 |    50/  211 batches | accuracy    0.949\n",
            "| epoch   2 |   100/  211 batches | accuracy    0.955\n",
            "| epoch   2 |   150/  211 batches | accuracy    0.956\n",
            "| epoch   2 |   200/  211 batches | accuracy    0.965\n",
            "-----------------------------------------------------------\n",
            "| end of epoch   2 | train accuracy    0.963 | val accuracy    0.964 | train loss    0.149 | val loss    0.127\n",
            "-----------------------------------------------------------\n",
            "| epoch   3 |    50/  211 batches | accuracy    0.967\n",
            "| epoch   3 |   100/  211 batches | accuracy    0.969\n",
            "| epoch   3 |   150/  211 batches | accuracy    0.972\n",
            "| epoch   3 |   200/  211 batches | accuracy    0.973\n",
            "-----------------------------------------------------------\n",
            "| end of epoch   3 | train accuracy    0.974 | val accuracy    0.969 | train loss    0.096 | val loss    0.106\n",
            "-----------------------------------------------------------\n",
            "| epoch   4 |    50/  211 batches | accuracy    0.973\n",
            "| epoch   4 |   100/  211 batches | accuracy    0.977\n",
            "| epoch   4 |   150/  211 batches | accuracy    0.976\n",
            "| epoch   4 |   200/  211 batches | accuracy    0.978\n",
            "-----------------------------------------------------------\n",
            "| end of epoch   4 | train accuracy    0.982 | val accuracy    0.972 | train loss    0.077 | val loss    0.091\n",
            "-----------------------------------------------------------\n",
            "| epoch   5 |    50/  211 batches | accuracy    0.977\n",
            "| epoch   5 |   100/  211 batches | accuracy    0.980\n",
            "| epoch   5 |   150/  211 batches | accuracy    0.981\n",
            "| epoch   5 |   200/  211 batches | accuracy    0.981\n",
            "-----------------------------------------------------------\n",
            "| end of epoch   5 | train accuracy    0.977 | val accuracy    0.977 | train loss    0.065 | val loss    0.085\n",
            "-----------------------------------------------------------\n",
            "| epoch   6 |    50/  211 batches | accuracy    0.983\n",
            "| epoch   6 |   100/  211 batches | accuracy    0.983\n",
            "| epoch   6 |   150/  211 batches | accuracy    0.982\n",
            "| epoch   6 |   200/  211 batches | accuracy    0.983\n",
            "-----------------------------------------------------------\n",
            "| end of epoch   6 | train accuracy    0.975 | val accuracy    0.976 | train loss    0.057 | val loss    0.077\n",
            "-----------------------------------------------------------\n",
            "| epoch   7 |    50/  211 batches | accuracy    0.981\n",
            "| epoch   7 |   100/  211 batches | accuracy    0.982\n",
            "| epoch   7 |   150/  211 batches | accuracy    0.986\n",
            "| epoch   7 |   200/  211 batches | accuracy    0.984\n",
            "-----------------------------------------------------------\n",
            "| end of epoch   7 | train accuracy    0.985 | val accuracy    0.979 | train loss    0.054 | val loss    0.070\n",
            "-----------------------------------------------------------\n",
            "| epoch   8 |    50/  211 batches | accuracy    0.986\n",
            "| epoch   8 |   100/  211 batches | accuracy    0.985\n",
            "| epoch   8 |   150/  211 batches | accuracy    0.986\n",
            "| epoch   8 |   200/  211 batches | accuracy    0.986\n",
            "-----------------------------------------------------------\n",
            "| end of epoch   8 | train accuracy    0.983 | val accuracy    0.980 | train loss    0.047 | val loss    0.070\n",
            "-----------------------------------------------------------\n",
            "| epoch   9 |    50/  211 batches | accuracy    0.988\n",
            "| epoch   9 |   100/  211 batches | accuracy    0.986\n",
            "| epoch   9 |   150/  211 batches | accuracy    0.986\n",
            "| epoch   9 |   200/  211 batches | accuracy    0.985\n",
            "-----------------------------------------------------------\n",
            "| end of epoch   9 | train accuracy    0.983 | val accuracy    0.978 | train loss    0.044 | val loss    0.071\n",
            "-----------------------------------------------------------\n",
            "| epoch  10 |    50/  211 batches | accuracy    0.987\n",
            "| epoch  10 |   100/  211 batches | accuracy    0.988\n",
            "| epoch  10 |   150/  211 batches | accuracy    0.987\n",
            "| epoch  10 |   200/  211 batches | accuracy    0.986\n",
            "-----------------------------------------------------------\n",
            "| end of epoch  10 | train accuracy    0.989 | val accuracy    0.980 | train loss    0.042 | val loss    0.072\n",
            "-----------------------------------------------------------\n"
          ]
        }
      ]
    },
    {
      "cell_type": "code",
      "source": [
        "# traing with test data\n",
        "test_dataloader = DataLoader(test_data, batch_size=batch_size)\n",
        "test_acc, test_loss = evaluate(model, loss_fn, test_dataloader, device)\n",
        "print('test accuracy: ', test_acc)\n",
        "print('test loss: ', test_loss)"
      ],
      "metadata": {
        "colab": {
          "base_uri": "https://localhost:8080/"
        },
        "id": "FB-5GctAOJaO",
        "outputId": "701ee7d4-9b62-4f92-cc4b-64a4adef9b86"
      },
      "execution_count": 11,
      "outputs": [
        {
          "output_type": "stream",
          "name": "stdout",
          "text": [
            "test accuracy:  0.9869\n",
            "test loss:  0.04312468100033584\n"
          ]
        }
      ]
    },
    {
      "cell_type": "code",
      "source": [
        "import matplotlib.pyplot as plt\n",
        "plt.plot(train_acc, label='train_acc')\n",
        "plt.plot(val_acc, label='val_acc')\n",
        "plt.legend()\n",
        "plt.show()"
      ],
      "metadata": {
        "colab": {
          "base_uri": "https://localhost:8080/",
          "height": 430
        },
        "id": "yUCQhxB0ZD3g",
        "outputId": "21d117fd-8fba-4327-8810-00c34835ce8f"
      },
      "execution_count": 12,
      "outputs": [
        {
          "output_type": "display_data",
          "data": {
            "text/plain": [
              "<Figure size 640x480 with 1 Axes>"
            ],
            "image/png": "[encoded data removed]"
          },
          "metadata": {}
        }
      ]
    }
  ]
}