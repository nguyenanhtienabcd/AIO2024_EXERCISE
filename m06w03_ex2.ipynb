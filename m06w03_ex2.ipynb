{
  "nbformat": 4,
  "nbformat_minor": 0,
  "metadata": {
    "colab": {
      "provenance": [],
      "gpuType": "T4",
      "authorship_tag": "ABX9TyMU8S8VR5/UcpT3cT4KhGWU",
      "include_colab_link": true
    },
    "kernelspec": {
      "name": "python3",
      "display_name": "Python 3"
    },
    "language_info": {
      "name": "python"
    },
    "accelerator": "GPU"
  },
  "cells": [
    {
      "cell_type": "markdown",
      "metadata": {
        "id": "view-in-github",
        "colab_type": "text"
      },
      "source": [
        "<a href=\"https://colab.research.google.com/github/nguyenanhtienabcd/AIO2024_EXERCISE/blob/feature%2FMODULE6-WEEK3/m06w03_ex2.ipynb\" target=\"_parent\"><img src=\"https://colab.research.google.com/assets/colab-badge.svg\" alt=\"Open In Colab\"/></a>"
      ]
    },
    {
      "cell_type": "markdown",
      "source": [
        "# Hourly Temperature Forecast"
      ],
      "metadata": {
        "id": "NaBcYsE-MmCE"
      }
    },
    {
      "cell_type": "code",
      "source": [
        "import torch\n",
        "import torch.nn as nn\n",
        "\n",
        "seed = 42\n",
        "torch.manual_seed(seed)\n",
        "import numpy as np\n",
        "import pandas as pd\n",
        "import matplotlib.pyplot as plt\n",
        "\n",
        "from torch.utils.data import Dataset, DataLoader"
      ],
      "metadata": {
        "id": "PgWP-6ZZMlNg"
      },
      "execution_count": 1,
      "outputs": []
    },
    {
      "cell_type": "markdown",
      "source": [
        "## Tải dữ liệu"
      ],
      "metadata": {
        "id": "TojHcRi5Nmxn"
      }
    },
    {
      "cell_type": "code",
      "source": [
        "!gdown 178YSDYmlRh54IcxStgYA3UyKFRM9-3DO"
      ],
      "metadata": {
        "colab": {
          "base_uri": "https://localhost:8080/"
        },
        "id": "jJvWSLsaNmi_",
        "outputId": "7ead6a92-90f1-4d8d-e5a3-a63bff31cdd4"
      },
      "execution_count": 2,
      "outputs": [
        {
          "output_type": "stream",
          "name": "stdout",
          "text": [
            "Downloading...\n",
            "From: https://drive.google.com/uc?id=178YSDYmlRh54IcxStgYA3UyKFRM9-3DO\n",
            "To: /content/dataset.zip\n",
            "\r  0% 0.00/2.35M [00:00<?, ?B/s]\r100% 2.35M/2.35M [00:00<00:00, 162MB/s]\n"
          ]
        }
      ]
    },
    {
      "cell_type": "code",
      "source": [
        "!unzip \"./dataset.zip\""
      ],
      "metadata": {
        "colab": {
          "base_uri": "https://localhost:8080/"
        },
        "id": "iDNNgre8MjiJ",
        "outputId": "b919c8c8-0ce6-4c71-a75c-c516043724fd"
      },
      "execution_count": 3,
      "outputs": [
        {
          "output_type": "stream",
          "name": "stdout",
          "text": [
            "Archive:  ./dataset.zip\n",
            "   creating: dataset/\n",
            "  inflating: dataset/weatherHistory.csv  \n"
          ]
        }
      ]
    },
    {
      "cell_type": "markdown",
      "source": [
        "## Read data"
      ],
      "metadata": {
        "id": "SiDPYZpyOE-H"
      }
    },
    {
      "cell_type": "code",
      "source": [
        "data_path = '/content/dataset/weatherHistory.csv'\n",
        "df = pd.read_csv(data_path)\n",
        "univariate_df = df[['Temperature (C)']]\n",
        "univariate_df.index = pd.to_datetime(df['Formatted Date']) # chuyển dữ liệu này thành index"
      ],
      "metadata": {
        "id": "M7Yr9gWYODcs",
        "colab": {
          "base_uri": "https://localhost:8080/"
        },
        "outputId": "9c8e940c-321a-4b4b-90cf-f7d1733ef59a"
      },
      "execution_count": 4,
      "outputs": [
        {
          "output_type": "stream",
          "name": "stderr",
          "text": [
            "<ipython-input-4-88a9dc6def73>:4: FutureWarning: In a future version of pandas, parsing datetimes with mixed time zones will raise an error unless `utc=True`. Please specify `utc=True` to opt in to the new behaviour and silence this warning. To create a `Series` with mixed offsets and `object` dtype, please use `apply` and `datetime.datetime.strptime`\n",
            "  univariate_df.index = pd.to_datetime(df['Formatted Date']) # chuyển dữ liệu này thành index\n"
          ]
        }
      ]
    },
    {
      "cell_type": "code",
      "source": [
        "univariate_df"
      ],
      "metadata": {
        "colab": {
          "base_uri": "https://localhost:8080/",
          "height": 455
        },
        "id": "jm6d4OX_oGK3",
        "outputId": "3b5fad18-8770-4798-cb41-edd1d82696b1"
      },
      "execution_count": 5,
      "outputs": [
        {
          "output_type": "execute_result",
          "data": {
            "text/plain": [
              "                           Temperature (C)\n",
              "Formatted Date                            \n",
              "2006-04-01 00:00:00+02:00         9.472222\n",
              "2006-04-01 01:00:00+02:00         9.355556\n",
              "2006-04-01 02:00:00+02:00         9.377778\n",
              "2006-04-01 03:00:00+02:00         8.288889\n",
              "2006-04-01 04:00:00+02:00         8.755556\n",
              "...                                    ...\n",
              "2016-09-09 19:00:00+02:00        26.016667\n",
              "2016-09-09 20:00:00+02:00        24.583333\n",
              "2016-09-09 21:00:00+02:00        22.038889\n",
              "2016-09-09 22:00:00+02:00        21.522222\n",
              "2016-09-09 23:00:00+02:00        20.438889\n",
              "\n",
              "[96453 rows x 1 columns]"
            ],
            "text/html": [
              "\n",
              "  <div id=\"df-596172b7-bdc8-4274-a2b9-3f2460c5a525\" class=\"colab-df-container\">\n",
              "    <div>\n",
              "<style scoped>\n",
              "    .dataframe tbody tr th:only-of-type {\n",
              "        vertical-align: middle;\n",
              "    }\n",
              "\n",
              "    .dataframe tbody tr th {\n",
              "        vertical-align: top;\n",
              "    }\n",
              "\n",
              "    .dataframe thead th {\n",
              "        text-align: right;\n",
              "    }\n",
              "</style>\n",
              "<table border=\"1\" class=\"dataframe\">\n",
              "  <thead>\n",
              "    <tr style=\"text-align: right;\">\n",
              "      <th></th>\n",
              "      <th>Temperature (C)</th>\n",
              "    </tr>\n",
              "    <tr>\n",
              "      <th>Formatted Date</th>\n",
              "      <th></th>\n",
              "    </tr>\n",
              "  </thead>\n",
              "  <tbody>\n",
              "    <tr>\n",
              "      <th>2006-04-01 00:00:00+02:00</th>\n",
              "      <td>9.472222</td>\n",
              "    </tr>\n",
              "    <tr>\n",
              "      <th>2006-04-01 01:00:00+02:00</th>\n",
              "      <td>9.355556</td>\n",
              "    </tr>\n",
              "    <tr>\n",
              "      <th>2006-04-01 02:00:00+02:00</th>\n",
              "      <td>9.377778</td>\n",
              "    </tr>\n",
              "    <tr>\n",
              "      <th>2006-04-01 03:00:00+02:00</th>\n",
              "      <td>8.288889</td>\n",
              "    </tr>\n",
              "    <tr>\n",
              "      <th>2006-04-01 04:00:00+02:00</th>\n",
              "      <td>8.755556</td>\n",
              "    </tr>\n",
              "    <tr>\n",
              "      <th>...</th>\n",
              "      <td>...</td>\n",
              "    </tr>\n",
              "    <tr>\n",
              "      <th>2016-09-09 19:00:00+02:00</th>\n",
              "      <td>26.016667</td>\n",
              "    </tr>\n",
              "    <tr>\n",
              "      <th>2016-09-09 20:00:00+02:00</th>\n",
              "      <td>24.583333</td>\n",
              "    </tr>\n",
              "    <tr>\n",
              "      <th>2016-09-09 21:00:00+02:00</th>\n",
              "      <td>22.038889</td>\n",
              "    </tr>\n",
              "    <tr>\n",
              "      <th>2016-09-09 22:00:00+02:00</th>\n",
              "      <td>21.522222</td>\n",
              "    </tr>\n",
              "    <tr>\n",
              "      <th>2016-09-09 23:00:00+02:00</th>\n",
              "      <td>20.438889</td>\n",
              "    </tr>\n",
              "  </tbody>\n",
              "</table>\n",
              "<p>96453 rows × 1 columns</p>\n",
              "</div>\n",
              "    <div class=\"colab-df-buttons\">\n",
              "\n",
              "  <div class=\"colab-df-container\">\n",
              "    <button class=\"colab-df-convert\" onclick=\"convertToInteractive('df-596172b7-bdc8-4274-a2b9-3f2460c5a525')\"\n",
              "            title=\"Convert this dataframe to an interactive table.\"\n",
              "            style=\"display:none;\">\n",
              "\n",
              "  <svg xmlns=\"http://www.w3.org/2000/svg\" height=\"24px\" viewBox=\"0 -960 960 960\">\n",
              "    <path d=\"M120-120v-720h720v720H120Zm60-500h600v-160H180v160Zm220 220h160v-160H400v160Zm0 220h160v-160H400v160ZM180-400h160v-160H180v160Zm440 0h160v-160H620v160ZM180-180h160v-160H180v160Zm440 0h160v-160H620v160Z\"/>\n",
              "  </svg>\n",
              "    </button>\n",
              "\n",
              "  <style>\n",
              "    .colab-df-container {\n",
              "      display:flex;\n",
              "      gap: 12px;\n",
              "    }\n",
              "\n",
              "    .colab-df-convert {\n",
              "      background-color: #E8F0FE;\n",
              "      border: none;\n",
              "      border-radius: 50%;\n",
              "      cursor: pointer;\n",
              "      display: none;\n",
              "      fill: #1967D2;\n",
              "      height: 32px;\n",
              "      padding: 0 0 0 0;\n",
              "      width: 32px;\n",
              "    }\n",
              "\n",
              "    .colab-df-convert:hover {\n",
              "      background-color: #E2EBFA;\n",
              "      box-shadow: 0px 1px 2px rgba(60, 64, 67, 0.3), 0px 1px 3px 1px rgba(60, 64, 67, 0.15);\n",
              "      fill: #174EA6;\n",
              "    }\n",
              "\n",
              "    .colab-df-buttons div {\n",
              "      margin-bottom: 4px;\n",
              "    }\n",
              "\n",
              "    [theme=dark] .colab-df-convert {\n",
              "      background-color: #3B4455;\n",
              "      fill: #D2E3FC;\n",
              "    }\n",
              "\n",
              "    [theme=dark] .colab-df-convert:hover {\n",
              "      background-color: #434B5C;\n",
              "      box-shadow: 0px 1px 3px 1px rgba(0, 0, 0, 0.15);\n",
              "      filter: drop-shadow(0px 1px 2px rgba(0, 0, 0, 0.3));\n",
              "      fill: #FFFFFF;\n",
              "    }\n",
              "  </style>\n",
              "\n",
              "    <script>\n",
              "      const buttonEl =\n",
              "        document.querySelector('#df-596172b7-bdc8-4274-a2b9-3f2460c5a525 button.colab-df-convert');\n",
              "      buttonEl.style.display =\n",
              "        google.colab.kernel.accessAllowed ? 'block' : 'none';\n",
              "\n",
              "      async function convertToInteractive(key) {\n",
              "        const element = document.querySelector('#df-596172b7-bdc8-4274-a2b9-3f2460c5a525');\n",
              "        const dataTable =\n",
              "          await google.colab.kernel.invokeFunction('convertToInteractive',\n",
              "                                                    [key], {});\n",
              "        if (!dataTable) return;\n",
              "\n",
              "        const docLinkHtml = 'Like what you see? Visit the ' +\n",
              "          '<a target=\"_blank\" href=https://colab.research.google.com/notebooks/data_table.ipynb>data table notebook</a>'\n",
              "          + ' to learn more about interactive tables.';\n",
              "        element.innerHTML = '';\n",
              "        dataTable['output_type'] = 'display_data';\n",
              "        await google.colab.output.renderOutput(dataTable, element);\n",
              "        const docLink = document.createElement('div');\n",
              "        docLink.innerHTML = docLinkHtml;\n",
              "        element.appendChild(docLink);\n",
              "      }\n",
              "    </script>\n",
              "  </div>\n",
              "\n",
              "\n",
              "<div id=\"df-437703e1-3234-4558-8666-06944d884746\">\n",
              "  <button class=\"colab-df-quickchart\" onclick=\"quickchart('df-437703e1-3234-4558-8666-06944d884746')\"\n",
              "            title=\"Suggest charts\"\n",
              "            style=\"display:none;\">\n",
              "\n",
              "<svg xmlns=\"http://www.w3.org/2000/svg\" height=\"24px\"viewBox=\"0 0 24 24\"\n",
              "     width=\"24px\">\n",
              "    <g>\n",
              "        <path d=\"M19 3H5c-1.1 0-2 .9-2 2v14c0 1.1.9 2 2 2h14c1.1 0 2-.9 2-2V5c0-1.1-.9-2-2-2zM9 17H7v-7h2v7zm4 0h-2V7h2v10zm4 0h-2v-4h2v4z\"/>\n",
              "    </g>\n",
              "</svg>\n",
              "  </button>\n",
              "\n",
              "<style>\n",
              "  .colab-df-quickchart {\n",
              "      --bg-color: #E8F0FE;\n",
              "      --fill-color: #1967D2;\n",
              "      --hover-bg-color: #E2EBFA;\n",
              "      --hover-fill-color: #174EA6;\n",
              "      --disabled-fill-color: #AAA;\n",
              "      --disabled-bg-color: #DDD;\n",
              "  }\n",
              "\n",
              "  [theme=dark] .colab-df-quickchart {\n",
              "      --bg-color: #3B4455;\n",
              "      --fill-color: #D2E3FC;\n",
              "      --hover-bg-color: #434B5C;\n",
              "      --hover-fill-color: #FFFFFF;\n",
              "      --disabled-bg-color: #3B4455;\n",
              "      --disabled-fill-color: #666;\n",
              "  }\n",
              "\n",
              "  .colab-df-quickchart {\n",
              "    background-color: var(--bg-color);\n",
              "    border: none;\n",
              "    border-radius: 50%;\n",
              "    cursor: pointer;\n",
              "    display: none;\n",
              "    fill: var(--fill-color);\n",
              "    height: 32px;\n",
              "    padding: 0;\n",
              "    width: 32px;\n",
              "  }\n",
              "\n",
              "  .colab-df-quickchart:hover {\n",
              "    background-color: var(--hover-bg-color);\n",
              "    box-shadow: 0 1px 2px rgba(60, 64, 67, 0.3), 0 1px 3px 1px rgba(60, 64, 67, 0.15);\n",
              "    fill: var(--button-hover-fill-color);\n",
              "  }\n",
              "\n",
              "  .colab-df-quickchart-complete:disabled,\n",
              "  .colab-df-quickchart-complete:disabled:hover {\n",
              "    background-color: var(--disabled-bg-color);\n",
              "    fill: var(--disabled-fill-color);\n",
              "    box-shadow: none;\n",
              "  }\n",
              "\n",
              "  .colab-df-spinner {\n",
              "    border: 2px solid var(--fill-color);\n",
              "    border-color: transparent;\n",
              "    border-bottom-color: var(--fill-color);\n",
              "    animation:\n",
              "      spin 1s steps(1) infinite;\n",
              "  }\n",
              "\n",
              "  @keyframes spin {\n",
              "    0% {\n",
              "      border-color: transparent;\n",
              "      border-bottom-color: var(--fill-color);\n",
              "      border-left-color: var(--fill-color);\n",
              "    }\n",
              "    20% {\n",
              "      border-color: transparent;\n",
              "      border-left-color: var(--fill-color);\n",
              "      border-top-color: var(--fill-color);\n",
              "    }\n",
              "    30% {\n",
              "      border-color: transparent;\n",
              "      border-left-color: var(--fill-color);\n",
              "      border-top-color: var(--fill-color);\n",
              "      border-right-color: var(--fill-color);\n",
              "    }\n",
              "    40% {\n",
              "      border-color: transparent;\n",
              "      border-right-color: var(--fill-color);\n",
              "      border-top-color: var(--fill-color);\n",
              "    }\n",
              "    60% {\n",
              "      border-color: transparent;\n",
              "      border-right-color: var(--fill-color);\n",
              "    }\n",
              "    80% {\n",
              "      border-color: transparent;\n",
              "      border-right-color: var(--fill-color);\n",
              "      border-bottom-color: var(--fill-color);\n",
              "    }\n",
              "    90% {\n",
              "      border-color: transparent;\n",
              "      border-bottom-color: var(--fill-color);\n",
              "    }\n",
              "  }\n",
              "</style>\n",
              "\n",
              "  <script>\n",
              "    async function quickchart(key) {\n",
              "      const quickchartButtonEl =\n",
              "        document.querySelector('#' + key + ' button');\n",
              "      quickchartButtonEl.disabled = true;  // To prevent multiple clicks.\n",
              "      quickchartButtonEl.classList.add('colab-df-spinner');\n",
              "      try {\n",
              "        const charts = await google.colab.kernel.invokeFunction(\n",
              "            'suggestCharts', [key], {});\n",
              "      } catch (error) {\n",
              "        console.error('Error during call to suggestCharts:', error);\n",
              "      }\n",
              "      quickchartButtonEl.classList.remove('colab-df-spinner');\n",
              "      quickchartButtonEl.classList.add('colab-df-quickchart-complete');\n",
              "    }\n",
              "    (() => {\n",
              "      let quickchartButtonEl =\n",
              "        document.querySelector('#df-437703e1-3234-4558-8666-06944d884746 button');\n",
              "      quickchartButtonEl.style.display =\n",
              "        google.colab.kernel.accessAllowed ? 'block' : 'none';\n",
              "    })();\n",
              "  </script>\n",
              "</div>\n",
              "\n",
              "  <div id=\"id_264f5933-d215-4521-b616-6c078f249d79\">\n",
              "    <style>\n",
              "      .colab-df-generate {\n",
              "        background-color: #E8F0FE;\n",
              "        border: none;\n",
              "        border-radius: 50%;\n",
              "        cursor: pointer;\n",
              "        display: none;\n",
              "        fill: #1967D2;\n",
              "        height: 32px;\n",
              "        padding: 0 0 0 0;\n",
              "        width: 32px;\n",
              "      }\n",
              "\n",
              "      .colab-df-generate:hover {\n",
              "        background-color: #E2EBFA;\n",
              "        box-shadow: 0px 1px 2px rgba(60, 64, 67, 0.3), 0px 1px 3px 1px rgba(60, 64, 67, 0.15);\n",
              "        fill: #174EA6;\n",
              "      }\n",
              "\n",
              "      [theme=dark] .colab-df-generate {\n",
              "        background-color: #3B4455;\n",
              "        fill: #D2E3FC;\n",
              "      }\n",
              "\n",
              "      [theme=dark] .colab-df-generate:hover {\n",
              "        background-color: #434B5C;\n",
              "        box-shadow: 0px 1px 3px 1px rgba(0, 0, 0, 0.15);\n",
              "        filter: drop-shadow(0px 1px 2px rgba(0, 0, 0, 0.3));\n",
              "        fill: #FFFFFF;\n",
              "      }\n",
              "    </style>\n",
              "    <button class=\"colab-df-generate\" onclick=\"generateWithVariable('univariate_df')\"\n",
              "            title=\"Generate code using this dataframe.\"\n",
              "            style=\"display:none;\">\n",
              "\n",
              "  <svg xmlns=\"http://www.w3.org/2000/svg\" height=\"24px\"viewBox=\"0 0 24 24\"\n",
              "       width=\"24px\">\n",
              "    <path d=\"M7,19H8.4L18.45,9,17,7.55,7,17.6ZM5,21V16.75L18.45,3.32a2,2,0,0,1,2.83,0l1.4,1.43a1.91,1.91,0,0,1,.58,1.4,1.91,1.91,0,0,1-.58,1.4L9.25,21ZM18.45,9,17,7.55Zm-12,3A5.31,5.31,0,0,0,4.9,8.1,5.31,5.31,0,0,0,1,6.5,5.31,5.31,0,0,0,4.9,4.9,5.31,5.31,0,0,0,6.5,1,5.31,5.31,0,0,0,8.1,4.9,5.31,5.31,0,0,0,12,6.5,5.46,5.46,0,0,0,6.5,12Z\"/>\n",
              "  </svg>\n",
              "    </button>\n",
              "    <script>\n",
              "      (() => {\n",
              "      const buttonEl =\n",
              "        document.querySelector('#id_264f5933-d215-4521-b616-6c078f249d79 button.colab-df-generate');\n",
              "      buttonEl.style.display =\n",
              "        google.colab.kernel.accessAllowed ? 'block' : 'none';\n",
              "\n",
              "      buttonEl.onclick = () => {\n",
              "        google.colab.notebook.generateWithVariable('univariate_df');\n",
              "      }\n",
              "      })();\n",
              "    </script>\n",
              "  </div>\n",
              "\n",
              "    </div>\n",
              "  </div>\n"
            ],
            "application/vnd.google.colaboratory.intrinsic+json": {
              "type": "dataframe",
              "variable_name": "univariate_df",
              "summary": "{\n  \"name\": \"univariate_df\",\n  \"rows\": 96453,\n  \"fields\": [\n    {\n      \"column\": \"Formatted Date\",\n      \"properties\": {\n        \"dtype\": \"string\",\n        \"num_unique_values\": 96429,\n        \"samples\": [\n          \"2008-10-17 17:00:00+02:00\",\n          \"2014-11-02 03:00:00+01:00\",\n          \"2008-06-18 01:00:00+02:00\"\n        ],\n        \"semantic_type\": \"\",\n        \"description\": \"\"\n      }\n    },\n    {\n      \"column\": \"Temperature (C)\",\n      \"properties\": {\n        \"dtype\": \"number\",\n        \"std\": 9.551546320656923,\n        \"min\": -21.822222222222223,\n        \"max\": 39.90555555555555,\n        \"num_unique_values\": 7574,\n        \"samples\": [\n          34.8111111111111,\n          14.955555555555556,\n          -12.161111111111111\n        ],\n        \"semantic_type\": \"\",\n        \"description\": \"\"\n      }\n    }\n  ]\n}"
            }
          },
          "metadata": {},
          "execution_count": 5
        }
      ]
    },
    {
      "cell_type": "code",
      "source": [
        "# tạo một hàm slicing windown\n",
        "input_size = 6\n",
        "label_size = 1\n",
        "offset = 1\n",
        "def slicing_windown(df, df_start_index, df_end_index, input_size, label_size, offset):\n",
        "  input_data = []\n",
        "  label_data = []\n",
        "\n",
        "  window_size = input_size + offset\n",
        "\n",
        "  if df_end_index is None:\n",
        "    df_end_index = len(df) - window_size\n",
        "\n",
        "  for idx in range(df_start_index, df_end_index):\n",
        "    feature_end_idx = idx + input_size\n",
        "    label_start_idx = idx + window_size - offset\n",
        "    label_end_idx = label_start_idx + label_size\n",
        "\n",
        "    input_data.append(df[idx:feature_end_idx])\n",
        "    label_data.append(df[label_start_idx:label_end_idx])\n",
        "\n",
        "  return input_data, label_data"
      ],
      "metadata": {
        "id": "d0vjh-i6oW3c"
      },
      "execution_count": 6,
      "outputs": []
    },
    {
      "cell_type": "code",
      "source": [
        "# chia dữ liệu thành các tệp train, val, test hiện có\n",
        "train_size = 0.7\n",
        "val_size = 0.2\n",
        "train_end_idx = int(len(univariate_df) * train_size)\n",
        "val_end_idx = train_end_idx + int(len(univariate_df) * val_size)\n",
        "\n",
        "x_train, y_train = slicing_windown(univariate_df, 0, train_end_idx, input_size, label_size, offset)\n",
        "x_val, y_val = slicing_windown(univariate_df, train_end_idx, val_end_idx, input_size, label_size, offset)\n",
        "x_test, y_test = slicing_windown(univariate_df, val_end_idx, None, input_size, label_size, offset)"
      ],
      "metadata": {
        "id": "mI5GalL1Hyqr"
      },
      "execution_count": 7,
      "outputs": []
    },
    {
      "cell_type": "code",
      "source": [
        "# xây dựng mô hình lấy dữ liệu\n",
        "class WeatherForcast(Dataset): # Changed from 'def' to 'class' and inherited from 'Dataset'\n",
        "  def __init__(self, input_data, label_data, transform=None):\n",
        "    self.input_data = input_data\n",
        "    self.label_data = label_data\n",
        "    self.transform = transform\n",
        "\n",
        "  def __len__(self):\n",
        "    return len(self.input_data)\n",
        "\n",
        "  def __getitem__(self, idx):\n",
        "    input_data = self.input_data[idx]\n",
        "    label_data = self.label_data[idx]\n",
        "\n",
        "    if self.transform:\n",
        "      input_data = self.transform(input_data)\n",
        "\n",
        "    input_data = torch.tensor(input_data.values, dtype=torch.float32)\n",
        "    label_data = torch.tensor(label_data.values, dtype=torch.float32)\n",
        "    return input_data, label_data\n"
      ],
      "metadata": {
        "id": "1U4B8P-qIYiC"
      },
      "execution_count": 8,
      "outputs": []
    },
    {
      "cell_type": "code",
      "source": [
        "# khai báo dataloader\n",
        "train_dataset = WeatherForcast(x_train, y_train)\n",
        "val_dataset = WeatherForcast(x_val, y_val)\n",
        "test_dataset = WeatherForcast(x_test, y_test)\n",
        "\n",
        "train_batch_size = 128\n",
        "test_batch_size = 8\n",
        "\n",
        "train_dataloader = DataLoader(train_dataset, batch_size=train_batch_size, shuffle=True)\n",
        "val_dataloader = DataLoader(val_dataset, batch_size=test_batch_size, shuffle=False)\n",
        "test_dataloader = DataLoader(test_dataset, batch_size=test_batch_size, shuffle=False)\n"
      ],
      "metadata": {
        "id": "L0vtPQsSKjow"
      },
      "execution_count": 9,
      "outputs": []
    },
    {
      "cell_type": "code",
      "source": [
        "class WeatherForecastModel(nn.Module):\n",
        "  def __init__(self, input_size, hidden_size, n_layers, dropout):\n",
        "    super(WeatherForecastModel, self).__init__()\n",
        "    self.lstm = nn.RNN(input_size, hidden_size,num_layers=n_layers, batch_first=True)\n",
        "    self.norm = nn.LayerNorm(hidden_size)\n",
        "    self.fc = nn.Linear(hidden_size, 1)\n",
        "    self.dropout = nn.Dropout(dropout)\n",
        "\n",
        "  def forward(self, x):\n",
        "    x, _ = self.lstm(x)\n",
        "    x = x[:, -1, :]\n",
        "    x = self.norm(x)\n",
        "    x = self.dropout(x)\n",
        "    x = self.fc(x)\n",
        "    return x"
      ],
      "metadata": {
        "id": "KWBKGEwejfCX"
      },
      "execution_count": 10,
      "outputs": []
    },
    {
      "cell_type": "code",
      "source": [
        "input_size = 1\n",
        "hidden_size = 8\n",
        "n_layers = 3\n",
        "dropout = 0.2\n",
        "\n",
        "device = 'cuda' if torch.cuda.is_available() else 'cpu'\n",
        "\n",
        "model = WeatherForecastModel(input_size, hidden_size, n_layers, dropout).to(device)\n",
        "\n",
        "lr = 1e-3\n",
        "epochs = 50\n",
        "optimizer = torch.optim.Adam(model.parameters(), lr=lr)\n",
        "criterion = nn.MSELoss()"
      ],
      "metadata": {
        "id": "JIyARjDykQcC"
      },
      "execution_count": 11,
      "outputs": []
    },
    {
      "cell_type": "code",
      "source": [
        "def evaluate(model, test_loader, criterion, device):\n",
        "  model.eval()  # Set the model to evaluation mode\n",
        "  correct = 0\n",
        "  total = 0\n",
        "  losses = []\n",
        "  with torch.no_grad():\n",
        "    for ind, (x_batch, y_batch) in enumerate(test_loader):\n",
        "      x_batch, y_batch = x_batch.to(device), y_batch.to(device)\n",
        "      y_pred = model(x_batch)\n",
        "      loss = criterion(y_pred, y_batch)\n",
        "      losses.append(loss.item())\n",
        "  cal_loss = np.mean(losses)\n",
        "  return cal_loss"
      ],
      "metadata": {
        "id": "9rt2Dx9Qkx-W"
      },
      "execution_count": 12,
      "outputs": []
    },
    {
      "cell_type": "code",
      "source": [
        "def fit(model, train_loader, val_loader, optimizer, criterion, n_epochs, device):\n",
        "  losses_train, losses_val = [], []\n",
        "  accs_train, accs_val = [], []\n",
        "  for epoch in range(n_epochs):\n",
        "    batch_train_losses = []\n",
        "    batch_train_accs = []\n",
        "    batch_train_accs = []\n",
        "    model = model.train()\n",
        "    for ind, (x_batch, y_batch) in enumerate(train_loader):\n",
        "      x_batch, y_batch = x_batch.to(device), y_batch.to(device)\n",
        "      optimizer.zero_grad()\n",
        "      y_pred = model(x_batch)\n",
        "      loss = criterion(y_pred, y_batch)\n",
        "      loss.backward()\n",
        "      optimizer.step()\n",
        "\n",
        "      batch_train_losses.append(loss.item())\n",
        "\n",
        "    losses_train.append(np.mean(batch_train_losses))\n",
        "\n",
        "    val_loss = evaluate(model, val_loader, criterion, device)\n",
        "    losses_val.append(val_loss)\n",
        "    print(f'EPOCH {epoch + 1}:\\tTrain loss : {losses_train[-1]:.4f}\\tVal loss : {losses_val[-1]:.4f}')\n",
        "\n",
        "  return losses_train, losses_val\n"
      ],
      "metadata": {
        "id": "-RdXyj-3lCL8"
      },
      "execution_count": 13,
      "outputs": []
    },
    {
      "cell_type": "code",
      "source": [
        "train_losses, val_losses = fit(model, train_dataloader, val_dataloader, optimizer, criterion, epochs, device)"
      ],
      "metadata": {
        "colab": {
          "base_uri": "https://localhost:8080/"
        },
        "id": "bpVMQnmUm01b",
        "outputId": "46716732-2e1c-4047-eba5-0d976722e4ae"
      },
      "execution_count": 14,
      "outputs": [
        {
          "output_type": "stream",
          "name": "stderr",
          "text": [
            "/usr/local/lib/python3.10/dist-packages/torch/nn/modules/loss.py:608: UserWarning: Using a target size (torch.Size([128, 1, 1])) that is different to the input size (torch.Size([128, 1])). This will likely lead to incorrect results due to broadcasting. Please ensure they have the same size.\n",
            "  return F.mse_loss(input, target, reduction=self.reduction)\n",
            "/usr/local/lib/python3.10/dist-packages/torch/nn/modules/loss.py:608: UserWarning: Using a target size (torch.Size([61, 1, 1])) that is different to the input size (torch.Size([61, 1])). This will likely lead to incorrect results due to broadcasting. Please ensure they have the same size.\n",
            "  return F.mse_loss(input, target, reduction=self.reduction)\n",
            "/usr/local/lib/python3.10/dist-packages/torch/nn/modules/loss.py:608: UserWarning: Using a target size (torch.Size([8, 1, 1])) that is different to the input size (torch.Size([8, 1])). This will likely lead to incorrect results due to broadcasting. Please ensure they have the same size.\n",
            "  return F.mse_loss(input, target, reduction=self.reduction)\n",
            "/usr/local/lib/python3.10/dist-packages/torch/nn/modules/loss.py:608: UserWarning: Using a target size (torch.Size([2, 1, 1])) that is different to the input size (torch.Size([2, 1])). This will likely lead to incorrect results due to broadcasting. Please ensure they have the same size.\n",
            "  return F.mse_loss(input, target, reduction=self.reduction)\n"
          ]
        },
        {
          "output_type": "stream",
          "name": "stdout",
          "text": [
            "EPOCH 1:\tTrain loss : 145.2996\tVal loss : 77.4127\n",
            "EPOCH 2:\tTrain loss : 102.6733\tVal loss : 72.9101\n",
            "EPOCH 3:\tTrain loss : 102.2455\tVal loss : 72.6358\n",
            "EPOCH 4:\tTrain loss : 102.0847\tVal loss : 72.4704\n",
            "EPOCH 5:\tTrain loss : 101.9646\tVal loss : 72.2910\n",
            "EPOCH 6:\tTrain loss : 101.9189\tVal loss : 72.4376\n",
            "EPOCH 7:\tTrain loss : 101.8078\tVal loss : 72.6267\n",
            "EPOCH 8:\tTrain loss : 101.7642\tVal loss : 72.3965\n",
            "EPOCH 9:\tTrain loss : 101.6416\tVal loss : 72.2344\n",
            "EPOCH 10:\tTrain loss : 101.5690\tVal loss : 72.1583\n",
            "EPOCH 11:\tTrain loss : 101.4525\tVal loss : 72.3778\n",
            "EPOCH 12:\tTrain loss : 101.2711\tVal loss : 72.3947\n",
            "EPOCH 13:\tTrain loss : 101.2470\tVal loss : 72.3078\n",
            "EPOCH 14:\tTrain loss : 101.1738\tVal loss : 72.3607\n",
            "EPOCH 15:\tTrain loss : 101.0546\tVal loss : 72.2083\n",
            "EPOCH 16:\tTrain loss : 100.9492\tVal loss : 72.3815\n",
            "EPOCH 17:\tTrain loss : 100.8688\tVal loss : 72.5103\n",
            "EPOCH 18:\tTrain loss : 100.8212\tVal loss : 72.1828\n",
            "EPOCH 19:\tTrain loss : 100.7101\tVal loss : 72.4299\n",
            "EPOCH 20:\tTrain loss : 100.6253\tVal loss : 72.2520\n",
            "EPOCH 21:\tTrain loss : 100.5877\tVal loss : 72.2433\n",
            "EPOCH 22:\tTrain loss : 100.4638\tVal loss : 72.2372\n",
            "EPOCH 23:\tTrain loss : 100.3756\tVal loss : 72.2269\n",
            "EPOCH 24:\tTrain loss : 100.3527\tVal loss : 72.2844\n",
            "EPOCH 25:\tTrain loss : 100.2625\tVal loss : 72.4126\n",
            "EPOCH 26:\tTrain loss : 100.2243\tVal loss : 72.2417\n",
            "EPOCH 27:\tTrain loss : 100.1161\tVal loss : 72.3084\n",
            "EPOCH 28:\tTrain loss : 100.0297\tVal loss : 72.1900\n",
            "EPOCH 29:\tTrain loss : 100.0077\tVal loss : 72.1052\n",
            "EPOCH 30:\tTrain loss : 99.9575\tVal loss : 72.2975\n",
            "EPOCH 31:\tTrain loss : 99.8684\tVal loss : 72.2281\n",
            "EPOCH 32:\tTrain loss : 99.8212\tVal loss : 72.2119\n",
            "EPOCH 33:\tTrain loss : 99.7583\tVal loss : 72.2688\n",
            "EPOCH 34:\tTrain loss : 99.7218\tVal loss : 72.0805\n",
            "EPOCH 35:\tTrain loss : 99.7006\tVal loss : 72.2108\n",
            "EPOCH 36:\tTrain loss : 99.6285\tVal loss : 72.1556\n",
            "EPOCH 37:\tTrain loss : 99.5721\tVal loss : 72.1951\n",
            "EPOCH 38:\tTrain loss : 99.5836\tVal loss : 72.2072\n",
            "EPOCH 39:\tTrain loss : 99.4799\tVal loss : 72.0876\n",
            "EPOCH 40:\tTrain loss : 99.4169\tVal loss : 72.2501\n",
            "EPOCH 41:\tTrain loss : 99.4013\tVal loss : 72.0871\n",
            "EPOCH 42:\tTrain loss : 99.3193\tVal loss : 72.2018\n",
            "EPOCH 43:\tTrain loss : 99.3264\tVal loss : 72.0804\n",
            "EPOCH 44:\tTrain loss : 99.2826\tVal loss : 72.1202\n",
            "EPOCH 45:\tTrain loss : 99.2586\tVal loss : 72.1059\n",
            "EPOCH 46:\tTrain loss : 99.2001\tVal loss : 72.0476\n",
            "EPOCH 47:\tTrain loss : 99.1835\tVal loss : 72.1310\n",
            "EPOCH 48:\tTrain loss : 99.1905\tVal loss : 72.1050\n",
            "EPOCH 49:\tTrain loss : 99.1104\tVal loss : 72.0062\n",
            "EPOCH 50:\tTrain loss : 99.1036\tVal loss : 71.9345\n"
          ]
        }
      ]
    },
    {
      "cell_type": "code",
      "source": [
        "# prompt: ý tôi là tạo ra hai hình losses cho val và train, hình bên trái là train losses, bên phải là val losses\n",
        "\n",
        "fig, axes = plt.subplots(1, 2, figsize=(12, 4))\n",
        "\n",
        "axes[0].plot(train_losses)\n",
        "axes[0].set_title('Train Losses')\n",
        "axes[0].set_xlabel('Epoch')\n",
        "axes[0].set_ylabel('Loss')\n",
        "\n",
        "\n",
        "axes[1].plot(val_losses, color = 'orange')\n",
        "axes[1].set_title('Validation Losses')\n",
        "axes[1].set_xlabel('Epoch')\n",
        "axes[1].set_ylabel('Loss')\n",
        "\n",
        "plt.tight_layout()\n",
        "plt.show()"
      ],
      "metadata": {
        "id": "jsKfyAqN458D",
        "outputId": "2a21b0bc-784c-4643-f72c-c9941c98f281",
        "colab": {
          "base_uri": "https://localhost:8080/",
          "height": 407
        }
      },
      "execution_count": 19,
      "outputs": [
        {
          "output_type": "display_data",
          "data": {
            "text/plain": [
              "<Figure size 1200x400 with 2 Axes>"
            ],
            "image/png": "[encoded data removed]"
          },
          "metadata": {}
        }
      ]
    }
  ]
}