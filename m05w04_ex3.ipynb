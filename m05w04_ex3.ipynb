{
  "nbformat": 4,
  "nbformat_minor": 0,
  "metadata": {
    "colab": {
      "provenance": [],
      "authorship_tag": "ABX9TyNA8amH1kqmBggovDNv9/63",
      "include_colab_link": true
    },
    "kernelspec": {
      "name": "python3",
      "display_name": "Python 3"
    },
    "language_info": {
      "name": "python"
    }
  },
  "cells": [
    {
      "cell_type": "markdown",
      "metadata": {
        "id": "view-in-github",
        "colab_type": "text"
      },
      "source": [
        "<a href=\"https://colab.research.google.com/github/nguyenanhtienabcd/AIO2024_EXERCISE/blob/feature%2FMODULE5-WEEK4/m05w04_ex3.ipynb\" target=\"_parent\"><img src=\"https://colab.research.google.com/assets/colab-badge.svg\" alt=\"Open In Colab\"/></a>"
      ]
    },
    {
      "cell_type": "markdown",
      "source": [
        "## Ex3:RMSProp"
      ],
      "metadata": {
        "id": "HJ33kyhxWwEV"
      }
    },
    {
      "cell_type": "markdown",
      "source": [
        "cho một hàm số Loss ban đầu như dưới đây:\n",
        "$$f(w_1, w_2) = 0.1w_1^2 + 2w_2^2 \\;\\;\\;\\;\\;\\;\\;(1)$$ \\\\\n",
        "Giá trị khởi tạo:\n",
        "$$w1 = -5,\\; w2 = -2,\\; s1 = 0,\\; s2 = 0,\\; α = 0.3,\\; \\gamma = 0.9,\\; \\epsilon = 10^{-6} $$ \\\\\n",
        "\n",
        "\n",
        "**Epoch1**:\n",
        "\n",
        "- **STEP1**: tính đạo hàm riêng cho hàm số \\\\\n",
        "$$\n",
        "\\begin{aligned}\n",
        "{f_{w_1}}^{'} = \\frac{\\partial f}{\\partial w_1} & = 2 \\cdot 0.1w_1 = 0.2w_1 = -1  \\\\\n",
        "{f_{w_2}}^{'} = \\frac{\\partial f}{\\partial w_2} & = 2 \\cdot 2w_2 = 4w_2 = -8\n",
        "\\end{aligned}\n",
        "$$\n",
        "\n",
        "- **STEP2**: cập nhật biến số của hàm s \\\\\n",
        "$$\n",
        "\\begin{aligned}\n",
        "s_1^1 &= \\gamma \\cdot s_1 + (1-\\gamma) \\cdot ({f_{w_1}}^{'})^2 = 0.9 \\cdot 0  + 0.1 \\cdot (-1)^2 = 0.1 \\\\\n",
        "s_2^1 &= \\gamma \\cdot s_2 + (1-\\gamma) \\cdot ({f_{w_2}}^{'})^2 = 0.9 \\cdot 0 + 0.1 \\cdot (-8)^2 = 6.4\n",
        "\\end{aligned}\n",
        "$$\n",
        "\n",
        "- **STEP3**: cập nhật trọng số w \\\\\n",
        "$$\n",
        "\\begin{aligned}\n",
        "w_1^1 &= w_1 - \\alpha \\cdot \\frac{{f_{w_1}}^{'}}{\\sqrt[2]{s_1^1 + \\epsilon}}  = -5 - 0.3 \\cdot \\frac{(-1)}{\\sqrt[2]{0.1 + 10^{-6}}} = -4.0513  \\\\\n",
        "w_2^1 &= w_2 - \\alpha \\cdot \\frac{{f_{w_2}}^{'}}{\\sqrt[2]{s_2^1 + \\epsilon}}  = -2 - 0.3 \\cdot \\frac{(-8)}{\\sqrt[2]{6.4 + 10^{-6}}} = -1.0513\n",
        "\\end{aligned}\n",
        "$$ \\\\\n",
        "\n",
        "\n",
        "**Epoch2**:\n",
        "\n",
        "- **STEP1**: tính đạo hàm riêng cho hàm số \\\\\n",
        "$$\n",
        "\\begin{aligned}\n",
        "{f_{w_1}}^{'} = \\frac{\\partial f}{\\partial w_1} & = 2 \\cdot 0.1w_1 = 0.2w_1^1 = -0.81026  \\\\\n",
        "{f_{w_2}}^{'} = \\frac{\\partial f}{\\partial w_2} & = 2 \\cdot 2w_2 = 4w_2^1 = -4.2052\n",
        "\\end{aligned}\n",
        "$$\n",
        "\n",
        "- **STEP2**: cập nhật biến số của hàm s \\\\\n",
        "$$\n",
        "\\begin{aligned}\n",
        "s_1^2 &= \\gamma \\cdot s_1^1 + (1-\\gamma) \\cdot ({f_{w_1}}^{'})^2  = 0.9 \\cdot 0.1 + 0.1 \\cdot (-0.81026)^2 = 0.15565  \\\\\n",
        "s_2^2 &= \\gamma \\cdot s_2^1 + (1-\\gamma) \\cdot ({f_{w_2}}^{'})^2  = 0.9 \\cdot 6.4 + 0.1 \\cdot (-4.2052)^2 = 5.76\n",
        "\\end{aligned}\n",
        "$$\n",
        "\n",
        "- **STEP3**: cập nhật trọng số w \\\\\n",
        "$$\n",
        "\\begin{aligned}\n",
        "w_1^2 &= w_1^1 - \\alpha \\cdot \\frac{{f_{w_1}}^{'}}{\\sqrt[2]{s_1^2 + \\epsilon}}  = -4.0513 - 0.3 \\cdot \\frac{(-0.81026)}{\\sqrt[2]{0.15565 + 10^{-6}}} = -3.43517  \\\\\n",
        "w_2^2 &= w_2^1 - \\alpha \\cdot \\frac{{f_{w_2}}^{'}}{\\sqrt[2]{s_1^2 + \\epsilon}}  = -1.0513 - 0.3 \\cdot \\frac{(-4.2052)}{\\sqrt[2]{5.76 + 10^{-6}}} = 0.52565\n",
        "\\end{aligned}\n",
        "$$\n"
      ],
      "metadata": {
        "id": "KRTR2uovW0ys"
      }
    },
    {
      "cell_type": "code",
      "execution_count": 6,
      "metadata": {
        "id": "Ww__uOgWWmco"
      },
      "outputs": [],
      "source": [
        "import numpy as np"
      ]
    },
    {
      "cell_type": "code",
      "source": [
        "def df_w(W):\n",
        "    \"\"\"\n",
        "    Thực hiện tính gradient của dw1 và dw2\n",
        "    Arguments:\n",
        "    W -- np.array [w1, w2]\n",
        "    Returns:\n",
        "    dW -- np.array [dw1, dw2], array chứa giá trị đạo hàm theo w1 và w2\n",
        "    \"\"\"\n",
        "    W = np.asarray(W)\n",
        "    dW = np.array([0.2, 4])*W\n",
        "    return dW"
      ],
      "metadata": {
        "id": "pwgvLR6ZW6Rk"
      },
      "execution_count": 7,
      "outputs": []
    },
    {
      "cell_type": "code",
      "source": [
        "def RMSProp(W, dW, lr, S, gamma):\n",
        "    \"\"\"\n",
        "    Thực hiện thuật tóan RMSProp để update w1 và w2\n",
        "    Arguments:\n",
        "    W -- np.array: [w1, w2]\n",
        "    dW -- np.array: [dw1, dw2], array chứa giá trị đạo hàm theo w1 và w2\n",
        "    lr -- float: learning rate\n",
        "    S -- np.array: [s1, s2] Exponentially weighted averages bình phương gradients\n",
        "    gamma -- float: hệ số long-range average\n",
        "    Returns:\n",
        "    W -- np.array: [w1, w2] w1 và w2 sau khi đã update\n",
        "    S -- np.array: [s1, s2] Exponentially weighted averages bình phương gradients sau khi đã cập nhật\n",
        "    \"\"\"\n",
        "    epsilon = 1e-6\n",
        "\n",
        "    S = gamma*S + (1-gamma)*((dW)**2)\n",
        "\n",
        "    W = W - lr*dW/(np.sqrt(S + epsilon))\n",
        "    return W, S"
      ],
      "metadata": {
        "id": "OvvO8SoZW7_c"
      },
      "execution_count": 8,
      "outputs": []
    },
    {
      "cell_type": "code",
      "source": [
        "def train_p1(optimizer, lr, epochs):\n",
        "    \"\"\"\n",
        "    Thực hiện tìm điểm minimum của function (1) dựa vào thuật toán\n",
        "    được truyền vào từ optimizer\n",
        "    Arguments:\n",
        "    optimize : function thực hiện thuật toán optimization cụ thể\n",
        "    lr -- float: learning rate\n",
        "    epochs -- int: số lượng lần (epoch) lặp để tìm điểm minimum\n",
        "    Returns:\n",
        "    results -- list: list các cặp điểm [w1, w2] sau mỗi epoch (mỗi lần cập nhật)\n",
        "    \"\"\"\n",
        "    # initial\n",
        "    W = np.array([-5, -2], dtype=np.float32)\n",
        "    S = np.array([0, 0], dtype=np.float32)\n",
        "    results = [W]\n",
        "\n",
        "    for i in range(epochs):\n",
        "        dW = df_w(W)\n",
        "        W, S = optimizer(W, dW, lr, S = S, gamma = 0.9)\n",
        "        results.append(W)\n",
        "\n",
        "    return results"
      ],
      "metadata": {
        "id": "CoWo_XZIW9up"
      },
      "execution_count": 9,
      "outputs": []
    },
    {
      "cell_type": "code",
      "source": [
        "train_p1(RMSProp, lr=0.3, epochs=30)"
      ],
      "metadata": {
        "colab": {
          "base_uri": "https://localhost:8080/"
        },
        "id": "J0Plqhq9W_a2",
        "outputId": "a41da3ec-06cc-47fb-d527-bf30cec6e5b3"
      },
      "execution_count": 10,
      "outputs": [
        {
          "output_type": "execute_result",
          "data": {
            "text/plain": [
              "[array([-5., -2.], dtype=float32),\n",
              " array([-4.05132145, -1.05131678]),\n",
              " array([-3.43519754, -0.59152343]),\n",
              " array([-2.95893693, -0.3294394 ]),\n",
              " array([-2.56546289, -0.17756482]),\n",
              " array([-2.22920552, -0.09163256]),\n",
              " array([-1.93626752, -0.04494499]),\n",
              " array([-1.67817686, -0.02081423]),\n",
              " array([-1.44934985, -0.00903559]),\n",
              " array([-1.24588199, -0.00364591]),\n",
              " array([-1.06490301, -0.00135351]),\n",
              " array([-9.04202260e-01, -4.56444431e-04]),\n",
              " array([-7.61996495e-01, -1.37562928e-04]),\n",
              " array([-6.36778499e-01, -3.62601019e-05]),\n",
              " array([-5.27215237e-01, -8.11337456e-06]),\n",
              " array([-4.32078505e-01, -1.47473412e-06]),\n",
              " array([-3.50198507e-01, -2.02783991e-07]),\n",
              " array([-2.80434649e-01, -1.84231187e-08]),\n",
              " array([-2.21659834e-01, -7.67742748e-10]),\n",
              " array([-1.72755512e-01,  7.80451998e-12]),\n",
              " array([-1.32615134e-01, -5.05794800e-13]),\n",
              " array([-1.00153779e-01,  6.19123501e-14]),\n",
              " array([-7.43217708e-02, -1.13373781e-14]),\n",
              " array([-5.41201278e-02,  2.80166702e-15]),\n",
              " array([-3.86159157e-02, -8.81341191e-16]),\n",
              " array([-2.69558066e-02,  3.39921117e-16]),\n",
              " array([-1.83765633e-02, -1.56581731e-16]),\n",
              " array([-1.22116093e-02,  8.44994985e-17]),\n",
              " array([-7.89331794e-03, -5.26376595e-17]),\n",
              " array([-4.95110261e-03,  3.74107995e-17]),\n",
              " array([-3.00577081e-03, -3.00506084e-17])]"
            ]
          },
          "metadata": {},
          "execution_count": 10
        }
      ]
    }
  ]
}