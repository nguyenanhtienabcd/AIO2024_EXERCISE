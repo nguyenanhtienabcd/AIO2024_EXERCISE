{
  "nbformat": 4,
  "nbformat_minor": 0,
  "metadata": {
    "colab": {
      "provenance": [],
      "collapsed_sections": [
        "W7_fcMjZCPcK"
      ],
      "toc_visible": true,
      "authorship_tag": "ABX9TyO/gscSW7Qes4mMiXl4d7ee",
      "include_colab_link": true
    },
    "kernelspec": {
      "name": "python3",
      "display_name": "Python 3"
    },
    "language_info": {
      "name": "python"
    }
  },
  "cells": [
    {
      "cell_type": "markdown",
      "metadata": {
        "id": "view-in-github",
        "colab_type": "text"
      },
      "source": [
        "<a href=\"https://colab.research.google.com/github/nguyenanhtienabcd/AIO2024_EXERCISE/blob/feature%2FMODULE5-WEEK2/m05w02.ipynb\" target=\"_parent\"><img src=\"https://colab.research.google.com/assets/colab-badge.svg\" alt=\"Open In Colab\"/></a>"
      ]
    },
    {
      "cell_type": "markdown",
      "source": [
        "# EX1"
      ],
      "metadata": {
        "id": "O8YKirvGa-H3"
      }
    },
    {
      "cell_type": "markdown",
      "source": [
        "## Take data and unzip data"
      ],
      "metadata": {
        "id": "j6gJPdvBlZmz"
      }
    },
    {
      "cell_type": "code",
      "execution_count": null,
      "metadata": {
        "colab": {
          "base_uri": "https://localhost:8080/"
        },
        "id": "RwkFlYPrkTbT",
        "outputId": "9ad7b6ce-1cc1-43b6-f728-da8ac6f0a66c"
      },
      "outputs": [
        {
          "output_type": "stream",
          "name": "stdout",
          "text": [
            "Downloading...\n",
            "From (original): https://drive.google.com/uc?id=1kU64ckjel-CpAH352bwU5hWMFT_caZxZ\n",
            "From (redirected): https://drive.google.com/uc?id=1kU64ckjel-CpAH352bwU5hWMFT_caZxZ&confirm=t&uuid=23b8ee2a-617f-424b-9ee8-4d6aa6474ff3\n",
            "To: /content/card_fraud_detection.zip\n",
            "100% 69.2M/69.2M [00:01<00:00, 43.9MB/s]\n",
            "Archive:  /content/card_fraud_detection.zip\n",
            "  inflating: /content/creditcard.csv  \n"
          ]
        }
      ],
      "source": [
        "!gdown 1kU64ckjel-CpAH352bwU5hWMFT_caZxZ\n",
        "!unzip /content/card_fraud_detection.zip -d /content/"
      ]
    },
    {
      "cell_type": "code",
      "source": [
        "import numpy as np\n",
        "import pandas as pd\n",
        "import matplotlib.pyplot as plt\n",
        "import seaborn as sns"
      ],
      "metadata": {
        "id": "jKe2cggBoc3f"
      },
      "execution_count": null,
      "outputs": []
    },
    {
      "cell_type": "code",
      "source": [
        "# read data from CSV file\n",
        "df = pd.read_csv('/content/creditcard.csv')"
      ],
      "metadata": {
        "id": "gK9z6n6ulgHb"
      },
      "execution_count": null,
      "outputs": []
    },
    {
      "cell_type": "code",
      "source": [
        "df.info()"
      ],
      "metadata": {
        "colab": {
          "base_uri": "https://localhost:8080/"
        },
        "id": "dKm9n-uMoomg",
        "outputId": "6dbd351a-f33b-446d-941f-b85e4584b464"
      },
      "execution_count": null,
      "outputs": [
        {
          "output_type": "stream",
          "name": "stdout",
          "text": [
            "<class 'pandas.core.frame.DataFrame'>\n",
            "RangeIndex: 284807 entries, 0 to 284806\n",
            "Data columns (total 31 columns):\n",
            " #   Column  Non-Null Count   Dtype  \n",
            "---  ------  --------------   -----  \n",
            " 0   Time    284807 non-null  float64\n",
            " 1   V1      284807 non-null  float64\n",
            " 2   V2      284807 non-null  float64\n",
            " 3   V3      284807 non-null  float64\n",
            " 4   V4      284807 non-null  float64\n",
            " 5   V5      284807 non-null  float64\n",
            " 6   V6      284807 non-null  float64\n",
            " 7   V7      284807 non-null  float64\n",
            " 8   V8      284807 non-null  float64\n",
            " 9   V9      284807 non-null  float64\n",
            " 10  V10     284807 non-null  float64\n",
            " 11  V11     284807 non-null  float64\n",
            " 12  V12     284807 non-null  float64\n",
            " 13  V13     284807 non-null  float64\n",
            " 14  V14     284807 non-null  float64\n",
            " 15  V15     284807 non-null  float64\n",
            " 16  V16     284807 non-null  float64\n",
            " 17  V17     284807 non-null  float64\n",
            " 18  V18     284807 non-null  float64\n",
            " 19  V19     284807 non-null  float64\n",
            " 20  V20     284807 non-null  float64\n",
            " 21  V21     284807 non-null  float64\n",
            " 22  V22     284807 non-null  float64\n",
            " 23  V23     284807 non-null  float64\n",
            " 24  V24     284807 non-null  float64\n",
            " 25  V25     284807 non-null  float64\n",
            " 26  V26     284807 non-null  float64\n",
            " 27  V27     284807 non-null  float64\n",
            " 28  V28     284807 non-null  float64\n",
            " 29  Amount  284807 non-null  float64\n",
            " 30  Class   284807 non-null  int64  \n",
            "dtypes: float64(30), int64(1)\n",
            "memory usage: 67.4 MB\n"
          ]
        }
      ]
    },
    {
      "cell_type": "code",
      "source": [
        "# insert data 1 to the system\n",
        "x = df.iloc[:, :-1].to_numpy().astype(np.float64)\n",
        "y = df.iloc[:,-1].to_numpy().astype(np.uint8)\n",
        "y_unique = df.iloc[:,-1].unique()\n",
        "x_b = np.insert(x, 0, 1, axis=1)"
      ],
      "metadata": {
        "id": "6IHbsgmKotUI"
      },
      "execution_count": null,
      "outputs": []
    },
    {
      "cell_type": "code",
      "source": [
        "# one hot encoding class\n",
        "# # create a zero matrix with (n)\n",
        "y_one_hot = np.zeros((y.shape[0], len(y_unique))).astype(np.uint8)"
      ],
      "metadata": {
        "id": "1ZX9ObVJqZeX"
      },
      "execution_count": null,
      "outputs": []
    },
    {
      "cell_type": "code",
      "source": [
        "y_one_hot[np.arange(y.shape[0]), y] = 1\n",
        "y_one_hot"
      ],
      "metadata": {
        "colab": {
          "base_uri": "https://localhost:8080/"
        },
        "id": "mmBN3VKwS2pt",
        "outputId": "3ff5e995-5ab0-4b0d-cbc9-ef5b83e01057"
      },
      "execution_count": null,
      "outputs": [
        {
          "output_type": "execute_result",
          "data": {
            "text/plain": [
              "array([[1, 0],\n",
              "       [1, 0],\n",
              "       [1, 0],\n",
              "       ...,\n",
              "       [1, 0],\n",
              "       [1, 0],\n",
              "       [1, 0]], dtype=uint8)"
            ]
          },
          "metadata": {},
          "execution_count": 83
        }
      ]
    },
    {
      "cell_type": "markdown",
      "source": [
        "## Training data"
      ],
      "metadata": {
        "id": "ZOpLUJYVDEYD"
      }
    },
    {
      "cell_type": "code",
      "source": [
        "def predict(x, w):\n",
        "  z = np.dot(x, w)\n",
        "  y_hat = np.exp(z) / np.sum(np.exp(z), axis = 1).reshape(-1,1)\n",
        "  return y_hat\n",
        "\n",
        "def compute_loss(y, y_hat):\n",
        "  m = y.shape[0]\n",
        "  loss = (-1/m) * np.sum(y * np.log(y_hat))\n",
        "  return loss\n",
        "\n",
        "def compute_gradient(x, y, y_hat):\n",
        "  m = y.shape[0]\n",
        "  gradient = (1/m)* np.dot(x.T, (y_hat - y))\n",
        "  return gradient\n",
        "\n",
        "def update_theta(w, gradient, learning_rate):\n",
        "  w = w - learning_rate * gradient\n",
        "  return w"
      ],
      "metadata": {
        "id": "9W_wbNKNqygs"
      },
      "execution_count": null,
      "outputs": []
    },
    {
      "cell_type": "code",
      "source": [
        "def output_predict(y_hat):\n",
        "  y_pred = np.argmax(y_hat, axis=1)\n",
        "  return y_pred"
      ],
      "metadata": {
        "id": "bOvIQ6iebQUG"
      },
      "execution_count": null,
      "outputs": []
    },
    {
      "cell_type": "code",
      "source": [
        "def accuracy_score(y, y_pred):\n",
        "  accuracy = np.sum(y == y_pred) / len(y)\n",
        "  return accuracy"
      ],
      "metadata": {
        "id": "MrtJvwOLb5jf"
      },
      "execution_count": null,
      "outputs": []
    },
    {
      "cell_type": "code",
      "source": [
        "from sklearn.model_selection import train_test_split\n",
        "from sklearn.preprocessing import StandardScaler\n",
        "val_size = 0.2\n",
        "test_size = 0.125\n",
        "is_shuffle = True\n",
        "x_train, x_val, y_train, y_val = train_test_split(x_b, y_one_hot, test_size=val_size, shuffle=is_shuffle)\n",
        "x_train, x_test, y_train, y_test = train_test_split(x_train, y_train, test_size=test_size, shuffle=is_shuffle)\n",
        "\n",
        "scaler = StandardScaler()\n",
        "x_train[:,1:] = scaler.fit_transform(x_train[:,1:])\n",
        "x_val[:,1:] = scaler.transform(x_val[:,1:])\n",
        "x_test[:,1:] = scaler.transform(x_test[:,1:])"
      ],
      "metadata": {
        "id": "cRrIpYYUcDOd"
      },
      "execution_count": null,
      "outputs": []
    },
    {
      "cell_type": "code",
      "source": [
        "from math import e\n",
        "# training data\n",
        "lr = 0.01\n",
        "epochs = 30\n",
        "batch_size = 1024\n",
        "n_features = x_train.shape[1]\n",
        "k_classes = y_train.shape[1]\n",
        "np.random.seed(42)\n",
        "theta = np.random.randn(n_features, k_classes)\n",
        "train_losses = []\n",
        "val_size_losses = []\n",
        "train_accs = []\n",
        "val_accs = []\n",
        "\n",
        "for epoch in range(epochs):\n",
        "  batch_train_losses = []\n",
        "  batch_val_size_losses = []\n",
        "  batch_train_accs = []\n",
        "  batch_val_accs = []\n",
        "  for i in range(0, x_train.shape[0], batch_size):\n",
        "    x_batch = x_train[i:i+batch_size]\n",
        "    y_batch = y_train[i:i+batch_size]\n",
        "    y_hat = predict(x_batch, theta)\n",
        "    loss = np.sum(compute_loss(y_batch, y_hat))/len(x_batch)\n",
        "    gradient = compute_gradient(x_batch, y_batch, y_hat)\n",
        "\n",
        "    batch_train_losses.append(loss)\n",
        "    batch_train_accs.append(accuracy_score(np.argmax(y_batch, axis=1), output_predict(y_hat)))\n",
        "\n",
        "    theta = update_theta(theta, gradient, lr)\n",
        "\n",
        "    y_val_hat = predict(x_val, theta)\n",
        "    val_loss = np.sum(compute_loss(y_val, y_val_hat))/len(x_val)\n",
        "    batch_val_size_losses.append(val_loss)\n",
        "    batch_val_accs.append(accuracy_score(np.argmax(y_val, axis=1), output_predict(y_val_hat)))\n",
        "\n",
        "  train_losses.append(sum(batch_train_losses)/len(batch_train_losses))\n",
        "  val_size_losses = (sum(batch_val_size_losses)/len(batch_val_size_losses))\n",
        "  train_accs.append(sum(batch_train_accs)/len(batch_train_accs))\n",
        "  val_accs.append(sum(batch_val_accs)/len(batch_val_accs))\n",
        "\n"
      ],
      "metadata": {
        "id": "eWWXXkvYfVmP"
      },
      "execution_count": null,
      "outputs": []
    },
    {
      "cell_type": "code",
      "source": [
        "theta"
      ],
      "metadata": {
        "colab": {
          "base_uri": "https://localhost:8080/"
        },
        "id": "FfoEXmes_T4q",
        "outputId": "afad3665-b801-459c-cfcb-d4c39a918511"
      },
      "execution_count": null,
      "outputs": [
        {
          "output_type": "execute_result",
          "data": {
            "text/plain": [
              "array([[ 3.06204886e+00, -2.70359901e+00],\n",
              "       [ 8.96287529e-01,  1.27443087e+00],\n",
              "       [-5.09331518e-01,  4.10411863e-02],\n",
              "       [ 1.37687237e+00,  9.69775171e-01],\n",
              "       [-1.87175223e-01,  2.60260880e-01],\n",
              "       [-5.83589911e-01, -3.45557535e-01],\n",
              "       [-3.45298025e-01, -1.32601995e+00],\n",
              "       [-1.38666071e+00, -9.00544648e-01],\n",
              "       [-5.00361799e-01, -1.98221989e-01],\n",
              "       [-1.12546858e+00, -1.19485920e+00],\n",
              "       [ 9.37608936e-01,  3.02263532e-01],\n",
              "       [-2.41431938e-01, -1.11578804e+00],\n",
              "       [-2.70703350e-01, -1.62756785e-01],\n",
              "       [-3.31054643e-01, -4.44240916e-01],\n",
              "       [-4.65261805e-01, -4.27070635e-01],\n",
              "       [ 3.54110174e-01,  8.96461398e-01],\n",
              "       [-4.79198742e-01, -5.92009412e-01],\n",
              "       [ 2.79879575e-02, -4.26286695e-01],\n",
              "       [-5.18418381e-01, -1.23238815e+00],\n",
              "       [-4.96182775e-01, -6.35142038e-01],\n",
              "       [ 4.60066554e-01,  4.49768307e-01],\n",
              "       [-3.01434594e-01, -1.15317384e-01],\n",
              "       [-1.25993147e+00, -9.38434731e-01],\n",
              "       [ 2.68721176e-01,  3.27762279e-01],\n",
              "       [-4.60914737e-01, -9.58507129e-01],\n",
              "       [-2.17529998e-03, -5.88230110e-02],\n",
              "       [-3.83700109e-02, -2.68757006e-02],\n",
              "       [ 9.44875898e-01,  1.01740374e+00],\n",
              "       [-5.83321065e-01, -5.65108834e-01],\n",
              "       [ 5.24129720e-01,  7.82678838e-01],\n",
              "       [ 2.33307284e-01, -8.98140498e-01]])"
            ]
          },
          "metadata": {},
          "execution_count": 89
        }
      ]
    },
    {
      "cell_type": "code",
      "source": [
        "fig, ax = plt.subplots(2,2, figsize=(12,5))\n",
        "\n",
        "ax[0,0].plot(train_losses, label='train_losses')\n",
        "ax[0,0].set_title('Training Loss')\n",
        "ax[0,0].set_xlabel('Epochs')\n",
        "ax[0,0].set_ylabel('Loss')\n",
        "\n",
        "\n",
        "ax[0,1].plot(train_losses, label='validation_losses', color = 'red')\n",
        "ax[0,1].set_title('Validation Loss', color = 'red')\n",
        "ax[0,1].set_xlabel('Epochs')\n",
        "ax[0,1].set_ylabel('Loss')\n",
        "\n",
        "\n",
        "ax[1,0].plot(train_accs, label='train_accs')\n",
        "ax[1,0].set_title('Training Accuracy')\n",
        "ax[1,0].set_xlabel('Epochs')\n",
        "ax[1,0].set_ylabel('Accuracy')\n",
        "\n",
        "ax[1,1].plot(val_accs, label='validation_accs', color = 'red')\n",
        "ax[1,1].set_title('Validation Accuracy', color = 'red')\n",
        "ax[1,1].set_xlabel('Epochs')\n",
        "ax[1,1].set_ylabel('Accuracy')\n",
        "\n",
        "# Điều chỉnh khoảng cách giữa các ô\n",
        "plt.tight_layout()\n",
        "\n",
        "plt.show()"
      ],
      "metadata": {
        "colab": {
          "base_uri": "https://localhost:8080/",
          "height": 502
        },
        "id": "DzChaY_r1X7k",
        "outputId": "61d19bed-3fe7-4f66-e86f-2c176e8aab0a"
      },
      "execution_count": null,
      "outputs": [
        {
          "output_type": "display_data",
          "data": {
            "text/plain": [
              "<Figure size 1200x500 with 4 Axes>"
            ],
            "image/png": "[encoded data removed]"
          },
          "metadata": {}
        }
      ]
    },
    {
      "cell_type": "code",
      "source": [
        "# let test with data test\n",
        "y_test_pred = output_predict(predict(x_test, theta))\n",
        "y_test_original = np.argmax(y_test, axis=1)\n",
        "accuracy_score(y_test_original, y_test_pred)\n",
        "a = (y_test_pred == 1).sum()\n",
        "b = (y_test_original == 1).sum()\n",
        "print(a,b)\n",
        "print(len(y_test_pred))"
      ],
      "metadata": {
        "colab": {
          "base_uri": "https://localhost:8080/"
        },
        "id": "Vk3GIujt9E-M",
        "outputId": "21b1915f-94f7-4ab2-c8d0-016128aab527"
      },
      "execution_count": null,
      "outputs": [
        {
          "output_type": "stream",
          "name": "stdout",
          "text": [
            "38 49\n",
            "28481\n"
          ]
        }
      ]
    },
    {
      "cell_type": "markdown",
      "source": [
        "## Test"
      ],
      "metadata": {
        "id": "sX7yYG7qqwm1"
      }
    },
    {
      "cell_type": "code",
      "source": [
        "a = np.array([0,1,0,0,1,0])\n",
        "a_unique = np.unique(a)\n",
        "a_one_hot = np.zeros((a.shape[0], len(a_unique))).astype(np.uint8)\n",
        "a_one_hot[np.arange(a.shape[0]), a] = 1\n",
        "a_one_hot"
      ],
      "metadata": {
        "colab": {
          "base_uri": "https://localhost:8080/"
        },
        "id": "7vx_9j-IMT6U",
        "outputId": "d23ec9b8-0bf7-4bf3-addc-76eb3e2a5000"
      },
      "execution_count": null,
      "outputs": [
        {
          "output_type": "execute_result",
          "data": {
            "text/plain": [
              "array([[1, 0],\n",
              "       [0, 1],\n",
              "       [1, 0],\n",
              "       [1, 0],\n",
              "       [0, 1],\n",
              "       [1, 0]], dtype=uint8)"
            ]
          },
          "metadata": {},
          "execution_count": 92
        }
      ]
    },
    {
      "cell_type": "code",
      "source": [
        "np.random.seed(42)\n",
        "a = np.array(np.random.randint(10, size=10)).reshape(-1,2)\n",
        "\n"
      ],
      "metadata": {
        "id": "CWCa_3eppu3e"
      },
      "execution_count": null,
      "outputs": []
    },
    {
      "cell_type": "markdown",
      "source": [],
      "metadata": {
        "id": "5OYilmpXax9y"
      }
    },
    {
      "cell_type": "markdown",
      "source": [
        "# EX2"
      ],
      "metadata": {
        "id": "zpXX4N0EbBLo"
      }
    },
    {
      "cell_type": "markdown",
      "source": [
        "## Take data and unzip data"
      ],
      "metadata": {
        "id": "JFnJ8zX4bHLb"
      }
    },
    {
      "cell_type": "code",
      "source": [
        "!gdown 1e1uIwcJ1-MviSn9yk_ldPGffDWVp6yK_\n",
        "!unzip /content/twitter_sentiment_analysis_3cls_dataset.zip -d /content/"
      ],
      "metadata": {
        "colab": {
          "base_uri": "https://localhost:8080/"
        },
        "id": "O4G1xroJbELT",
        "outputId": "2cec0289-ef75-427d-fb82-e83b2f4e163a"
      },
      "execution_count": null,
      "outputs": [
        {
          "output_type": "stream",
          "name": "stdout",
          "text": [
            "Downloading...\n",
            "From: https://drive.google.com/uc?id=1e1uIwcJ1-MviSn9yk_ldPGffDWVp6yK_\n",
            "To: /content/twitter_sentiment_analysis_3cls_dataset.zip\n",
            "100% 7.97M/7.97M [00:00<00:00, 47.2MB/s]\n",
            "Archive:  /content/twitter_sentiment_analysis_3cls_dataset.zip\n",
            "  inflating: /content/Twitter_Data.csv  \n"
          ]
        }
      ]
    },
    {
      "cell_type": "code",
      "source": [
        "# read data from csv file\n",
        "import pandas as pd\n",
        "df2 = pd.read_csv('/content/Twitter_Data.csv')"
      ],
      "metadata": {
        "id": "AdbWxDqefmun"
      },
      "execution_count": null,
      "outputs": []
    },
    {
      "cell_type": "code",
      "source": [
        "df2.info()"
      ],
      "metadata": {
        "colab": {
          "base_uri": "https://localhost:8080/"
        },
        "id": "v0P5Pp5UgJuA",
        "outputId": "50e88ee2-9228-4e6e-cc9a-1e95a8614c81"
      },
      "execution_count": null,
      "outputs": [
        {
          "output_type": "stream",
          "name": "stdout",
          "text": [
            "<class 'pandas.core.frame.DataFrame'>\n",
            "RangeIndex: 162980 entries, 0 to 162979\n",
            "Data columns (total 2 columns):\n",
            " #   Column      Non-Null Count   Dtype  \n",
            "---  ------      --------------   -----  \n",
            " 0   clean_text  162976 non-null  object \n",
            " 1   category    162973 non-null  float64\n",
            "dtypes: float64(1), object(1)\n",
            "memory usage: 2.5+ MB\n"
          ]
        }
      ]
    },
    {
      "cell_type": "code",
      "source": [
        "df2.dropna(inplace=True)\n",
        "df2.info()"
      ],
      "metadata": {
        "colab": {
          "base_uri": "https://localhost:8080/"
        },
        "id": "Mw-YCm6c6Apt",
        "outputId": "e7caf23d-e4ef-4f25-a155-cdca155adbba"
      },
      "execution_count": null,
      "outputs": [
        {
          "output_type": "stream",
          "name": "stdout",
          "text": [
            "<class 'pandas.core.frame.DataFrame'>\n",
            "Index: 162969 entries, 0 to 162979\n",
            "Data columns (total 2 columns):\n",
            " #   Column      Non-Null Count   Dtype  \n",
            "---  ------      --------------   -----  \n",
            " 0   clean_text  162969 non-null  object \n",
            " 1   category    162969 non-null  float64\n",
            "dtypes: float64(1), object(1)\n",
            "memory usage: 3.7+ MB\n"
          ]
        }
      ]
    },
    {
      "cell_type": "markdown",
      "source": [
        "## Preprocessing data"
      ],
      "metadata": {
        "id": "nC5FTB-e69_6"
      }
    },
    {
      "cell_type": "code",
      "source": [
        "import numpy as np\n",
        "import re\n",
        "import nltk\n",
        "from nltk.corpus import stopwords\n",
        "from nltk.tokenize import word_tokenize\n",
        "nltk.download('stopwords')\n",
        "nltk.download('punkt')\n",
        "nltk.download('snowball_data')\n",
        "from nltk.stem.snowball import SnowballStemmer\n",
        "from sklearn.model_selection import train_test_split\n",
        "from sklearn.metrics import accuracy_score\n",
        "\n",
        "def preprocess_text(text):\n",
        "\n",
        "    text = re.sub(r'^RT[\\s]+','',text)\n",
        "    #Hyperlink removal\n",
        "    text = re.sub(r'hppt?: \\/\\/.*[\\r\\n]*', '', text)\n",
        "\n",
        "    # puntuation removal\n",
        "    text = re.sub(r'[^\\w\\s]', '', text)\n",
        "\n",
        "    stop_words = set(stopwords.words('english'))\n",
        "\n",
        "    text = text.split(' ')\n",
        "    text_token = [word for word in text if word not in stop_words]\n",
        "\n",
        "    # using sterming technique\n",
        "    stemmer = SnowballStemmer(\"english\")\n",
        "    text = ' '.join([stemmer.stem(word) for word in text_token])\n",
        "\n",
        "    return text"
      ],
      "metadata": {
        "colab": {
          "base_uri": "https://localhost:8080/"
        },
        "id": "zJVdN6Oagsc0",
        "outputId": "d2d0987b-174e-464b-b3e1-d6f2c9903759"
      },
      "execution_count": null,
      "outputs": [
        {
          "output_type": "stream",
          "name": "stderr",
          "text": [
            "[nltk_data] Downloading package stopwords to /root/nltk_data...\n",
            "[nltk_data]   Package stopwords is already up-to-date!\n",
            "[nltk_data] Downloading package punkt to /root/nltk_data...\n",
            "[nltk_data]   Package punkt is already up-to-date!\n",
            "[nltk_data] Downloading package snowball_data to /root/nltk_data...\n",
            "[nltk_data]   Package snowball_data is already up-to-date!\n"
          ]
        }
      ]
    },
    {
      "cell_type": "markdown",
      "source": [
        "## Training Data"
      ],
      "metadata": {
        "id": "W7_fcMjZCPcK"
      }
    },
    {
      "cell_type": "code",
      "source": [
        "preprocessed_df2 = pd.DataFrame(columns=['clean_text', 'category'])\n",
        "preprocessed_df2['clean_text'] = df2['clean_text'].apply(preprocess_text)\n",
        "preprocessed_df2['category'] = df2['category']"
      ],
      "metadata": {
        "id": "_dXBuwds5LkS"
      },
      "execution_count": null,
      "outputs": []
    },
    {
      "cell_type": "code",
      "source": [
        "preprocessed_df2"
      ],
      "metadata": {
        "colab": {
          "base_uri": "https://localhost:8080/",
          "height": 423
        },
        "id": "dMy-AmylAIng",
        "outputId": "bf6078e5-0f4b-4ddc-8317-a58f0a6850e1"
      },
      "execution_count": null,
      "outputs": [
        {
          "output_type": "execute_result",
          "data": {
            "text/plain": [
              "                                               clean_text  category\n",
              "0       modi promis minimum govern maximum govern expe...      -1.0\n",
              "1                   talk nonsens continu drama vote modi        0.0\n",
              "2       say vote modi  welcom bjp told rahul main camp...       1.0\n",
              "3       ask support prefix chowkidar name modi great s...       1.0\n",
              "4       answer among power world leader today trump pu...       1.0\n",
              "...                                                   ...       ...\n",
              "162975  456 crore paid neerav modi recov congress lead...      -1.0\n",
              "162976  dear rss terrorist payal gawar modi kill 1000 ...      -1.0\n",
              "162977                         cover interact forum left        0.0\n",
              "162978  big project came india modi dream project happ...       0.0\n",
              "162979  ever listen like gurukul disciplin maintain ev...       1.0\n",
              "\n",
              "[162969 rows x 2 columns]"
            ],
            "text/html": [
              "\n",
              "  <div id=\"df-064dca71-cfc6-4e9f-8a90-8cf8c1749128\" class=\"colab-df-container\">\n",
              "    <div>\n",
              "<style scoped>\n",
              "    .dataframe tbody tr th:only-of-type {\n",
              "        vertical-align: middle;\n",
              "    }\n",
              "\n",
              "    .dataframe tbody tr th {\n",
              "        vertical-align: top;\n",
              "    }\n",
              "\n",
              "    .dataframe thead th {\n",
              "        text-align: right;\n",
              "    }\n",
              "</style>\n",
              "<table border=\"1\" class=\"dataframe\">\n",
              "  <thead>\n",
              "    <tr style=\"text-align: right;\">\n",
              "      <th></th>\n",
              "      <th>clean_text</th>\n",
              "      <th>category</th>\n",
              "    </tr>\n",
              "  </thead>\n",
              "  <tbody>\n",
              "    <tr>\n",
              "      <th>0</th>\n",
              "      <td>modi promis minimum govern maximum govern expe...</td>\n",
              "      <td>-1.0</td>\n",
              "    </tr>\n",
              "    <tr>\n",
              "      <th>1</th>\n",
              "      <td>talk nonsens continu drama vote modi</td>\n",
              "      <td>0.0</td>\n",
              "    </tr>\n",
              "    <tr>\n",
              "      <th>2</th>\n",
              "      <td>say vote modi  welcom bjp told rahul main camp...</td>\n",
              "      <td>1.0</td>\n",
              "    </tr>\n",
              "    <tr>\n",
              "      <th>3</th>\n",
              "      <td>ask support prefix chowkidar name modi great s...</td>\n",
              "      <td>1.0</td>\n",
              "    </tr>\n",
              "    <tr>\n",
              "      <th>4</th>\n",
              "      <td>answer among power world leader today trump pu...</td>\n",
              "      <td>1.0</td>\n",
              "    </tr>\n",
              "    <tr>\n",
              "      <th>...</th>\n",
              "      <td>...</td>\n",
              "      <td>...</td>\n",
              "    </tr>\n",
              "    <tr>\n",
              "      <th>162975</th>\n",
              "      <td>456 crore paid neerav modi recov congress lead...</td>\n",
              "      <td>-1.0</td>\n",
              "    </tr>\n",
              "    <tr>\n",
              "      <th>162976</th>\n",
              "      <td>dear rss terrorist payal gawar modi kill 1000 ...</td>\n",
              "      <td>-1.0</td>\n",
              "    </tr>\n",
              "    <tr>\n",
              "      <th>162977</th>\n",
              "      <td>cover interact forum left</td>\n",
              "      <td>0.0</td>\n",
              "    </tr>\n",
              "    <tr>\n",
              "      <th>162978</th>\n",
              "      <td>big project came india modi dream project happ...</td>\n",
              "      <td>0.0</td>\n",
              "    </tr>\n",
              "    <tr>\n",
              "      <th>162979</th>\n",
              "      <td>ever listen like gurukul disciplin maintain ev...</td>\n",
              "      <td>1.0</td>\n",
              "    </tr>\n",
              "  </tbody>\n",
              "</table>\n",
              "<p>162969 rows × 2 columns</p>\n",
              "</div>\n",
              "    <div class=\"colab-df-buttons\">\n",
              "\n",
              "  <div class=\"colab-df-container\">\n",
              "    <button class=\"colab-df-convert\" onclick=\"convertToInteractive('df-064dca71-cfc6-4e9f-8a90-8cf8c1749128')\"\n",
              "            title=\"Convert this dataframe to an interactive table.\"\n",
              "            style=\"display:none;\">\n",
              "\n",
              "  <svg xmlns=\"http://www.w3.org/2000/svg\" height=\"24px\" viewBox=\"0 -960 960 960\">\n",
              "    <path d=\"M120-120v-720h720v720H120Zm60-500h600v-160H180v160Zm220 220h160v-160H400v160Zm0 220h160v-160H400v160ZM180-400h160v-160H180v160Zm440 0h160v-160H620v160ZM180-180h160v-160H180v160Zm440 0h160v-160H620v160Z\"/>\n",
              "  </svg>\n",
              "    </button>\n",
              "\n",
              "  <style>\n",
              "    .colab-df-container {\n",
              "      display:flex;\n",
              "      gap: 12px;\n",
              "    }\n",
              "\n",
              "    .colab-df-convert {\n",
              "      background-color: #E8F0FE;\n",
              "      border: none;\n",
              "      border-radius: 50%;\n",
              "      cursor: pointer;\n",
              "      display: none;\n",
              "      fill: #1967D2;\n",
              "      height: 32px;\n",
              "      padding: 0 0 0 0;\n",
              "      width: 32px;\n",
              "    }\n",
              "\n",
              "    .colab-df-convert:hover {\n",
              "      background-color: #E2EBFA;\n",
              "      box-shadow: 0px 1px 2px rgba(60, 64, 67, 0.3), 0px 1px 3px 1px rgba(60, 64, 67, 0.15);\n",
              "      fill: #174EA6;\n",
              "    }\n",
              "\n",
              "    .colab-df-buttons div {\n",
              "      margin-bottom: 4px;\n",
              "    }\n",
              "\n",
              "    [theme=dark] .colab-df-convert {\n",
              "      background-color: #3B4455;\n",
              "      fill: #D2E3FC;\n",
              "    }\n",
              "\n",
              "    [theme=dark] .colab-df-convert:hover {\n",
              "      background-color: #434B5C;\n",
              "      box-shadow: 0px 1px 3px 1px rgba(0, 0, 0, 0.15);\n",
              "      filter: drop-shadow(0px 1px 2px rgba(0, 0, 0, 0.3));\n",
              "      fill: #FFFFFF;\n",
              "    }\n",
              "  </style>\n",
              "\n",
              "    <script>\n",
              "      const buttonEl =\n",
              "        document.querySelector('#df-064dca71-cfc6-4e9f-8a90-8cf8c1749128 button.colab-df-convert');\n",
              "      buttonEl.style.display =\n",
              "        google.colab.kernel.accessAllowed ? 'block' : 'none';\n",
              "\n",
              "      async function convertToInteractive(key) {\n",
              "        const element = document.querySelector('#df-064dca71-cfc6-4e9f-8a90-8cf8c1749128');\n",
              "        const dataTable =\n",
              "          await google.colab.kernel.invokeFunction('convertToInteractive',\n",
              "                                                    [key], {});\n",
              "        if (!dataTable) return;\n",
              "\n",
              "        const docLinkHtml = 'Like what you see? Visit the ' +\n",
              "          '<a target=\"_blank\" href=https://colab.research.google.com/notebooks/data_table.ipynb>data table notebook</a>'\n",
              "          + ' to learn more about interactive tables.';\n",
              "        element.innerHTML = '';\n",
              "        dataTable['output_type'] = 'display_data';\n",
              "        await google.colab.output.renderOutput(dataTable, element);\n",
              "        const docLink = document.createElement('div');\n",
              "        docLink.innerHTML = docLinkHtml;\n",
              "        element.appendChild(docLink);\n",
              "      }\n",
              "    </script>\n",
              "  </div>\n",
              "\n",
              "\n",
              "<div id=\"df-0b41d45a-09e9-4780-900e-3ed9f2b49a7f\">\n",
              "  <button class=\"colab-df-quickchart\" onclick=\"quickchart('df-0b41d45a-09e9-4780-900e-3ed9f2b49a7f')\"\n",
              "            title=\"Suggest charts\"\n",
              "            style=\"display:none;\">\n",
              "\n",
              "<svg xmlns=\"http://www.w3.org/2000/svg\" height=\"24px\"viewBox=\"0 0 24 24\"\n",
              "     width=\"24px\">\n",
              "    <g>\n",
              "        <path d=\"M19 3H5c-1.1 0-2 .9-2 2v14c0 1.1.9 2 2 2h14c1.1 0 2-.9 2-2V5c0-1.1-.9-2-2-2zM9 17H7v-7h2v7zm4 0h-2V7h2v10zm4 0h-2v-4h2v4z\"/>\n",
              "    </g>\n",
              "</svg>\n",
              "  </button>\n",
              "\n",
              "<style>\n",
              "  .colab-df-quickchart {\n",
              "      --bg-color: #E8F0FE;\n",
              "      --fill-color: #1967D2;\n",
              "      --hover-bg-color: #E2EBFA;\n",
              "      --hover-fill-color: #174EA6;\n",
              "      --disabled-fill-color: #AAA;\n",
              "      --disabled-bg-color: #DDD;\n",
              "  }\n",
              "\n",
              "  [theme=dark] .colab-df-quickchart {\n",
              "      --bg-color: #3B4455;\n",
              "      --fill-color: #D2E3FC;\n",
              "      --hover-bg-color: #434B5C;\n",
              "      --hover-fill-color: #FFFFFF;\n",
              "      --disabled-bg-color: #3B4455;\n",
              "      --disabled-fill-color: #666;\n",
              "  }\n",
              "\n",
              "  .colab-df-quickchart {\n",
              "    background-color: var(--bg-color);\n",
              "    border: none;\n",
              "    border-radius: 50%;\n",
              "    cursor: pointer;\n",
              "    display: none;\n",
              "    fill: var(--fill-color);\n",
              "    height: 32px;\n",
              "    padding: 0;\n",
              "    width: 32px;\n",
              "  }\n",
              "\n",
              "  .colab-df-quickchart:hover {\n",
              "    background-color: var(--hover-bg-color);\n",
              "    box-shadow: 0 1px 2px rgba(60, 64, 67, 0.3), 0 1px 3px 1px rgba(60, 64, 67, 0.15);\n",
              "    fill: var(--button-hover-fill-color);\n",
              "  }\n",
              "\n",
              "  .colab-df-quickchart-complete:disabled,\n",
              "  .colab-df-quickchart-complete:disabled:hover {\n",
              "    background-color: var(--disabled-bg-color);\n",
              "    fill: var(--disabled-fill-color);\n",
              "    box-shadow: none;\n",
              "  }\n",
              "\n",
              "  .colab-df-spinner {\n",
              "    border: 2px solid var(--fill-color);\n",
              "    border-color: transparent;\n",
              "    border-bottom-color: var(--fill-color);\n",
              "    animation:\n",
              "      spin 1s steps(1) infinite;\n",
              "  }\n",
              "\n",
              "  @keyframes spin {\n",
              "    0% {\n",
              "      border-color: transparent;\n",
              "      border-bottom-color: var(--fill-color);\n",
              "      border-left-color: var(--fill-color);\n",
              "    }\n",
              "    20% {\n",
              "      border-color: transparent;\n",
              "      border-left-color: var(--fill-color);\n",
              "      border-top-color: var(--fill-color);\n",
              "    }\n",
              "    30% {\n",
              "      border-color: transparent;\n",
              "      border-left-color: var(--fill-color);\n",
              "      border-top-color: var(--fill-color);\n",
              "      border-right-color: var(--fill-color);\n",
              "    }\n",
              "    40% {\n",
              "      border-color: transparent;\n",
              "      border-right-color: var(--fill-color);\n",
              "      border-top-color: var(--fill-color);\n",
              "    }\n",
              "    60% {\n",
              "      border-color: transparent;\n",
              "      border-right-color: var(--fill-color);\n",
              "    }\n",
              "    80% {\n",
              "      border-color: transparent;\n",
              "      border-right-color: var(--fill-color);\n",
              "      border-bottom-color: var(--fill-color);\n",
              "    }\n",
              "    90% {\n",
              "      border-color: transparent;\n",
              "      border-bottom-color: var(--fill-color);\n",
              "    }\n",
              "  }\n",
              "</style>\n",
              "\n",
              "  <script>\n",
              "    async function quickchart(key) {\n",
              "      const quickchartButtonEl =\n",
              "        document.querySelector('#' + key + ' button');\n",
              "      quickchartButtonEl.disabled = true;  // To prevent multiple clicks.\n",
              "      quickchartButtonEl.classList.add('colab-df-spinner');\n",
              "      try {\n",
              "        const charts = await google.colab.kernel.invokeFunction(\n",
              "            'suggestCharts', [key], {});\n",
              "      } catch (error) {\n",
              "        console.error('Error during call to suggestCharts:', error);\n",
              "      }\n",
              "      quickchartButtonEl.classList.remove('colab-df-spinner');\n",
              "      quickchartButtonEl.classList.add('colab-df-quickchart-complete');\n",
              "    }\n",
              "    (() => {\n",
              "      let quickchartButtonEl =\n",
              "        document.querySelector('#df-0b41d45a-09e9-4780-900e-3ed9f2b49a7f button');\n",
              "      quickchartButtonEl.style.display =\n",
              "        google.colab.kernel.accessAllowed ? 'block' : 'none';\n",
              "    })();\n",
              "  </script>\n",
              "</div>\n",
              "\n",
              "  <div id=\"id_ed7773dd-61c4-44e6-93fd-99eefc332c6b\">\n",
              "    <style>\n",
              "      .colab-df-generate {\n",
              "        background-color: #E8F0FE;\n",
              "        border: none;\n",
              "        border-radius: 50%;\n",
              "        cursor: pointer;\n",
              "        display: none;\n",
              "        fill: #1967D2;\n",
              "        height: 32px;\n",
              "        padding: 0 0 0 0;\n",
              "        width: 32px;\n",
              "      }\n",
              "\n",
              "      .colab-df-generate:hover {\n",
              "        background-color: #E2EBFA;\n",
              "        box-shadow: 0px 1px 2px rgba(60, 64, 67, 0.3), 0px 1px 3px 1px rgba(60, 64, 67, 0.15);\n",
              "        fill: #174EA6;\n",
              "      }\n",
              "\n",
              "      [theme=dark] .colab-df-generate {\n",
              "        background-color: #3B4455;\n",
              "        fill: #D2E3FC;\n",
              "      }\n",
              "\n",
              "      [theme=dark] .colab-df-generate:hover {\n",
              "        background-color: #434B5C;\n",
              "        box-shadow: 0px 1px 3px 1px rgba(0, 0, 0, 0.15);\n",
              "        filter: drop-shadow(0px 1px 2px rgba(0, 0, 0, 0.3));\n",
              "        fill: #FFFFFF;\n",
              "      }\n",
              "    </style>\n",
              "    <button class=\"colab-df-generate\" onclick=\"generateWithVariable('preprocessed_df2')\"\n",
              "            title=\"Generate code using this dataframe.\"\n",
              "            style=\"display:none;\">\n",
              "\n",
              "  <svg xmlns=\"http://www.w3.org/2000/svg\" height=\"24px\"viewBox=\"0 0 24 24\"\n",
              "       width=\"24px\">\n",
              "    <path d=\"M7,19H8.4L18.45,9,17,7.55,7,17.6ZM5,21V16.75L18.45,3.32a2,2,0,0,1,2.83,0l1.4,1.43a1.91,1.91,0,0,1,.58,1.4,1.91,1.91,0,0,1-.58,1.4L9.25,21ZM18.45,9,17,7.55Zm-12,3A5.31,5.31,0,0,0,4.9,8.1,5.31,5.31,0,0,0,1,6.5,5.31,5.31,0,0,0,4.9,4.9,5.31,5.31,0,0,0,6.5,1,5.31,5.31,0,0,0,8.1,4.9,5.31,5.31,0,0,0,12,6.5,5.46,5.46,0,0,0,6.5,12Z\"/>\n",
              "  </svg>\n",
              "    </button>\n",
              "    <script>\n",
              "      (() => {\n",
              "      const buttonEl =\n",
              "        document.querySelector('#id_ed7773dd-61c4-44e6-93fd-99eefc332c6b button.colab-df-generate');\n",
              "      buttonEl.style.display =\n",
              "        google.colab.kernel.accessAllowed ? 'block' : 'none';\n",
              "\n",
              "      buttonEl.onclick = () => {\n",
              "        google.colab.notebook.generateWithVariable('preprocessed_df2');\n",
              "      }\n",
              "      })();\n",
              "    </script>\n",
              "  </div>\n",
              "\n",
              "    </div>\n",
              "  </div>\n"
            ],
            "application/vnd.google.colaboratory.intrinsic+json": {
              "type": "dataframe",
              "variable_name": "preprocessed_df2"
            }
          },
          "metadata": {},
          "execution_count": 65
        }
      ]
    },
    {
      "cell_type": "code",
      "source": [
        "# vectorization text data\n",
        "from sklearn.feature_extraction.text import TfidfVectorizer\n",
        "vectorizer = TfidfVectorizer(max_features=2000)\n",
        "x = vectorizer.fit_transform(preprocessed_df2['clean_text']).toarray()\n",
        "x = np.insert(x, 0, 1, axis=1)\n",
        "y = preprocessed_df2['category'].to_numpy().astype(np.uint8) + 1\n",
        "y_unique = np.unique(y)\n",
        "\n",
        "# one hot encoding class\n",
        "# # create a zero matrix with (n)\n",
        "y_one_hot = np.zeros((y.shape[0], len(y_unique))).astype(np.uint8)\n",
        "y_one_hot[np.arange(y.shape[0]), y] = 1"
      ],
      "metadata": {
        "id": "oJPBj0zvAgTz"
      },
      "execution_count": null,
      "outputs": []
    },
    {
      "cell_type": "code",
      "source": [
        "print(y_one_hot.shape)\n",
        "print(y_one_hot)"
      ],
      "metadata": {
        "colab": {
          "base_uri": "https://localhost:8080/"
        },
        "id": "AaltCgYiHhbC",
        "outputId": "48625d93-f31c-4d7f-b153-43d5b431cd29"
      },
      "execution_count": null,
      "outputs": [
        {
          "output_type": "stream",
          "name": "stdout",
          "text": [
            "(162969, 3)\n",
            "[[1 0 0]\n",
            " [0 1 0]\n",
            " [0 0 1]\n",
            " ...\n",
            " [0 1 0]\n",
            " [0 1 0]\n",
            " [0 0 1]]\n"
          ]
        }
      ]
    },
    {
      "cell_type": "code",
      "source": [
        "print(x.shape)\n",
        "print(y.shape)\n",
        "print(x)\n",
        "sum_x = x.sum(axis=1)\n",
        "print(sum_x)\n",
        "print(sum_x.shape)"
      ],
      "metadata": {
        "colab": {
          "base_uri": "https://localhost:8080/"
        },
        "id": "8o7Alg6aHxDs",
        "outputId": "043dbc94-45d5-402b-e6b4-a1aba62ff717"
      },
      "execution_count": null,
      "outputs": [
        {
          "output_type": "stream",
          "name": "stdout",
          "text": [
            "(162969, 2001)\n",
            "(162969,)\n",
            "[[1. 0. 0. ... 0. 0. 0.]\n",
            " [1. 0. 0. ... 0. 0. 0.]\n",
            " [1. 0. 0. ... 0. 0. 0.]\n",
            " ...\n",
            " [1. 0. 0. ... 0. 0. 0.]\n",
            " [1. 0. 0. ... 0. 0. 0.]\n",
            " [1. 0. 0. ... 0. 0. 0.]]\n",
            "[4.90835277 3.26578739 4.06967286 ... 2.72636939 3.50282382 4.47689839]\n",
            "(162969,)\n"
          ]
        }
      ]
    },
    {
      "cell_type": "code",
      "source": [
        "def predict(x, w):\n",
        "  z = np.dot(x, w)\n",
        "  y_hat = np.exp(z) / np.sum(np.exp(z), axis = 1).reshape(-1,1)\n",
        "  return y_hat\n",
        "\n",
        "def compute_loss(y, y_hat):\n",
        "  m = y.shape[0]\n",
        "  loss = (-1/m) * np.sum(y * np.log(y_hat))\n",
        "  return loss\n",
        "\n",
        "def compute_gradient(x, y, y_hat):\n",
        "  m = y.shape[0]\n",
        "  gradient = (1/m)* np.dot(x.T, (y_hat - y))\n",
        "  return gradient\n",
        "\n",
        "def update_theta(w, gradient, learning_rate):\n",
        "  w = w - learning_rate * gradient\n",
        "  return w"
      ],
      "metadata": {
        "id": "a9SY4Pz-JZeR"
      },
      "execution_count": null,
      "outputs": []
    },
    {
      "cell_type": "code",
      "source": [
        "def output_predict(y_hat):\n",
        "  y_pred = np.argmax(y_hat, axis=1)\n",
        "  return y_pred\n",
        "\n",
        "def accuracy_score(y, y_pred):\n",
        "  accuracy = np.sum(y == y_pred) / len(y)\n",
        "  return accuracy"
      ],
      "metadata": {
        "id": "JGD3-EoEJctl"
      },
      "execution_count": null,
      "outputs": []
    },
    {
      "cell_type": "code",
      "source": [
        "val_size = 0.2\n",
        "test_size = 0.125\n",
        "is_shuffle = True\n",
        "x_train, x_val, y_train, y_val = train_test_split(x, y_one_hot, test_size=val_size, shuffle=is_shuffle)\n",
        "x_train, x_test, y_train, y_test = train_test_split(x_train, y_train, test_size=test_size, shuffle=is_shuffle)\n"
      ],
      "metadata": {
        "id": "AY1gV0WXBY09"
      },
      "execution_count": null,
      "outputs": []
    },
    {
      "cell_type": "code",
      "source": [
        "lr = 0.01\n",
        "epochs = 200\n",
        "batch_size = x_train.shape[0]\n",
        "n_features = x_train.shape[1]\n",
        "k_classes = y_train.shape[1]\n",
        "np.random.seed(42)\n",
        "theta = np.random.randn(n_features, k_classes)\n",
        "train_losses = []\n",
        "val_losses = []\n",
        "train_accs = []\n",
        "val_accs = []\n",
        "for epoch in range(epochs):\n",
        "  batch_train_losses = []\n",
        "  batch_val_size_losses = []\n",
        "  batch_train_accs = []\n",
        "  batch_val_accs = []\n",
        "  for i in range(0, x_train.shape[0], batch_size):\n",
        "    x_batch = x_train[i:i+batch_size]\n",
        "    y_batch = y_train[i:i+batch_size]\n",
        "    y_hat = predict(x_batch, theta)\n",
        "    loss = np.sum(compute_loss(y_batch, y_hat))/len(x_batch)\n",
        "    gradient = compute_gradient(x_batch, y_batch, y_hat)\n",
        "\n",
        "    batch_train_losses.append(loss)\n",
        "    batch_train_accs.append(accuracy_score(np.argmax(y_batch, axis=1), output_predict(y_hat)))\n",
        "\n",
        "    theta = update_theta(theta, gradient, lr)\n",
        "\n",
        "    y_val_hat = predict(x_val, theta)\n",
        "    val_loss = np.sum(compute_loss(y_val, y_val_hat))/len(x_val)\n",
        "    batch_val_size_losses.append(val_loss)\n",
        "    batch_val_accs.append(accuracy_score(np.argmax(y_val, axis=1), output_predict(y_val_hat)))\n",
        "\n",
        "  train_losses.append(sum(batch_train_losses)/len(batch_train_losses))\n",
        "  val_losses.append(sum(batch_val_size_losses)/len(batch_val_size_losses))\n",
        "  train_accs.append(sum(batch_train_accs)/len(batch_train_accs))\n",
        "  val_accs.append(sum(batch_val_accs)/len(batch_val_accs))\n"
      ],
      "metadata": {
        "id": "pXrGObH_BkyR"
      },
      "execution_count": null,
      "outputs": []
    },
    {
      "cell_type": "code",
      "source": [
        "import matplotlib.pyplot as plt\n",
        "fig, ax = plt.subplots(2,2, figsize=(12,5))\n",
        "\n",
        "ax[0,0].plot(train_losses, label='train_losses')\n",
        "ax[0,0].set_title('Training Loss')\n",
        "ax[0,0].set_xlabel('Epochs')\n",
        "ax[0,0].set_ylabel('Loss')\n",
        "\n",
        "\n",
        "ax[0,1].plot(val_losses, label='validation_losses', color = 'red')\n",
        "ax[0,1].set_title('Validation Loss', color = 'red')\n",
        "ax[0,1].set_xlabel('Epochs')\n",
        "ax[0,1].set_ylabel('Loss')\n",
        "\n",
        "\n",
        "ax[1,0].plot(train_accs, label='train_accs')\n",
        "ax[1,0].set_title('Training Accuracy')\n",
        "ax[1,0].set_xlabel('Epochs')\n",
        "ax[1,0].set_ylabel('Accuracy')\n",
        "\n",
        "ax[1,1].plot(val_accs, label='validation_accs', color = 'red')\n",
        "ax[1,1].set_title('Validation Accuracy', color = 'red')\n",
        "ax[1,1].set_xlabel('Epochs')\n",
        "ax[1,1].set_ylabel('Accuracy')\n",
        "\n",
        "# Điều chỉnh khoảng cách giữa các ô\n",
        "plt.tight_layout()\n",
        "\n",
        "plt.show()"
      ],
      "metadata": {
        "colab": {
          "base_uri": "https://localhost:8080/",
          "height": 502
        },
        "id": "5TtOciZ4D2An",
        "outputId": "4840b02f-a302-47b7-c731-145a119c5a6b"
      },
      "execution_count": null,
      "outputs": [
        {
          "output_type": "display_data",
          "data": {
            "text/plain": [
              "<Figure size 1200x500 with 4 Axes>"
            ],
            "image/png": "[encoded data removed]"
          },
          "metadata": {}
        }
      ]
    }
  ]
}