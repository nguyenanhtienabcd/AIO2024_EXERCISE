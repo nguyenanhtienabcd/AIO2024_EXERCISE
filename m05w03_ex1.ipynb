{
  "nbformat": 4,
  "nbformat_minor": 0,
  "metadata": {
    "colab": {
      "provenance": [],
      "collapsed_sections": [
        "70peyEBOkPSe",
        "qHf049HhkSc3"
      ],
      "toc_visible": true,
      "authorship_tag": "ABX9TyMTdC3UnoAGdJnZJDR2RH1F",
      "include_colab_link": true
    },
    "kernelspec": {
      "name": "python3",
      "display_name": "Python 3"
    },
    "language_info": {
      "name": "python"
    }
  },
  "cells": [
    {
      "cell_type": "markdown",
      "metadata": {
        "id": "view-in-github",
        "colab_type": "text"
      },
      "source": [
        "<a href=\"https://colab.research.google.com/github/nguyenanhtienabcd/AIO2024_EXERCISE/blob/feature%2FMODULE5-WEEK3/m05w03_ex1.ipynb\" target=\"_parent\"><img src=\"https://colab.research.google.com/assets/colab-badge.svg\" alt=\"Open In Colab\"/></a>"
      ]
    },
    {
      "cell_type": "markdown",
      "source": [
        "## Exercise 1"
      ],
      "metadata": {
        "id": "O8SjIEsbuioI"
      }
    },
    {
      "cell_type": "code",
      "execution_count": null,
      "metadata": {
        "id": "0kDn8PB1fVHA"
      },
      "outputs": [],
      "source": [
        "import numpy as np\n",
        "import pandas as pd\n",
        "import matplotlib.pyplot as plt\n",
        "import seaborn as sns\n",
        "import warnings\n",
        "import torch\n",
        "import torch.nn as nn\n",
        "import torch.optim as optim\n",
        "import torch.nn.functional as F\n",
        "from torch.utils.data import DataLoader, Dataset\n",
        "\n",
        "from sklearn.model_selection import train_test_split\n",
        "from sklearn.preprocessing import StandardScaler\n",
        "from sklearn.metrics import accuracy_score, confusion_matrix, classification_report"
      ]
    },
    {
      "cell_type": "code",
      "source": [
        "#  đặt giá trị ngẫu nhiên cho hệ thống\n",
        "# với các lần lặp là cố định\n",
        "random_state = 59\n",
        "np.random.seed(random_state)\n",
        "torch.manual_seed(random_state)\n",
        "if torch.cuda.is_available():\n",
        "    torch.cuda.manual_seed(random_state)\n"
      ],
      "metadata": {
        "id": "qPx6pP8GByPQ"
      },
      "execution_count": null,
      "outputs": []
    },
    {
      "cell_type": "code",
      "source": [
        "# chuyển dữ liệu sang bên GPU để thuận tiện cho việc tính toán dữ liệu\n",
        "device = torch.device(\"cuda\" if torch.cuda.is_available() else \"cpu\")"
      ],
      "metadata": {
        "id": "rLyDonGsH5i6"
      },
      "execution_count": null,
      "outputs": []
    },
    {
      "cell_type": "code",
      "source": [
        "dataset_path = '/content/Auto_MPG_data.csv'\n",
        "dataset = pd.read_csv(dataset_path)"
      ],
      "metadata": {
        "id": "21snE_ZMIJHE"
      },
      "execution_count": null,
      "outputs": []
    },
    {
      "cell_type": "code",
      "source": [
        "dataset"
      ],
      "metadata": {
        "colab": {
          "base_uri": "https://localhost:8080/",
          "height": 423
        },
        "id": "_1F5zmVmISTT",
        "outputId": "ea2041d8-104d-4de9-fc23-116f55097396"
      },
      "execution_count": null,
      "outputs": [
        {
          "output_type": "execute_result",
          "data": {
            "text/plain": [
              "      MPG  Cylinders  Displacement  Horsepower  Weight  Acceleration  \\\n",
              "0    18.0          8         307.0       130.0  3504.0          12.0   \n",
              "1    15.0          8         350.0       165.0  3693.0          11.5   \n",
              "2    18.0          8         318.0       150.0  3436.0          11.0   \n",
              "3    16.0          8         304.0       150.0  3433.0          12.0   \n",
              "4    17.0          8         302.0       140.0  3449.0          10.5   \n",
              "..    ...        ...           ...         ...     ...           ...   \n",
              "387  27.0          4         140.0        86.0  2790.0          15.6   \n",
              "388  44.0          4          97.0        52.0  2130.0          24.6   \n",
              "389  32.0          4         135.0        84.0  2295.0          11.6   \n",
              "390  28.0          4         120.0        79.0  2625.0          18.6   \n",
              "391  31.0          4         119.0        82.0  2720.0          19.4   \n",
              "\n",
              "     Model Year  Europe  Japan  USA  \n",
              "0            70       0      0    1  \n",
              "1            70       0      0    1  \n",
              "2            70       0      0    1  \n",
              "3            70       0      0    1  \n",
              "4            70       0      0    1  \n",
              "..          ...     ...    ...  ...  \n",
              "387          82       0      0    1  \n",
              "388          82       1      0    0  \n",
              "389          82       0      0    1  \n",
              "390          82       0      0    1  \n",
              "391          82       0      0    1  \n",
              "\n",
              "[392 rows x 10 columns]"
            ],
            "text/html": [
              "\n",
              "  <div id=\"df-4d91fc66-7361-46b8-a1e9-4a71e4d5051e\" class=\"colab-df-container\">\n",
              "    <div>\n",
              "<style scoped>\n",
              "    .dataframe tbody tr th:only-of-type {\n",
              "        vertical-align: middle;\n",
              "    }\n",
              "\n",
              "    .dataframe tbody tr th {\n",
              "        vertical-align: top;\n",
              "    }\n",
              "\n",
              "    .dataframe thead th {\n",
              "        text-align: right;\n",
              "    }\n",
              "</style>\n",
              "<table border=\"1\" class=\"dataframe\">\n",
              "  <thead>\n",
              "    <tr style=\"text-align: right;\">\n",
              "      <th></th>\n",
              "      <th>MPG</th>\n",
              "      <th>Cylinders</th>\n",
              "      <th>Displacement</th>\n",
              "      <th>Horsepower</th>\n",
              "      <th>Weight</th>\n",
              "      <th>Acceleration</th>\n",
              "      <th>Model Year</th>\n",
              "      <th>Europe</th>\n",
              "      <th>Japan</th>\n",
              "      <th>USA</th>\n",
              "    </tr>\n",
              "  </thead>\n",
              "  <tbody>\n",
              "    <tr>\n",
              "      <th>0</th>\n",
              "      <td>18.0</td>\n",
              "      <td>8</td>\n",
              "      <td>307.0</td>\n",
              "      <td>130.0</td>\n",
              "      <td>3504.0</td>\n",
              "      <td>12.0</td>\n",
              "      <td>70</td>\n",
              "      <td>0</td>\n",
              "      <td>0</td>\n",
              "      <td>1</td>\n",
              "    </tr>\n",
              "    <tr>\n",
              "      <th>1</th>\n",
              "      <td>15.0</td>\n",
              "      <td>8</td>\n",
              "      <td>350.0</td>\n",
              "      <td>165.0</td>\n",
              "      <td>3693.0</td>\n",
              "      <td>11.5</td>\n",
              "      <td>70</td>\n",
              "      <td>0</td>\n",
              "      <td>0</td>\n",
              "      <td>1</td>\n",
              "    </tr>\n",
              "    <tr>\n",
              "      <th>2</th>\n",
              "      <td>18.0</td>\n",
              "      <td>8</td>\n",
              "      <td>318.0</td>\n",
              "      <td>150.0</td>\n",
              "      <td>3436.0</td>\n",
              "      <td>11.0</td>\n",
              "      <td>70</td>\n",
              "      <td>0</td>\n",
              "      <td>0</td>\n",
              "      <td>1</td>\n",
              "    </tr>\n",
              "    <tr>\n",
              "      <th>3</th>\n",
              "      <td>16.0</td>\n",
              "      <td>8</td>\n",
              "      <td>304.0</td>\n",
              "      <td>150.0</td>\n",
              "      <td>3433.0</td>\n",
              "      <td>12.0</td>\n",
              "      <td>70</td>\n",
              "      <td>0</td>\n",
              "      <td>0</td>\n",
              "      <td>1</td>\n",
              "    </tr>\n",
              "    <tr>\n",
              "      <th>4</th>\n",
              "      <td>17.0</td>\n",
              "      <td>8</td>\n",
              "      <td>302.0</td>\n",
              "      <td>140.0</td>\n",
              "      <td>3449.0</td>\n",
              "      <td>10.5</td>\n",
              "      <td>70</td>\n",
              "      <td>0</td>\n",
              "      <td>0</td>\n",
              "      <td>1</td>\n",
              "    </tr>\n",
              "    <tr>\n",
              "      <th>...</th>\n",
              "      <td>...</td>\n",
              "      <td>...</td>\n",
              "      <td>...</td>\n",
              "      <td>...</td>\n",
              "      <td>...</td>\n",
              "      <td>...</td>\n",
              "      <td>...</td>\n",
              "      <td>...</td>\n",
              "      <td>...</td>\n",
              "      <td>...</td>\n",
              "    </tr>\n",
              "    <tr>\n",
              "      <th>387</th>\n",
              "      <td>27.0</td>\n",
              "      <td>4</td>\n",
              "      <td>140.0</td>\n",
              "      <td>86.0</td>\n",
              "      <td>2790.0</td>\n",
              "      <td>15.6</td>\n",
              "      <td>82</td>\n",
              "      <td>0</td>\n",
              "      <td>0</td>\n",
              "      <td>1</td>\n",
              "    </tr>\n",
              "    <tr>\n",
              "      <th>388</th>\n",
              "      <td>44.0</td>\n",
              "      <td>4</td>\n",
              "      <td>97.0</td>\n",
              "      <td>52.0</td>\n",
              "      <td>2130.0</td>\n",
              "      <td>24.6</td>\n",
              "      <td>82</td>\n",
              "      <td>1</td>\n",
              "      <td>0</td>\n",
              "      <td>0</td>\n",
              "    </tr>\n",
              "    <tr>\n",
              "      <th>389</th>\n",
              "      <td>32.0</td>\n",
              "      <td>4</td>\n",
              "      <td>135.0</td>\n",
              "      <td>84.0</td>\n",
              "      <td>2295.0</td>\n",
              "      <td>11.6</td>\n",
              "      <td>82</td>\n",
              "      <td>0</td>\n",
              "      <td>0</td>\n",
              "      <td>1</td>\n",
              "    </tr>\n",
              "    <tr>\n",
              "      <th>390</th>\n",
              "      <td>28.0</td>\n",
              "      <td>4</td>\n",
              "      <td>120.0</td>\n",
              "      <td>79.0</td>\n",
              "      <td>2625.0</td>\n",
              "      <td>18.6</td>\n",
              "      <td>82</td>\n",
              "      <td>0</td>\n",
              "      <td>0</td>\n",
              "      <td>1</td>\n",
              "    </tr>\n",
              "    <tr>\n",
              "      <th>391</th>\n",
              "      <td>31.0</td>\n",
              "      <td>4</td>\n",
              "      <td>119.0</td>\n",
              "      <td>82.0</td>\n",
              "      <td>2720.0</td>\n",
              "      <td>19.4</td>\n",
              "      <td>82</td>\n",
              "      <td>0</td>\n",
              "      <td>0</td>\n",
              "      <td>1</td>\n",
              "    </tr>\n",
              "  </tbody>\n",
              "</table>\n",
              "<p>392 rows × 10 columns</p>\n",
              "</div>\n",
              "    <div class=\"colab-df-buttons\">\n",
              "\n",
              "  <div class=\"colab-df-container\">\n",
              "    <button class=\"colab-df-convert\" onclick=\"convertToInteractive('df-4d91fc66-7361-46b8-a1e9-4a71e4d5051e')\"\n",
              "            title=\"Convert this dataframe to an interactive table.\"\n",
              "            style=\"display:none;\">\n",
              "\n",
              "  <svg xmlns=\"http://www.w3.org/2000/svg\" height=\"24px\" viewBox=\"0 -960 960 960\">\n",
              "    <path d=\"M120-120v-720h720v720H120Zm60-500h600v-160H180v160Zm220 220h160v-160H400v160Zm0 220h160v-160H400v160ZM180-400h160v-160H180v160Zm440 0h160v-160H620v160ZM180-180h160v-160H180v160Zm440 0h160v-160H620v160Z\"/>\n",
              "  </svg>\n",
              "    </button>\n",
              "\n",
              "  <style>\n",
              "    .colab-df-container {\n",
              "      display:flex;\n",
              "      gap: 12px;\n",
              "    }\n",
              "\n",
              "    .colab-df-convert {\n",
              "      background-color: #E8F0FE;\n",
              "      border: none;\n",
              "      border-radius: 50%;\n",
              "      cursor: pointer;\n",
              "      display: none;\n",
              "      fill: #1967D2;\n",
              "      height: 32px;\n",
              "      padding: 0 0 0 0;\n",
              "      width: 32px;\n",
              "    }\n",
              "\n",
              "    .colab-df-convert:hover {\n",
              "      background-color: #E2EBFA;\n",
              "      box-shadow: 0px 1px 2px rgba(60, 64, 67, 0.3), 0px 1px 3px 1px rgba(60, 64, 67, 0.15);\n",
              "      fill: #174EA6;\n",
              "    }\n",
              "\n",
              "    .colab-df-buttons div {\n",
              "      margin-bottom: 4px;\n",
              "    }\n",
              "\n",
              "    [theme=dark] .colab-df-convert {\n",
              "      background-color: #3B4455;\n",
              "      fill: #D2E3FC;\n",
              "    }\n",
              "\n",
              "    [theme=dark] .colab-df-convert:hover {\n",
              "      background-color: #434B5C;\n",
              "      box-shadow: 0px 1px 3px 1px rgba(0, 0, 0, 0.15);\n",
              "      filter: drop-shadow(0px 1px 2px rgba(0, 0, 0, 0.3));\n",
              "      fill: #FFFFFF;\n",
              "    }\n",
              "  </style>\n",
              "\n",
              "    <script>\n",
              "      const buttonEl =\n",
              "        document.querySelector('#df-4d91fc66-7361-46b8-a1e9-4a71e4d5051e button.colab-df-convert');\n",
              "      buttonEl.style.display =\n",
              "        google.colab.kernel.accessAllowed ? 'block' : 'none';\n",
              "\n",
              "      async function convertToInteractive(key) {\n",
              "        const element = document.querySelector('#df-4d91fc66-7361-46b8-a1e9-4a71e4d5051e');\n",
              "        const dataTable =\n",
              "          await google.colab.kernel.invokeFunction('convertToInteractive',\n",
              "                                                    [key], {});\n",
              "        if (!dataTable) return;\n",
              "\n",
              "        const docLinkHtml = 'Like what you see? Visit the ' +\n",
              "          '<a target=\"_blank\" href=https://colab.research.google.com/notebooks/data_table.ipynb>data table notebook</a>'\n",
              "          + ' to learn more about interactive tables.';\n",
              "        element.innerHTML = '';\n",
              "        dataTable['output_type'] = 'display_data';\n",
              "        await google.colab.output.renderOutput(dataTable, element);\n",
              "        const docLink = document.createElement('div');\n",
              "        docLink.innerHTML = docLinkHtml;\n",
              "        element.appendChild(docLink);\n",
              "      }\n",
              "    </script>\n",
              "  </div>\n",
              "\n",
              "\n",
              "<div id=\"df-9e9dada4-0074-4898-8fbf-d3871872b4b3\">\n",
              "  <button class=\"colab-df-quickchart\" onclick=\"quickchart('df-9e9dada4-0074-4898-8fbf-d3871872b4b3')\"\n",
              "            title=\"Suggest charts\"\n",
              "            style=\"display:none;\">\n",
              "\n",
              "<svg xmlns=\"http://www.w3.org/2000/svg\" height=\"24px\"viewBox=\"0 0 24 24\"\n",
              "     width=\"24px\">\n",
              "    <g>\n",
              "        <path d=\"M19 3H5c-1.1 0-2 .9-2 2v14c0 1.1.9 2 2 2h14c1.1 0 2-.9 2-2V5c0-1.1-.9-2-2-2zM9 17H7v-7h2v7zm4 0h-2V7h2v10zm4 0h-2v-4h2v4z\"/>\n",
              "    </g>\n",
              "</svg>\n",
              "  </button>\n",
              "\n",
              "<style>\n",
              "  .colab-df-quickchart {\n",
              "      --bg-color: #E8F0FE;\n",
              "      --fill-color: #1967D2;\n",
              "      --hover-bg-color: #E2EBFA;\n",
              "      --hover-fill-color: #174EA6;\n",
              "      --disabled-fill-color: #AAA;\n",
              "      --disabled-bg-color: #DDD;\n",
              "  }\n",
              "\n",
              "  [theme=dark] .colab-df-quickchart {\n",
              "      --bg-color: #3B4455;\n",
              "      --fill-color: #D2E3FC;\n",
              "      --hover-bg-color: #434B5C;\n",
              "      --hover-fill-color: #FFFFFF;\n",
              "      --disabled-bg-color: #3B4455;\n",
              "      --disabled-fill-color: #666;\n",
              "  }\n",
              "\n",
              "  .colab-df-quickchart {\n",
              "    background-color: var(--bg-color);\n",
              "    border: none;\n",
              "    border-radius: 50%;\n",
              "    cursor: pointer;\n",
              "    display: none;\n",
              "    fill: var(--fill-color);\n",
              "    height: 32px;\n",
              "    padding: 0;\n",
              "    width: 32px;\n",
              "  }\n",
              "\n",
              "  .colab-df-quickchart:hover {\n",
              "    background-color: var(--hover-bg-color);\n",
              "    box-shadow: 0 1px 2px rgba(60, 64, 67, 0.3), 0 1px 3px 1px rgba(60, 64, 67, 0.15);\n",
              "    fill: var(--button-hover-fill-color);\n",
              "  }\n",
              "\n",
              "  .colab-df-quickchart-complete:disabled,\n",
              "  .colab-df-quickchart-complete:disabled:hover {\n",
              "    background-color: var(--disabled-bg-color);\n",
              "    fill: var(--disabled-fill-color);\n",
              "    box-shadow: none;\n",
              "  }\n",
              "\n",
              "  .colab-df-spinner {\n",
              "    border: 2px solid var(--fill-color);\n",
              "    border-color: transparent;\n",
              "    border-bottom-color: var(--fill-color);\n",
              "    animation:\n",
              "      spin 1s steps(1) infinite;\n",
              "  }\n",
              "\n",
              "  @keyframes spin {\n",
              "    0% {\n",
              "      border-color: transparent;\n",
              "      border-bottom-color: var(--fill-color);\n",
              "      border-left-color: var(--fill-color);\n",
              "    }\n",
              "    20% {\n",
              "      border-color: transparent;\n",
              "      border-left-color: var(--fill-color);\n",
              "      border-top-color: var(--fill-color);\n",
              "    }\n",
              "    30% {\n",
              "      border-color: transparent;\n",
              "      border-left-color: var(--fill-color);\n",
              "      border-top-color: var(--fill-color);\n",
              "      border-right-color: var(--fill-color);\n",
              "    }\n",
              "    40% {\n",
              "      border-color: transparent;\n",
              "      border-right-color: var(--fill-color);\n",
              "      border-top-color: var(--fill-color);\n",
              "    }\n",
              "    60% {\n",
              "      border-color: transparent;\n",
              "      border-right-color: var(--fill-color);\n",
              "    }\n",
              "    80% {\n",
              "      border-color: transparent;\n",
              "      border-right-color: var(--fill-color);\n",
              "      border-bottom-color: var(--fill-color);\n",
              "    }\n",
              "    90% {\n",
              "      border-color: transparent;\n",
              "      border-bottom-color: var(--fill-color);\n",
              "    }\n",
              "  }\n",
              "</style>\n",
              "\n",
              "  <script>\n",
              "    async function quickchart(key) {\n",
              "      const quickchartButtonEl =\n",
              "        document.querySelector('#' + key + ' button');\n",
              "      quickchartButtonEl.disabled = true;  // To prevent multiple clicks.\n",
              "      quickchartButtonEl.classList.add('colab-df-spinner');\n",
              "      try {\n",
              "        const charts = await google.colab.kernel.invokeFunction(\n",
              "            'suggestCharts', [key], {});\n",
              "      } catch (error) {\n",
              "        console.error('Error during call to suggestCharts:', error);\n",
              "      }\n",
              "      quickchartButtonEl.classList.remove('colab-df-spinner');\n",
              "      quickchartButtonEl.classList.add('colab-df-quickchart-complete');\n",
              "    }\n",
              "    (() => {\n",
              "      let quickchartButtonEl =\n",
              "        document.querySelector('#df-9e9dada4-0074-4898-8fbf-d3871872b4b3 button');\n",
              "      quickchartButtonEl.style.display =\n",
              "        google.colab.kernel.accessAllowed ? 'block' : 'none';\n",
              "    })();\n",
              "  </script>\n",
              "</div>\n",
              "\n",
              "  <div id=\"id_078866a6-bbf3-4132-8cf8-6c0b1404a3a5\">\n",
              "    <style>\n",
              "      .colab-df-generate {\n",
              "        background-color: #E8F0FE;\n",
              "        border: none;\n",
              "        border-radius: 50%;\n",
              "        cursor: pointer;\n",
              "        display: none;\n",
              "        fill: #1967D2;\n",
              "        height: 32px;\n",
              "        padding: 0 0 0 0;\n",
              "        width: 32px;\n",
              "      }\n",
              "\n",
              "      .colab-df-generate:hover {\n",
              "        background-color: #E2EBFA;\n",
              "        box-shadow: 0px 1px 2px rgba(60, 64, 67, 0.3), 0px 1px 3px 1px rgba(60, 64, 67, 0.15);\n",
              "        fill: #174EA6;\n",
              "      }\n",
              "\n",
              "      [theme=dark] .colab-df-generate {\n",
              "        background-color: #3B4455;\n",
              "        fill: #D2E3FC;\n",
              "      }\n",
              "\n",
              "      [theme=dark] .colab-df-generate:hover {\n",
              "        background-color: #434B5C;\n",
              "        box-shadow: 0px 1px 3px 1px rgba(0, 0, 0, 0.15);\n",
              "        filter: drop-shadow(0px 1px 2px rgba(0, 0, 0, 0.3));\n",
              "        fill: #FFFFFF;\n",
              "      }\n",
              "    </style>\n",
              "    <button class=\"colab-df-generate\" onclick=\"generateWithVariable('dataset')\"\n",
              "            title=\"Generate code using this dataframe.\"\n",
              "            style=\"display:none;\">\n",
              "\n",
              "  <svg xmlns=\"http://www.w3.org/2000/svg\" height=\"24px\"viewBox=\"0 0 24 24\"\n",
              "       width=\"24px\">\n",
              "    <path d=\"M7,19H8.4L18.45,9,17,7.55,7,17.6ZM5,21V16.75L18.45,3.32a2,2,0,0,1,2.83,0l1.4,1.43a1.91,1.91,0,0,1,.58,1.4,1.91,1.91,0,0,1-.58,1.4L9.25,21ZM18.45,9,17,7.55Zm-12,3A5.31,5.31,0,0,0,4.9,8.1,5.31,5.31,0,0,0,1,6.5,5.31,5.31,0,0,0,4.9,4.9,5.31,5.31,0,0,0,6.5,1,5.31,5.31,0,0,0,8.1,4.9,5.31,5.31,0,0,0,12,6.5,5.46,5.46,0,0,0,6.5,12Z\"/>\n",
              "  </svg>\n",
              "    </button>\n",
              "    <script>\n",
              "      (() => {\n",
              "      const buttonEl =\n",
              "        document.querySelector('#id_078866a6-bbf3-4132-8cf8-6c0b1404a3a5 button.colab-df-generate');\n",
              "      buttonEl.style.display =\n",
              "        google.colab.kernel.accessAllowed ? 'block' : 'none';\n",
              "\n",
              "      buttonEl.onclick = () => {\n",
              "        google.colab.notebook.generateWithVariable('dataset');\n",
              "      }\n",
              "      })();\n",
              "    </script>\n",
              "  </div>\n",
              "\n",
              "    </div>\n",
              "  </div>\n"
            ],
            "application/vnd.google.colaboratory.intrinsic+json": {
              "type": "dataframe",
              "variable_name": "dataset",
              "summary": "{\n  \"name\": \"dataset\",\n  \"rows\": 392,\n  \"fields\": [\n    {\n      \"column\": \"MPG\",\n      \"properties\": {\n        \"dtype\": \"number\",\n        \"std\": 7.805007486571799,\n        \"min\": 9.0,\n        \"max\": 46.6,\n        \"num_unique_values\": 127,\n        \"samples\": [\n          17.5,\n          35.1,\n          28.8\n        ],\n        \"semantic_type\": \"\",\n        \"description\": \"\"\n      }\n    },\n    {\n      \"column\": \"Cylinders\",\n      \"properties\": {\n        \"dtype\": \"number\",\n        \"std\": 1,\n        \"min\": 3,\n        \"max\": 8,\n        \"num_unique_values\": 5,\n        \"samples\": [\n          4,\n          5,\n          6\n        ],\n        \"semantic_type\": \"\",\n        \"description\": \"\"\n      }\n    },\n    {\n      \"column\": \"Displacement\",\n      \"properties\": {\n        \"dtype\": \"number\",\n        \"std\": 104.64400390890465,\n        \"min\": 68.0,\n        \"max\": 455.0,\n        \"num_unique_values\": 81,\n        \"samples\": [\n          116.0,\n          307.0,\n          360.0\n        ],\n        \"semantic_type\": \"\",\n        \"description\": \"\"\n      }\n    },\n    {\n      \"column\": \"Horsepower\",\n      \"properties\": {\n        \"dtype\": \"number\",\n        \"std\": 38.49115993282855,\n        \"min\": 46.0,\n        \"max\": 230.0,\n        \"num_unique_values\": 93,\n        \"samples\": [\n          92.0,\n          100.0,\n          52.0\n        ],\n        \"semantic_type\": \"\",\n        \"description\": \"\"\n      }\n    },\n    {\n      \"column\": \"Weight\",\n      \"properties\": {\n        \"dtype\": \"number\",\n        \"std\": 849.4025600429494,\n        \"min\": 1613.0,\n        \"max\": 5140.0,\n        \"num_unique_values\": 346,\n        \"samples\": [\n          2472.0,\n          3221.0,\n          2700.0\n        ],\n        \"semantic_type\": \"\",\n        \"description\": \"\"\n      }\n    },\n    {\n      \"column\": \"Acceleration\",\n      \"properties\": {\n        \"dtype\": \"number\",\n        \"std\": 2.7588641191880816,\n        \"min\": 8.0,\n        \"max\": 24.8,\n        \"num_unique_values\": 95,\n        \"samples\": [\n          14.7,\n          18.0,\n          14.3\n        ],\n        \"semantic_type\": \"\",\n        \"description\": \"\"\n      }\n    },\n    {\n      \"column\": \"Model Year\",\n      \"properties\": {\n        \"dtype\": \"number\",\n        \"std\": 3,\n        \"min\": 70,\n        \"max\": 82,\n        \"num_unique_values\": 13,\n        \"samples\": [\n          81,\n          79,\n          70\n        ],\n        \"semantic_type\": \"\",\n        \"description\": \"\"\n      }\n    },\n    {\n      \"column\": \"Europe\",\n      \"properties\": {\n        \"dtype\": \"number\",\n        \"std\": 0,\n        \"min\": 0,\n        \"max\": 1,\n        \"num_unique_values\": 2,\n        \"samples\": [\n          1,\n          0\n        ],\n        \"semantic_type\": \"\",\n        \"description\": \"\"\n      }\n    },\n    {\n      \"column\": \"Japan\",\n      \"properties\": {\n        \"dtype\": \"number\",\n        \"std\": 0,\n        \"min\": 0,\n        \"max\": 1,\n        \"num_unique_values\": 2,\n        \"samples\": [\n          1,\n          0\n        ],\n        \"semantic_type\": \"\",\n        \"description\": \"\"\n      }\n    },\n    {\n      \"column\": \"USA\",\n      \"properties\": {\n        \"dtype\": \"number\",\n        \"std\": 0,\n        \"min\": 0,\n        \"max\": 1,\n        \"num_unique_values\": 2,\n        \"samples\": [\n          0,\n          1\n        ],\n        \"semantic_type\": \"\",\n        \"description\": \"\"\n      }\n    }\n  ]\n}"
            }
          },
          "metadata": {},
          "execution_count": 128
        }
      ]
    },
    {
      "cell_type": "code",
      "source": [
        "x = dataset.drop('MPG', axis=1).values\n",
        "y = dataset['MPG'].values"
      ],
      "metadata": {
        "id": "xvqBdWMXJYHg"
      },
      "execution_count": null,
      "outputs": []
    },
    {
      "cell_type": "code",
      "source": [
        "# chia dữ liệu ra thành 3 phần cho quá trình test và quá trình kiểm tra\n",
        "val_size = 0.2\n",
        "test_size = 0.125\n",
        "is_shuffle = True\n",
        "\n",
        "x_train, x_val, y_train, y_val = train_test_split(\n",
        "    x, y,\n",
        "    test_size=val_size,\n",
        "    random_state=random_state,\n",
        "    shuffle=is_shuffle)\n",
        "\n",
        "x_train, x_test, y_train, y_test = train_test_split(\n",
        "    x_train, y_train,\n",
        "    test_size=test_size,\n",
        "    random_state=random_state,\n",
        "    shuffle=is_shuffle)"
      ],
      "metadata": {
        "id": "dr5aAvDjJmrj"
      },
      "execution_count": null,
      "outputs": []
    },
    {
      "cell_type": "code",
      "source": [
        "normalizer = StandardScaler()\n",
        "x_train = normalizer.fit_transform(x_train)\n",
        "x_val = normalizer.transform(x_val)\n",
        "x_test = normalizer.transform(x_test)\n",
        "\n",
        "x_train = torch.tensor(x_train, dtype=torch.float32)\n",
        "y_train = torch.tensor(y_train, dtype=torch.float32)\n",
        "x_val = torch.tensor(x_val, dtype=torch.float32)\n",
        "y_val = torch.tensor(y_val, dtype=torch.float32)\n",
        "x_test = torch.tensor(x_test, dtype=torch.float32)\n",
        "y_test = torch.tensor(y_test, dtype=torch.float32)"
      ],
      "metadata": {
        "id": "d2WNzEk0Ko-c"
      },
      "execution_count": null,
      "outputs": []
    },
    {
      "cell_type": "code",
      "source": [
        "# prompt: print shape của train, val, test\n",
        "\n",
        "print(\"Shape of x_train:\", x_train.shape)\n",
        "print(\"Shape of y_train:\", y_train.shape)\n",
        "print(\"Shape of x_val:\", x_val.shape)\n",
        "print(\"Shape of y_val:\", y_val.shape)\n",
        "print(\"Shape of x_test:\", x_test.shape)\n",
        "print(\"Shape of y_test:\", y_test.shape)"
      ],
      "metadata": {
        "colab": {
          "base_uri": "https://localhost:8080/"
        },
        "id": "eDxuORpAK4NU",
        "outputId": "7e8a77e9-4d1c-4b0f-b4db-ffa66f55bb85"
      },
      "execution_count": null,
      "outputs": [
        {
          "output_type": "stream",
          "name": "stdout",
          "text": [
            "Shape of x_train: torch.Size([273, 9])\n",
            "Shape of y_train: torch.Size([273])\n",
            "Shape of x_val: torch.Size([79, 9])\n",
            "Shape of y_val: torch.Size([79])\n",
            "Shape of x_test: torch.Size([40, 9])\n",
            "Shape of y_test: torch.Size([40])\n"
          ]
        }
      ]
    },
    {
      "cell_type": "code",
      "source": [
        "# xây dựng lớp dataloader\n",
        "class CustomDataset(Dataset):\n",
        "    def __init__(self, x, y):\n",
        "        self.x = x\n",
        "        self.y = y\n",
        "\n",
        "    def __len__(self):\n",
        "        return len(self.x)\n",
        "\n",
        "    def __getitem__(self, idx):\n",
        "        return self.x[idx], self.y[idx]"
      ],
      "metadata": {
        "id": "zGl-BzN4N3tv"
      },
      "execution_count": null,
      "outputs": []
    },
    {
      "cell_type": "code",
      "source": [
        "# tạo batchsize cho data\n",
        "# hàm Dataloader này có mục đích\n",
        "batch_size = 32\n",
        "train_dataset = CustomDataset(x_train, y_train)\n",
        "val_dataset = CustomDataset(x_val, y_val)\n",
        "test_dataset = CustomDataset(x_test, y_test)\n",
        "\n",
        "# dataloader dùng để lấy môt batch dữ liệu cùng một lúc, thuận tiện cho việc train\n",
        "train_dataloader = DataLoader(train_dataset, batch_size=batch_size, shuffle=True)\n",
        "val_dataloader = DataLoader(val_dataset, batch_size=batch_size, shuffle=False)\n"
      ],
      "metadata": {
        "id": "RUJ_7lhSSN0f"
      },
      "execution_count": null,
      "outputs": []
    },
    {
      "cell_type": "code",
      "source": [
        "# xây dựng một mạng multi layer perceptrons\n",
        "class MLP(nn.Module): # kế thừa từ lớp Module\n",
        "  def __init__(self, input_dims, hidden_dims, output_dims):\n",
        "    super().__init__()\n",
        "    self.linear1 = nn.Linear(input_dims, hidden_dims)\n",
        "    self.linear2 = nn.Linear(hidden_dims, hidden_dims)\n",
        "    self.output = nn.Linear(hidden_dims, output_dims)\n",
        "\n",
        "\n",
        "  def forward(self, x):\n",
        "    x = self.linear1(x)\n",
        "    x = F.tanh(x)\n",
        "    x = self.linear2(x)\n",
        "    x = F.tanh(x)\n",
        "    out = self.output(x)\n",
        "    return out.squeeze(1)"
      ],
      "metadata": {
        "id": "TEH_Mk29YR4u"
      },
      "execution_count": null,
      "outputs": []
    },
    {
      "cell_type": "code",
      "source": [
        "# xác định chiều đầu vào và đầu ra của kiến trúc\n",
        "input_dims = x_train.shape[1]\n",
        "hidden_dims = 64\n",
        "output_dims = 1\n",
        "#output = 1 là do đây không phải là mô hình phân loại mà là mô hình liên tục\n"
      ],
      "metadata": {
        "id": "29GNvBKjiAt1"
      },
      "execution_count": null,
      "outputs": []
    },
    {
      "cell_type": "code",
      "source": [],
      "metadata": {
        "id": "tQFbdjR3jT1r"
      },
      "execution_count": null,
      "outputs": []
    },
    {
      "cell_type": "code",
      "source": [
        "model = MLP(input_dims, hidden_dims, output_dims).to(device)\n",
        "\n",
        "# khai báo hàm loss và opimizer\n",
        "lr = 0.01\n",
        "criterion = nn.MSELoss()\n",
        "optimizer = optim.SGD(model.parameters(), lr=lr)\n",
        "#"
      ],
      "metadata": {
        "id": "r_8wrP81i1z4"
      },
      "execution_count": null,
      "outputs": []
    },
    {
      "cell_type": "code",
      "source": [
        "# xây dựng hàm số tính điểm loader\n",
        "def r_squared(y_true, y_pred):\n",
        "  # chuyển dữ liệu qua GPU\n",
        "  y_true = torch.Tensor(y_true).to(device)\n",
        "  y_pred = torch.Tensor(y_pred).to(device)\n",
        "  y_mean = torch.mean(y_true)\n",
        "  ss_tot = torch.sum((y_true - y_mean) ** 2)\n",
        "  ss_res = torch.sum((y_true - y_pred) ** 2)\n",
        "  r2 = 1 - (ss_res / ss_tot)\n",
        "  return r2"
      ],
      "metadata": {
        "id": "IRWyCGNkkKWl"
      },
      "execution_count": null,
      "outputs": []
    },
    {
      "cell_type": "code",
      "source": [
        "epochs = 100\n",
        "train_losses = []\n",
        "val_losses = []\n",
        "train_r_squared = []\n",
        "val_r_squared = []\n",
        "for epoch in range(epochs):\n",
        "  train_loss = 0.0\n",
        "  train_target = []\n",
        "  train_pred = []\n",
        "  val_target = []\n",
        "  val_pred = []\n",
        "\n",
        "  # phần dùng để train\n",
        "  model.train()\n",
        "  for x_batch, y_batch in train_dataloader:\n",
        "    x_batch = x_batch.to(device) # chuyển sang GPU\n",
        "    y_batch = y_batch.to(device) # chuyển sang GPU\n",
        "    optimizer.zero_grad()\n",
        "    outputs = model(x_batch)\n",
        "    train_pred += outputs.tolist()\n",
        "    train_target += y_batch.tolist()\n",
        "    loss = criterion(outputs, y_batch)\n",
        "    # y_batch.unsqueeze(1) dùng để điều chỉnh shape của y khi tính loss\n",
        "    loss.backward()\n",
        "    optimizer.step()\n",
        "    train_loss += loss.item()\n",
        "  train_loss = train_loss / len(train_dataloader)\n",
        "  train_losses.append(train_loss)\n",
        "  train_r_squared.append(r_squared(y_true=train_target, y_pred=train_pred))\n",
        "\n",
        "  model.eval()\n",
        "  val_loss = 0.0\n",
        "  with torch.no_grad():\n",
        "    for x_batch, y_batch in val_dataloader:\n",
        "      x_batch = x_batch.to(device) # chuyển sang GPU\n",
        "      y_batch = y_batch.to(device) # chuyển sang GPU\n",
        "      outputs = model(x_batch)\n",
        "      val_pred += outputs.tolist()\n",
        "      val_target += y_batch.tolist()\n",
        "      loss = criterion(outputs, y_batch)\n",
        "      val_loss += loss.item()\n",
        "    val_loss = val_loss / len(val_dataloader)\n",
        "    val_losses.append(val_loss)\n",
        "    val_r_squared.append(r_squared(y_true=val_target, y_pred=val_pred))\n",
        "    print(f'Epoch {epoch+1}/{epochs}, Train Loss: {train_loss:.4f}, Val Loss: {val_loss:.4f}')"
      ],
      "metadata": {
        "id": "YdSkpjzQnorK",
        "colab": {
          "base_uri": "https://localhost:8080/"
        },
        "outputId": "30464d57-ed9d-4ecc-fc9e-7dd8493e1e6b"
      },
      "execution_count": null,
      "outputs": [
        {
          "output_type": "stream",
          "name": "stdout",
          "text": [
            "Epoch 1/100, Train Loss: 241.3672, Val Loss: 16.7442\n",
            "Epoch 2/100, Train Loss: 25.8016, Val Loss: 10.4082\n",
            "Epoch 3/100, Train Loss: 17.0054, Val Loss: 8.8275\n",
            "Epoch 4/100, Train Loss: 12.8983, Val Loss: 7.9893\n",
            "Epoch 5/100, Train Loss: 12.0648, Val Loss: 7.3177\n",
            "Epoch 6/100, Train Loss: 10.6116, Val Loss: 6.5591\n",
            "Epoch 7/100, Train Loss: 9.5985, Val Loss: 6.7420\n",
            "Epoch 8/100, Train Loss: 9.5454, Val Loss: 8.1855\n",
            "Epoch 9/100, Train Loss: 9.6271, Val Loss: 11.1487\n",
            "Epoch 10/100, Train Loss: 10.4211, Val Loss: 12.5893\n",
            "Epoch 11/100, Train Loss: 10.5812, Val Loss: 6.0849\n",
            "Epoch 12/100, Train Loss: 8.2037, Val Loss: 5.3742\n",
            "Epoch 13/100, Train Loss: 8.7245, Val Loss: 6.7488\n",
            "Epoch 14/100, Train Loss: 8.0676, Val Loss: 5.7307\n",
            "Epoch 15/100, Train Loss: 7.9309, Val Loss: 6.7126\n",
            "Epoch 16/100, Train Loss: 8.3085, Val Loss: 6.8000\n",
            "Epoch 17/100, Train Loss: 7.8153, Val Loss: 6.3034\n",
            "Epoch 18/100, Train Loss: 7.9920, Val Loss: 6.0946\n",
            "Epoch 19/100, Train Loss: 8.0610, Val Loss: 5.7719\n",
            "Epoch 20/100, Train Loss: 7.3817, Val Loss: 5.4621\n",
            "Epoch 21/100, Train Loss: 7.2501, Val Loss: 6.4217\n",
            "Epoch 22/100, Train Loss: 7.5911, Val Loss: 7.3020\n",
            "Epoch 23/100, Train Loss: 8.2264, Val Loss: 10.7871\n",
            "Epoch 24/100, Train Loss: 7.9732, Val Loss: 10.6391\n",
            "Epoch 25/100, Train Loss: 7.8883, Val Loss: 7.4589\n",
            "Epoch 26/100, Train Loss: 7.6589, Val Loss: 8.1646\n",
            "Epoch 27/100, Train Loss: 7.1371, Val Loss: 6.0858\n",
            "Epoch 28/100, Train Loss: 6.8899, Val Loss: 4.6275\n",
            "Epoch 29/100, Train Loss: 6.2579, Val Loss: 8.0122\n",
            "Epoch 30/100, Train Loss: 7.5849, Val Loss: 4.9757\n",
            "Epoch 31/100, Train Loss: 6.7969, Val Loss: 5.6591\n",
            "Epoch 32/100, Train Loss: 6.4831, Val Loss: 5.4935\n",
            "Epoch 33/100, Train Loss: 7.1604, Val Loss: 4.9803\n",
            "Epoch 34/100, Train Loss: 6.7353, Val Loss: 5.5619\n",
            "Epoch 35/100, Train Loss: 6.6349, Val Loss: 5.8172\n",
            "Epoch 36/100, Train Loss: 6.5138, Val Loss: 7.1112\n",
            "Epoch 37/100, Train Loss: 6.7828, Val Loss: 6.5404\n",
            "Epoch 38/100, Train Loss: 6.3809, Val Loss: 6.9960\n",
            "Epoch 39/100, Train Loss: 6.7052, Val Loss: 8.4409\n",
            "Epoch 40/100, Train Loss: 6.3906, Val Loss: 6.4622\n",
            "Epoch 41/100, Train Loss: 6.4456, Val Loss: 7.2480\n",
            "Epoch 42/100, Train Loss: 6.0361, Val Loss: 4.7922\n",
            "Epoch 43/100, Train Loss: 7.2047, Val Loss: 9.2728\n",
            "Epoch 44/100, Train Loss: 6.4204, Val Loss: 9.7565\n",
            "Epoch 45/100, Train Loss: 6.5018, Val Loss: 5.2121\n",
            "Epoch 46/100, Train Loss: 6.2902, Val Loss: 6.0144\n",
            "Epoch 47/100, Train Loss: 6.5198, Val Loss: 6.5446\n",
            "Epoch 48/100, Train Loss: 5.9247, Val Loss: 7.3482\n",
            "Epoch 49/100, Train Loss: 6.3022, Val Loss: 8.0336\n",
            "Epoch 50/100, Train Loss: 6.0538, Val Loss: 6.2914\n",
            "Epoch 51/100, Train Loss: 5.7251, Val Loss: 6.1723\n",
            "Epoch 52/100, Train Loss: 6.3589, Val Loss: 5.2658\n",
            "Epoch 53/100, Train Loss: 6.4838, Val Loss: 5.4075\n",
            "Epoch 54/100, Train Loss: 6.3096, Val Loss: 5.4792\n",
            "Epoch 55/100, Train Loss: 5.7069, Val Loss: 5.4664\n",
            "Epoch 56/100, Train Loss: 5.8961, Val Loss: 6.5666\n",
            "Epoch 57/100, Train Loss: 6.2217, Val Loss: 5.8956\n",
            "Epoch 58/100, Train Loss: 5.6919, Val Loss: 5.5701\n",
            "Epoch 59/100, Train Loss: 5.4987, Val Loss: 6.2381\n",
            "Epoch 60/100, Train Loss: 5.3879, Val Loss: 5.1069\n",
            "Epoch 61/100, Train Loss: 5.2485, Val Loss: 5.7773\n",
            "Epoch 62/100, Train Loss: 6.0864, Val Loss: 5.2575\n",
            "Epoch 63/100, Train Loss: 5.3051, Val Loss: 5.7433\n",
            "Epoch 64/100, Train Loss: 5.2497, Val Loss: 5.6966\n",
            "Epoch 65/100, Train Loss: 5.7269, Val Loss: 6.2206\n",
            "Epoch 66/100, Train Loss: 5.2429, Val Loss: 5.9856\n",
            "Epoch 67/100, Train Loss: 5.3157, Val Loss: 5.2754\n",
            "Epoch 68/100, Train Loss: 5.5615, Val Loss: 5.6699\n",
            "Epoch 69/100, Train Loss: 6.0999, Val Loss: 6.1950\n",
            "Epoch 70/100, Train Loss: 5.3774, Val Loss: 5.6714\n",
            "Epoch 71/100, Train Loss: 5.1280, Val Loss: 5.1869\n",
            "Epoch 72/100, Train Loss: 5.2579, Val Loss: 5.9339\n",
            "Epoch 73/100, Train Loss: 5.1041, Val Loss: 6.4657\n",
            "Epoch 74/100, Train Loss: 5.0958, Val Loss: 5.6140\n",
            "Epoch 75/100, Train Loss: 4.9846, Val Loss: 7.4698\n",
            "Epoch 76/100, Train Loss: 5.6828, Val Loss: 7.3580\n",
            "Epoch 77/100, Train Loss: 5.9752, Val Loss: 6.2288\n",
            "Epoch 78/100, Train Loss: 5.4806, Val Loss: 5.1424\n",
            "Epoch 79/100, Train Loss: 5.3874, Val Loss: 5.9265\n",
            "Epoch 80/100, Train Loss: 5.1420, Val Loss: 6.2303\n",
            "Epoch 81/100, Train Loss: 5.3817, Val Loss: 5.4068\n",
            "Epoch 82/100, Train Loss: 4.6672, Val Loss: 5.2874\n",
            "Epoch 83/100, Train Loss: 5.0384, Val Loss: 6.8401\n",
            "Epoch 84/100, Train Loss: 4.7698, Val Loss: 5.7724\n",
            "Epoch 85/100, Train Loss: 4.6515, Val Loss: 5.8140\n",
            "Epoch 86/100, Train Loss: 4.5513, Val Loss: 7.2249\n",
            "Epoch 87/100, Train Loss: 4.7773, Val Loss: 5.9011\n",
            "Epoch 88/100, Train Loss: 4.7683, Val Loss: 5.7662\n",
            "Epoch 89/100, Train Loss: 4.3758, Val Loss: 5.9469\n",
            "Epoch 90/100, Train Loss: 4.9012, Val Loss: 5.7327\n",
            "Epoch 91/100, Train Loss: 5.1949, Val Loss: 6.1747\n",
            "Epoch 92/100, Train Loss: 4.6241, Val Loss: 5.5745\n",
            "Epoch 93/100, Train Loss: 4.5354, Val Loss: 5.5265\n",
            "Epoch 94/100, Train Loss: 5.1577, Val Loss: 5.9804\n",
            "Epoch 95/100, Train Loss: 5.0218, Val Loss: 7.8878\n",
            "Epoch 96/100, Train Loss: 5.2983, Val Loss: 5.6055\n",
            "Epoch 97/100, Train Loss: 4.8629, Val Loss: 8.0468\n",
            "Epoch 98/100, Train Loss: 5.0569, Val Loss: 6.0918\n",
            "Epoch 99/100, Train Loss: 4.5392, Val Loss: 5.7752\n",
            "Epoch 100/100, Train Loss: 4.7072, Val Loss: 5.6886\n"
          ]
        }
      ]
    },
    {
      "cell_type": "code",
      "source": [
        "model.eval()\n",
        "with torch.no_grad():\n",
        "  y_hat = model(x_test)\n",
        "  r2_score = r_squared(y_true=y_test, y_pred=y_hat)\n",
        "  print(f'R2 Score: {r2_score}')"
      ],
      "metadata": {
        "id": "wOPTK8elJE0S",
        "colab": {
          "base_uri": "https://localhost:8080/"
        },
        "outputId": "ad7fb8a2-189f-4d15-a8ef-82add64bc8f5"
      },
      "execution_count": null,
      "outputs": [
        {
          "output_type": "stream",
          "name": "stdout",
          "text": [
            "R2 Score: 0.8968066573143005\n"
          ]
        }
      ]
    },
    {
      "cell_type": "code",
      "source": [
        "# list +  list\n",
        "m = [[1,2,3]]\n",
        "d = [[4,5,6]]\n",
        "m+d"
      ],
      "metadata": {
        "colab": {
          "base_uri": "https://localhost:8080/"
        },
        "id": "M_Kxe8Y4KcX3",
        "outputId": "238d48fb-4a4a-45d4-b890-2f0d56c74a8b"
      },
      "execution_count": null,
      "outputs": [
        {
          "output_type": "execute_result",
          "data": {
            "text/plain": [
              "[[1, 2, 3], [4, 5, 6]]"
            ]
          },
          "metadata": {},
          "execution_count": 141
        }
      ]
    },
    {
      "cell_type": "code",
      "source": [
        "import matplotlib.pyplot as plt\n",
        "plt.plot(train_losses, label='Train Loss')\n",
        "plt.plot(val_losses, label='Val Loss')\n",
        "plt.xlabel('Epoch')\n",
        "plt.ylabel('Loss')\n",
        "plt.legend()\n",
        "plt.show()"
      ],
      "metadata": {
        "colab": {
          "base_uri": "https://localhost:8080/",
          "height": 450
        },
        "id": "THIy-9S6vu_u",
        "outputId": "e19748f0-7150-4ea6-8622-b7a4da2ff822"
      },
      "execution_count": null,
      "outputs": [
        {
          "output_type": "display_data",
          "data": {
            "text/plain": [
              "<Figure size 640x480 with 1 Axes>"
            ],
            "image/png": "[encoded data removed]"
          },
          "metadata": {}
        }
      ]
    },
    {
      "cell_type": "code",
      "source": [
        "plt.plot(train_r_squared, label='Train R2')\n",
        "plt.plot(val_r_squared, label='Val R2')\n",
        "plt.xlabel('Epoch')\n",
        "plt.ylabel('R2')\n",
        "plt.legend()\n",
        "plt.show()"
      ],
      "metadata": {
        "colab": {
          "base_uri": "https://localhost:8080/",
          "height": 449
        },
        "id": "_li4wvBgv30m",
        "outputId": "7b77394d-33de-4afc-bea2-4b379b193e9a"
      },
      "execution_count": null,
      "outputs": [
        {
          "output_type": "display_data",
          "data": {
            "text/plain": [
              "<Figure size 640x480 with 1 Axes>"
            ],
            "image/png": "[encoded data removed]"
          },
          "metadata": {}
        }
      ]
    },
    {
      "cell_type": "markdown",
      "source": [
        "# Dành cho trắc nghiệm"
      ],
      "metadata": {
        "id": "SRRFPLP8O7qa"
      }
    },
    {
      "cell_type": "markdown",
      "source": [
        "### EX6"
      ],
      "metadata": {
        "id": "70peyEBOkPSe"
      }
    },
    {
      "cell_type": "code",
      "source": [
        "x_1 = torch.tensor([5.1, 6.0, 5.7], dtype=torch.float32).reshape(-1,1)\n",
        "y_1 = torch.tensor([0, 1, 0], dtype=torch.float32).reshape(-1,1)"
      ],
      "metadata": {
        "id": "rOd0U9FGO_tb"
      },
      "execution_count": null,
      "outputs": []
    },
    {
      "cell_type": "code",
      "source": [
        "import torch\n",
        "import torch.nn as nn\n",
        "\n",
        "# Định nghĩa mô hình MLP\n",
        "model = nn.Sequential(\n",
        "    nn.Linear(1, 2),  # Hidden layer\n",
        "    nn.ReLU(),        # Hàm kích hoạt\n",
        "    nn.Linear(2, 1),  # Output layer\n",
        ")\n",
        "\n",
        "# Hàm khởi tạo trọng số\n",
        "def initialize_weights(m):\n",
        "    if isinstance(m, nn.Linear):\n",
        "        if m.in_features == 1 and m.out_features == 2:  # Hidden layer\n",
        "            m.weight.data = torch.tensor([[0.5], [-0.5]])  # Trọng số hidden layer\n",
        "            m.bias.data = torch.tensor([1.0, -1.0])        # Bias hidden layer\n",
        "        elif m.in_features == 2 and m.out_features == 1:  # Output layer\n",
        "            m.weight.data = torch.tensor([[0.3, -0.2]])    # Trọng số output layer\n",
        "            m.bias.data = torch.tensor([0.5])              # Bias output layer\n",
        "\n",
        "# Áp dụng khởi tạo trọng số\n",
        "model.apply(initialize_weights)\n",
        "\n",
        "# Kiểm tra trọng số sau khi khởi tạo\n",
        "print(\"Trọng số Hidden layer:\", model[0].weight)\n",
        "print(\"Bias Hidden layer:\", model[0].bias)\n",
        "print(\"Trọng số Output layer:\", model[2].weight)\n",
        "print(\"Bias Output layer:\", model[2].bias)"
      ],
      "metadata": {
        "colab": {
          "base_uri": "https://localhost:8080/"
        },
        "id": "jjRvhBnxSXA2",
        "outputId": "04ef1f6b-d33a-4a7f-f820-28c6ddbe4eed"
      },
      "execution_count": null,
      "outputs": [
        {
          "output_type": "stream",
          "name": "stdout",
          "text": [
            "Trọng số Hidden layer: Parameter containing:\n",
            "tensor([[ 0.5000],\n",
            "        [-0.5000]], requires_grad=True)\n",
            "Bias Hidden layer: Parameter containing:\n",
            "tensor([ 1., -1.], requires_grad=True)\n",
            "Trọng số Output layer: Parameter containing:\n",
            "tensor([[ 0.3000, -0.2000]], requires_grad=True)\n",
            "Bias Output layer: Parameter containing:\n",
            "tensor([0.5000], requires_grad=True)\n"
          ]
        }
      ]
    },
    {
      "cell_type": "code",
      "source": [
        "# some params\n",
        "loss_fn = torch.nn.BCEWithLogitsLoss()\n",
        "optimizer = torch.optim.SGD(model.parameters(),\n",
        "                            lr=0.01)"
      ],
      "metadata": {
        "id": "bVTWx8cZgE0B"
      },
      "execution_count": null,
      "outputs": []
    },
    {
      "cell_type": "code",
      "source": [
        "for i in range(len(x_1)):\n",
        "    x = x_1[i]  # Đảm bảo x có kích thước (1, feature_size)\n",
        "    y = y_1[i] # Thêm một chiều để y có kích thước tương thích\n",
        "    print(f'x: {x}')\n",
        "    print(f'y: {y}')\n",
        "\n",
        "    # y_hat\n",
        "    z= model(x)\n",
        "    print(f'z: {z}')\n",
        "\n",
        "    # loss\n",
        "    loss = loss_fn(z, y)\n",
        "    print(f'loss: {loss.item()}')\n",
        "\n",
        "    # compute gradient\n",
        "    optimizer.zero_grad()\n",
        "    loss.backward()\n",
        "    #print(f'(db, dw): ({model.bias.grad.data}, {model.weight.grad.data})')\n",
        "    print(\"Trọng số Hidden layer:\", model[0].weight)\n",
        "    print(\"Bias Hidden layer:\", model[0].bias)\n",
        "    print(\"Trọng số Output layer:\", model[2].weight)\n",
        "    print(\"Bias Output layer:\", model[2].bias)\n",
        "    # update\n",
        "    optimizer.step()"
      ],
      "metadata": {
        "colab": {
          "base_uri": "https://localhost:8080/"
        },
        "id": "IziXLfo8fIFe",
        "outputId": "a05fa086-326e-4935-d203-50435e9fa7c4"
      },
      "execution_count": null,
      "outputs": [
        {
          "output_type": "stream",
          "name": "stdout",
          "text": [
            "x: tensor([5.1000])\n",
            "y: tensor([0.])\n",
            "z: tensor([1.5650], grad_fn=<ViewBackward0>)\n",
            "loss: 1.754866361618042\n",
            "Trọng số Hidden layer: Parameter containing:\n",
            "tensor([[ 0.5000],\n",
            "        [-0.5000]], requires_grad=True)\n",
            "Bias Hidden layer: Parameter containing:\n",
            "tensor([ 1., -1.], requires_grad=True)\n",
            "Trọng số Output layer: Parameter containing:\n",
            "tensor([[ 0.3000, -0.2000]], requires_grad=True)\n",
            "Bias Output layer: Parameter containing:\n",
            "tensor([0.5000], requires_grad=True)\n",
            "x: tensor([6.])\n",
            "y: tensor([1.])\n",
            "z: tensor([1.5531], grad_fn=<ViewBackward0>)\n",
            "loss: 0.19194039702415466\n",
            "Trọng số Hidden layer: Parameter containing:\n",
            "tensor([[ 0.4873],\n",
            "        [-0.5000]], requires_grad=True)\n",
            "Bias Hidden layer: Parameter containing:\n",
            "tensor([ 0.9975, -1.0000], requires_grad=True)\n",
            "Trọng số Output layer: Parameter containing:\n",
            "tensor([[ 0.2706, -0.2000]], requires_grad=True)\n",
            "Bias Output layer: Parameter containing:\n",
            "tensor([0.4917], requires_grad=True)\n",
            "x: tensor([5.7000])\n",
            "y: tensor([0.])\n",
            "z: tensor([1.5457], grad_fn=<ViewBackward0>)\n",
            "loss: 1.7389448881149292\n",
            "Trọng số Hidden layer: Parameter containing:\n",
            "tensor([[ 0.4902],\n",
            "        [-0.5000]], requires_grad=True)\n",
            "Bias Hidden layer: Parameter containing:\n",
            "tensor([ 0.9980, -1.0000], requires_grad=True)\n",
            "Trọng số Output layer: Parameter containing:\n",
            "tensor([[ 0.2775, -0.2000]], requires_grad=True)\n",
            "Bias Output layer: Parameter containing:\n",
            "tensor([0.4935], requires_grad=True)\n"
          ]
        }
      ]
    },
    {
      "cell_type": "code",
      "source": [
        "x_test = torch.tensor([5.1], dtype=torch.float32)\n",
        "z = model(x_test)\n",
        "y_hat = torch.sigmoid(z)\n",
        "print(f'y_hat: {y_hat}')"
      ],
      "metadata": {
        "colab": {
          "base_uri": "https://localhost:8080/"
        },
        "id": "mKCIAMMAi1JR",
        "outputId": "d9feda8b-4092-4046-a0d3-5520e5af0961"
      },
      "execution_count": null,
      "outputs": [
        {
          "output_type": "stream",
          "name": "stdout",
          "text": [
            "y_hat: tensor([0.7908], grad_fn=<SigmoidBackward0>)\n"
          ]
        }
      ]
    },
    {
      "cell_type": "markdown",
      "source": [
        "### EX7"
      ],
      "metadata": {
        "id": "qHf049HhkSc3"
      }
    },
    {
      "cell_type": "code",
      "source": [
        "x_2 = torch.tensor([50, 60, 70], dtype=torch.float32).reshape(-1,1)\n",
        "y_2 = torch.tensor([100, 120, 140], dtype=torch.float32).reshape(-1,1)"
      ],
      "metadata": {
        "id": "pc97ZsorkULL"
      },
      "execution_count": null,
      "outputs": []
    },
    {
      "cell_type": "code",
      "source": [
        "# some params\n",
        "loss_fn = torch.nn.MSELoss()\n",
        "optimizer = torch.optim.SGD(model.parameters(),\n",
        "                            lr=0.01)"
      ],
      "metadata": {
        "id": "JRhnzQUkkrSw"
      },
      "execution_count": null,
      "outputs": []
    },
    {
      "cell_type": "code",
      "source": [
        "import torch\n",
        "import torch.nn as nn\n",
        "\n",
        "# Định nghĩa mô hình MLP\n",
        "model = nn.Sequential(\n",
        "    nn.Linear(1, 2),  # Hidden layer\n",
        "    nn.ReLU(),        # Hàm kích hoạt\n",
        "    nn.Linear(2, 1),  # Output layer\n",
        ")\n",
        "\n",
        "# Hàm khởi tạo trọng số\n",
        "def initialize_weights(m):\n",
        "    if isinstance(m, nn.Linear):\n",
        "        if m.in_features == 1 and m.out_features == 2:  # Hidden layer\n",
        "            m.weight.data = torch.tensor([[0.5], [-0.5]], dtype=torch.float)  # Trọng số hidden layer\n",
        "            m.bias.data = torch.tensor([1.0, -1.0], dtype=torch.float)        # Bias hidden layer\n",
        "        elif m.in_features == 2 and m.out_features == 1:  # Output layer\n",
        "            m.weight.data = torch.tensor([[1.5, 2.0]], dtype=torch.float)    # Trọng số output layer\n",
        "            m.bias.data = torch.tensor([0.0], dtype=torch.float)            # Bias output layer\n",
        "\n",
        "# Áp dụng khởi tạo trọng số\n",
        "model.apply(initialize_weights)\n",
        "\n",
        "# Kiểm tra trọng số sau khi khởi tạo\n",
        "print(\"Trọng số Hidden layer:\", model[0].weight)\n",
        "print(\"Bias Hidden layer:\", model[0].bias)\n",
        "print(\"Trọng số Output layer:\", model[2].weight)\n",
        "print(\"Bias Output layer:\", model[2].bias)"
      ],
      "metadata": {
        "colab": {
          "base_uri": "https://localhost:8080/"
        },
        "id": "FiQ1avXOk4BP",
        "outputId": "83e3ea6c-6008-4173-abd1-dedc037d0eae"
      },
      "execution_count": null,
      "outputs": [
        {
          "output_type": "stream",
          "name": "stdout",
          "text": [
            "Trọng số Hidden layer: Parameter containing:\n",
            "tensor([[ 0.5000],\n",
            "        [-0.5000]], requires_grad=True)\n",
            "Bias Hidden layer: Parameter containing:\n",
            "tensor([ 1., -1.], requires_grad=True)\n",
            "Trọng số Output layer: Parameter containing:\n",
            "tensor([[1.5000, 2.0000]], requires_grad=True)\n",
            "Bias Output layer: Parameter containing:\n",
            "tensor([0.], requires_grad=True)\n"
          ]
        }
      ]
    },
    {
      "cell_type": "code",
      "source": [
        "for i in range(len(x_2)):\n",
        "    x = x_2[i]  # Đảm bảo x có kích thước (1, feature_size)\n",
        "    y = y_2[i] # Thêm một chiều để y có kích thước tương thích\n",
        "    print(f'x: {x}')\n",
        "    print(f'y: {y}')\n",
        "\n",
        "    # y_hat\n",
        "    z= model(x)\n",
        "    print(f'z: {z}')\n",
        "\n",
        "    # loss\n",
        "    loss = loss_fn(z, y)\n",
        "    print(f'loss: {loss.item()}')\n",
        "\n",
        "    # compute gradient\n",
        "    optimizer.zero_grad()\n",
        "    loss.backward()\n",
        "    print(f'Gradient Hidden Layer (weight): {model[0].weight.grad}')\n",
        "    print(f'Gradient Hidden Layer (bias): {model[0].bias.grad}')\n",
        "    print(f'Gradient Output Layer (weight): {model[2].weight.grad}')\n",
        "    print(f'Gradient Output Layer (bias): {model[2].bias.grad}')\n",
        "    print()\n",
        "\n",
        "    print(\"Trọng số Hidden layer:\", model[0].weight)\n",
        "    print(\"Bias Hidden layer:\", model[0].bias)\n",
        "    print(\"Trọng số Output layer:\", model[2].weight)\n",
        "    print(\"Bias Output layer:\", model[2].bias)\n",
        "    print()\n",
        "    print()\n",
        "    # update\n",
        "    optimizer.step()"
      ],
      "metadata": {
        "colab": {
          "base_uri": "https://localhost:8080/"
        },
        "id": "mUVezIKuknEF",
        "outputId": "31cbbed0-e982-4adc-f563-6cd8071866f5"
      },
      "execution_count": null,
      "outputs": [
        {
          "output_type": "stream",
          "name": "stdout",
          "text": [
            "x: tensor([50.])\n",
            "y: tensor([100.])\n",
            "z: tensor([39.], grad_fn=<ViewBackward0>)\n",
            "loss: 3721.0\n",
            "Gradient Hidden Layer (weight): tensor([[-9150.],\n",
            "        [    0.]])\n",
            "Gradient Hidden Layer (bias): tensor([-183.,    0.])\n",
            "Gradient Output Layer (weight): tensor([[-3172.,     0.]])\n",
            "Gradient Output Layer (bias): tensor([-122.])\n",
            "\n",
            "Trọng số Hidden layer: Parameter containing:\n",
            "tensor([[ 0.5000],\n",
            "        [-0.5000]], requires_grad=True)\n",
            "Bias Hidden layer: Parameter containing:\n",
            "tensor([ 1., -1.], requires_grad=True)\n",
            "Trọng số Output layer: Parameter containing:\n",
            "tensor([[1.5000, 2.0000]], requires_grad=True)\n",
            "Bias Output layer: Parameter containing:\n",
            "tensor([0.], requires_grad=True)\n",
            "\n",
            "\n",
            "x: tensor([60.])\n",
            "y: tensor([120.])\n",
            "z: tensor([46.5000], grad_fn=<ViewBackward0>)\n",
            "loss: 5402.25\n",
            "Gradient Hidden Layer (weight): tensor([[-22380.],\n",
            "        [     0.]])\n",
            "Gradient Hidden Layer (bias): tensor([-403.5000,    0.0000])\n",
            "Gradient Output Layer (weight): tensor([[-7729.,     0.]])\n",
            "Gradient Output Layer (bias): tensor([-269.])\n",
            "\n",
            "Trọng số Hidden layer: Parameter containing:\n",
            "tensor([[ 0.5000],\n",
            "        [-0.5000]], requires_grad=True)\n",
            "Bias Hidden layer: Parameter containing:\n",
            "tensor([ 1., -1.], requires_grad=True)\n",
            "Trọng số Output layer: Parameter containing:\n",
            "tensor([[1.5000, 2.0000]], requires_grad=True)\n",
            "Bias Output layer: Parameter containing:\n",
            "tensor([0.], requires_grad=True)\n",
            "\n",
            "\n",
            "x: tensor([70.])\n",
            "y: tensor([140.])\n",
            "z: tensor([54.], grad_fn=<ViewBackward0>)\n",
            "loss: 7396.0\n",
            "Gradient Hidden Layer (weight): tensor([[-40440.],\n",
            "        [     0.]])\n",
            "Gradient Hidden Layer (bias): tensor([-661.5000,    0.0000])\n",
            "Gradient Output Layer (weight): tensor([[-13921.,      0.]])\n",
            "Gradient Output Layer (bias): tensor([-441.])\n",
            "\n",
            "Trọng số Hidden layer: Parameter containing:\n",
            "tensor([[ 0.5000],\n",
            "        [-0.5000]], requires_grad=True)\n",
            "Bias Hidden layer: Parameter containing:\n",
            "tensor([ 1., -1.], requires_grad=True)\n",
            "Trọng số Output layer: Parameter containing:\n",
            "tensor([[1.5000, 2.0000]], requires_grad=True)\n",
            "Bias Output layer: Parameter containing:\n",
            "tensor([0.], requires_grad=True)\n",
            "\n",
            "\n"
          ]
        }
      ]
    },
    {
      "cell_type": "code",
      "source": [
        "x_test = torch.tensor([50], dtype=torch.float32)\n",
        "y_hat = model(x_test)\n",
        "print(f'y_hat: {y_hat}')"
      ],
      "metadata": {
        "colab": {
          "base_uri": "https://localhost:8080/"
        },
        "id": "gI1cIcaLsBFc",
        "outputId": "98eecad4-28bd-4471-a5fb-8cad1eefaef0"
      },
      "execution_count": null,
      "outputs": [
        {
          "output_type": "stream",
          "name": "stdout",
          "text": [
            "y_hat: tensor([39.], grad_fn=<ViewBackward0>)\n"
          ]
        }
      ]
    },
    {
      "cell_type": "code",
      "source": [],
      "metadata": {
        "id": "Pi6ulp1sOOkM"
      },
      "execution_count": null,
      "outputs": []
    }
  ]
}