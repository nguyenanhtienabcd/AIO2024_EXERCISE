{
  "nbformat": 4,
  "nbformat_minor": 0,
  "metadata": {
    "colab": {
      "provenance": [],
      "authorship_tag": "ABX9TyNeiGbSKAXwHaNrRXhI4tf1",
      "include_colab_link": true
    },
    "kernelspec": {
      "name": "python3",
      "display_name": "Python 3"
    },
    "language_info": {
      "name": "python"
    }
  },
  "cells": [
    {
      "cell_type": "markdown",
      "metadata": {
        "id": "view-in-github",
        "colab_type": "text"
      },
      "source": [
        "<a href=\"https://colab.research.google.com/github/nguyenanhtienabcd/AIO2024_EXERCISE/blob/feature%2FMODULE5-WEEK4/m05w04_ex2.ipynb\" target=\"_parent\"><img src=\"https://colab.research.google.com/assets/colab-badge.svg\" alt=\"Open In Colab\"/></a>"
      ]
    },
    {
      "cell_type": "markdown",
      "source": [
        "## Ex2: SGD + Momentum"
      ],
      "metadata": {
        "id": "5uB7nrAsWXFR"
      }
    },
    {
      "cell_type": "markdown",
      "source": [
        "cho một hàm số Loss ban đầu như dưới đây:\n",
        "$$f(w_1, w_2) = 0.1w_1^2 + 2w_2^2 \\;\\;\\;\\;\\;\\;\\;(1)$$ \\\\\n",
        "Giá trị khởi tạo:\n",
        "$$w1 = -5,\\; w2 = -2,\\; v1 = 0,\\; v2 = 0,\\; \\alpha = 0.6,\\; \\beta = 0.5 = -5 $$ \\\\\n",
        "\n",
        "\n",
        "**Epoch1**:\n",
        "\n",
        "- **STEP1**: tính đạo hàm riêng cho hàm số \\\\\n",
        "$$\n",
        "\\begin{aligned}\n",
        "\\frac{\\partial f}{\\partial w_1} & = 2 \\cdot 0.1w_1 = 0.2w_1 = -1  \\\\\n",
        "\\frac{\\partial f}{\\partial w_2} & = 2 \\cdot 2w_2 = 4w_2 = -8\n",
        "\\end{aligned}\n",
        "$$\n",
        "\n",
        "- **STEP2**: cập nhật biến số của hàm v \\\\\n",
        "$$\n",
        "\\begin{aligned}\n",
        "v_1^1 &= \\beta \\cdot v_1 + (1-\\beta) \\cdot \\frac{\\partial f}{\\partial w_1}  = 0 + 0.5 \\cdot (-1) = -0.5  \\\\\n",
        "v_2^1&= \\beta \\cdot v_2 + (1-\\beta) \\cdot \\frac{\\partial f}{\\partial w_2}  = 0+ 0.5 \\cdot (-8) = -4\n",
        "\\end{aligned}\n",
        "$$\n",
        "\n",
        "- **STEP3**: cập nhật trọng số w \\\\\n",
        "$$\n",
        "\\begin{aligned}\n",
        "w_1^1 &= w_1 - \\alpha \\cdot v_1^1  = -5 - 0.6 \\cdot (-0.5) = -4.7  \\\\\n",
        "w_2^1 &= w_2 - \\alpha \\cdot v_2^1  = -2 - 0.6 \\cdot (-4) = 0.4\n",
        "\\end{aligned}\n",
        "$$ \\\\\n",
        "\n",
        "\n",
        "**Epoch2**:\n",
        "\n",
        "- **STEP1**: tính đạo hàm riêng cho hàm số \\\\\n",
        "$$\n",
        "\\begin{aligned}\n",
        "\\frac{\\partial f}{\\partial w_1} & = 2 \\cdot 0.1w_1 = 0.2w_1^1 = -0.94  \\\\\n",
        "\\frac{\\partial f}{\\partial w_2} & = 2 \\cdot 2w_2 = 4w_2^1 = 1.6\n",
        "\\end{aligned}\n",
        "$$\n",
        "\n",
        "- **STEP2**: cập nhật biến số của hàm v \\\\\n",
        "$$\n",
        "\\begin{aligned}\n",
        "v_1^2 &= \\beta \\cdot v_1^1 + (1-\\beta) \\cdot \\frac{\\partial f}{\\partial w_1}  = 0.5 \\cdot (-0.5) + 0.5 \\cdot (-0.94) = -0.72  \\\\\n",
        "v_2^2 &= \\beta \\cdot v_2^1 + (1-\\beta) \\cdot \\frac{\\partial f}{\\partial w_2}  = 0.5 \\cdot (-4) + 0.5 \\cdot 1.6 = -1.2\n",
        "\\end{aligned}\n",
        "$$\n",
        "\n",
        "- **STEP3**: cập nhật trọng số w \\\\\n",
        "$$\n",
        "\\begin{aligned}\n",
        "w_1^2 &= w_1^1 - \\alpha \\cdot v_1^2  = -4.7 - 0.6 \\cdot (-0.72) = -4.628  \\\\\n",
        "w_2^2 &= w_2^1 - \\alpha \\cdot v_2^2  = 0.4 - 0.6 \\cdot (-1.2) = 1.12\n",
        "\\end{aligned}\n",
        "$$\n"
      ],
      "metadata": {
        "id": "-WO0NsSxWJ7Q"
      }
    },
    {
      "cell_type": "code",
      "execution_count": 1,
      "metadata": {
        "id": "tWkzV4viVzSt"
      },
      "outputs": [],
      "source": [
        "import numpy as np"
      ]
    },
    {
      "cell_type": "code",
      "source": [
        "def df_w(W):\n",
        "    \"\"\"\n",
        "    Thực hiện tính gradient của dw1 và dw2\n",
        "    Arguments:\n",
        "    W -- np.array [w1, w2]\n",
        "    Returns:\n",
        "    dW -- np.array [dw1, dw2], array chứa giá trị đạo hàm theo w1 và w2\n",
        "    \"\"\"\n",
        "    W = np.asarray(W)\n",
        "    dW = np.array([0.2, 4])*W\n",
        "    return dW"
      ],
      "metadata": {
        "id": "hYOQXX6hWOWh"
      },
      "execution_count": 2,
      "outputs": []
    },
    {
      "cell_type": "code",
      "source": [
        "def sgd_momentum(W, dW, lr, V, beta):\n",
        "    \"\"\"\n",
        "    Thực hiện thuật tóan Gradient Descent + Momentum để update w1 và w2\n",
        "    Arguments:\n",
        "    W -- np.array: [w1, w2]\n",
        "    dW -- np.array: [dw1, dw2], array chứa giá trị đạo hàm theo w1 và w2\n",
        "    lr -- float: learning rate\n",
        "    V -- np.array: [v1, v2] Exponentially weighted averages gradients\n",
        "    beta -- float: hệ số long-range average\n",
        "    Returns:\n",
        "    W -- np.array: [w1, w2] w1 và w2 sau khi đã update\n",
        "    V -- np.array: [v1, v2] Exponentially weighted averages gradients sau khi đã cập nhật\n",
        "    \"\"\"\n",
        "    V = beta*V + (1-beta)*dW\n",
        "    W = W - lr*V\n",
        "\n",
        "    return W, V"
      ],
      "metadata": {
        "id": "s9dMLYsIWPlI"
      },
      "execution_count": 3,
      "outputs": []
    },
    {
      "cell_type": "code",
      "source": [
        "def train_p1(optimizer, lr, epochs):\n",
        "    \"\"\"\n",
        "    Thực hiện tìm điểm minimum của function (1) dựa vào thuật toán\n",
        "    được truyền vào từ optimizer\n",
        "    Arguments:\n",
        "    optimize : function thực hiện thuật toán optimization cụ thể\n",
        "    lr -- float: learning rate\n",
        "    epochs -- int: số lượng lần (epoch) lặp để tìm điểm minimum\n",
        "    Returns:\n",
        "    results -- list: list các cặp điểm [w1, w2] sau mỗi epoch (mỗi lần cập nhật)\n",
        "    \"\"\"\n",
        "    # initial\n",
        "    W = np.array([-5, -2], dtype=np.float32)\n",
        "    V = np.array([0, 0], dtype=np.float32)\n",
        "    results = [W]\n",
        "\n",
        "    for i in range(epochs):\n",
        "        dW = df_w(W)\n",
        "        W, V = optimizer(W, dW, lr = 0.6, V = V, beta = 0.5)\n",
        "        results.append(W)\n",
        "\n",
        "    return results"
      ],
      "metadata": {
        "id": "z5lwmiOZWR73"
      },
      "execution_count": 4,
      "outputs": []
    },
    {
      "cell_type": "code",
      "source": [
        "train_p1(sgd_momentum, lr = 0.6, epochs = 30)"
      ],
      "metadata": {
        "colab": {
          "base_uri": "https://localhost:8080/"
        },
        "id": "56wqZtUrWTyf",
        "outputId": "5b4c4c09-b7e7-451a-fd05-3d797c706173"
      },
      "execution_count": 5,
      "outputs": [
        {
          "output_type": "execute_result",
          "data": {
            "text/plain": [
              "[array([-5., -2.], dtype=float32),\n",
              " array([-4.7,  0.4]),\n",
              " array([-4.268,  1.12 ]),\n",
              " array([-3.79592,  0.136  ]),\n",
              " array([-3.3321248, -0.5192   ]),\n",
              " array([-2.90029971, -0.22376   ]),\n",
              " array([-2.51036919,  0.192472  ]),\n",
              " array([-2.16478177,  0.1696216 ]),\n",
              " array([-1.86210116, -0.04534952]),\n",
              " array([-1.59903478, -0.09841566]),\n",
              " array([-1.37155951, -0.00684994]),\n",
              " array([-1.1755283 ,  0.04715285]),\n",
              " array([-1.006981  ,  0.01757082]),\n",
              " array([-0.86228849, -0.01830518]),\n",
              " array([-0.73820492, -0.01427696]),\n",
              " array([-0.63187084,  0.0048695 ]),\n",
              " array([-0.54079155,  0.00859933]),\n",
              " array([-4.62804416e-01,  1.45050014e-04]),\n",
              " array([-0.39604258, -0.00425615]),\n",
              " array([-0.33889911, -0.00134937]),\n",
              " array([-0.28999343,  0.00172326]),\n",
              " array([-0.24814098,  0.00119166]),\n",
              " array([-0.2123263 , -0.00050413]),\n",
              " array([-0.18167938, -0.00074707]),\n",
              " array([-1.55455157e-01,  2.79448010e-05]),\n",
              " array([-0.13301574,  0.00038192]),\n",
              " array([-1.13815082e-01,  1.00603444e-04]),\n",
              " array([-0.09738585, -0.00016078]),\n",
              " array([-8.33280829e-02, -9.85353344e-05]),\n",
              " array([-7.12995144e-02,  5.08287536e-05]),\n",
              " array([-6.10072592e-02,  6.45162933e-05])]"
            ]
          },
          "metadata": {},
          "execution_count": 5
        }
      ]
    }
  ]
}