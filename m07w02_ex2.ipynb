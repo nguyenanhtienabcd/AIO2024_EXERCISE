{
  "cells": [
    {
      "cell_type": "markdown",
      "metadata": {
        "id": "view-in-github",
        "colab_type": "text"
      },
      "source": [
        "<a href=\"https://colab.research.google.com/github/nguyenanhtienabcd/AIO2024_EXERCISE/blob/feature%2FMODULE7-WEEK2/m07w02_ex2.ipynb\" target=\"_parent\"><img src=\"https://colab.research.google.com/assets/colab-badge.svg\" alt=\"Open In Colab\"/></a>"
      ]
    },
    {
      "cell_type": "markdown",
      "metadata": {
        "id": "uovdyNAQHyu7"
      },
      "source": [
        "## Classification + Bounding Box Regession"
      ]
    },
    {
      "cell_type": "code",
      "execution_count": 1,
      "metadata": {
        "colab": {
          "base_uri": "https://localhost:8080/"
        },
        "id": "5KlSh0t3HrXi",
        "outputId": "985c3aa8-89a0-4618-b0df-772fcbc1ceb2"
      },
      "outputs": [
        {
          "output_type": "stream",
          "name": "stdout",
          "text": [
            "Requirement already satisfied: kagglehub in /usr/local/lib/python3.11/dist-packages (0.3.6)\n",
            "Requirement already satisfied: packaging in /usr/local/lib/python3.11/dist-packages (from kagglehub) (24.2)\n",
            "Requirement already satisfied: requests in /usr/local/lib/python3.11/dist-packages (from kagglehub) (2.32.3)\n",
            "Requirement already satisfied: tqdm in /usr/local/lib/python3.11/dist-packages (from kagglehub) (4.67.1)\n",
            "Requirement already satisfied: charset-normalizer<4,>=2 in /usr/local/lib/python3.11/dist-packages (from requests->kagglehub) (3.4.1)\n",
            "Requirement already satisfied: idna<4,>=2.5 in /usr/local/lib/python3.11/dist-packages (from requests->kagglehub) (3.10)\n",
            "Requirement already satisfied: urllib3<3,>=1.21.1 in /usr/local/lib/python3.11/dist-packages (from requests->kagglehub) (2.3.0)\n",
            "Requirement already satisfied: certifi>=2017.4.17 in /usr/local/lib/python3.11/dist-packages (from requests->kagglehub) (2024.12.14)\n"
          ]
        }
      ],
      "source": [
        "pip install kagglehub"
      ]
    },
    {
      "cell_type": "code",
      "execution_count": 2,
      "metadata": {
        "colab": {
          "base_uri": "https://localhost:8080/"
        },
        "id": "BXLayhqld6T0",
        "outputId": "f050f320-c962-46ac-f980-12c48a33647b"
      },
      "outputs": [
        {
          "output_type": "stream",
          "name": "stdout",
          "text": [
            "Downloading from https://www.kaggle.com/api/v1/datasets/download/andrewmvd/dog-and-cat-detection?dataset_version_number=1...\n"
          ]
        },
        {
          "output_type": "stream",
          "name": "stderr",
          "text": [
            "100%|██████████| 1.03G/1.03G [00:21<00:00, 50.8MB/s]"
          ]
        },
        {
          "output_type": "stream",
          "name": "stdout",
          "text": [
            "Extracting files...\n"
          ]
        },
        {
          "output_type": "stream",
          "name": "stderr",
          "text": [
            "\n"
          ]
        },
        {
          "output_type": "stream",
          "name": "stdout",
          "text": [
            "Path to dataset files: /root/.cache/kagglehub/datasets/andrewmvd/dog-and-cat-detection/versions/1\n"
          ]
        }
      ],
      "source": [
        "import kagglehub\n",
        "data_dir = kagglehub.dataset_download(\"andrewmvd/dog-and-cat-detection\")\n",
        "print('Path to dataset files:', data_dir)"
      ]
    },
    {
      "cell_type": "code",
      "execution_count": 3,
      "metadata": {
        "id": "ulHQPpojjPS_"
      },
      "outputs": [],
      "source": [
        "import os\n",
        "import torch\n",
        "import torch.nn as nn\n",
        "import numpy as np\n",
        "import pandas as pd\n",
        "import seaborn as sns\n",
        "import torch.optim as optim\n",
        "import matplotlib.pyplot as plt\n",
        "import xml.etree.ElementTree as ET\n",
        "\n",
        "from PIL import Image\n",
        "from torch.utils.data import Dataset, DataLoader\n",
        "from torchvision import transforms, models\n",
        "from sklearn.metrics import confusion_matrix\n",
        "from sklearn.model_selection import train_test_split\n",
        "from torchvision.models.resnet import ResNet18_Weights"
      ]
    },
    {
      "cell_type": "code",
      "execution_count": 4,
      "metadata": {
        "id": "RbobIa3Ejw3T"
      },
      "outputs": [],
      "source": [
        "from genericpath import isfile\n",
        "# định nghĩa một lớp class image mới\n",
        "class ImageDataset(Dataset):\n",
        "\n",
        "  #------ khởi tạo dữ liệu---------\n",
        "  def __init__(self, annotations_dir, image_dir, transform = None):\n",
        "    self.annotations_dir = annotations_dir\n",
        "    self.image_dir = image_dir\n",
        "    self.transform = transform\n",
        "    self.image_files = self.filter_image_with_multiple_objects()\n",
        "\n",
        "  #------ lọc dữ liệu---------\n",
        "  def filter_image_with_multiple_objects(self):\n",
        "    # tạo một list chứa các file thỏa mãn\n",
        "    valid_image_files = []\n",
        "    for f in os.listdir(self.image_dir):\n",
        "      if os.path.isfile(os.path.join(self.image_dir, f)):\n",
        "        img_name = f\n",
        "        # mục đích của đoạn code này là chia file thành 2 phần\n",
        "        # [file name, extention] => [0] là lấy file name\n",
        "        annotation_name = img_name.split('.')[0] + '.xml'\n",
        "        annotation_path = os.path.join(self.annotations_dir, annotation_name)\n",
        "\n",
        "        # tạo một hàm dữ lại các ảnh có object đơn\n",
        "        if self.count_objects_in_annotation(annotation_path) ==1:\n",
        "          valid_image_files.append(img_name)\n",
        "        else:\n",
        "          print(f'Image {img_name} has multiple objects and will be excluded the dataset')\n",
        "    return valid_image_files\n",
        "\n",
        "   #------ đếm đối tượng---------\n",
        "  def count_objects_in_annotation(self, annotation_path):\n",
        "    try:\n",
        "      tree = ET.parse(annotation_path) # đọc file xml từ path\n",
        "      root = tree.getroot() # lấy phần gốc của file xml\n",
        "      count = 0\n",
        "      for obj in root.findall('object'):\n",
        "        count += 1\n",
        "      return count\n",
        "    except Exception as e:\n",
        "      print(f'Error reading annotation file {annotation_path}: {e}')\n",
        "      return 0\n",
        "\n",
        "  def __len__(self):\n",
        "    return len(self.image_files)\n",
        "\n",
        "  #------ lấy mẫu---------\n",
        "  def __getitem__(self, idx):\n",
        "    # đường dẫn ảnh\n",
        "    img_name = self.image_files[idx]\n",
        "    img_path = os.path.join(self.image_dir, img_name)\n",
        "\n",
        "    # load ảnh lên\n",
        "    image = Image.open(img_path).convert('RGB')\n",
        "\n",
        "    # annotation path\n",
        "    annotation_name = img_name.split('.')[0] + '.xml'\n",
        "    annotation_path = os.path.join(self.annotations_dir, annotation_name)\n",
        "\n",
        "    # Parse annotation\n",
        "    label, bbox = self.parse_annotation(annotation_path)\n",
        "    if self.transform:\n",
        "      image = self.transform(image)\n",
        "    return image, label, bbox\n",
        "\n",
        "    #------ phân tích annotations---------\n",
        "  def parse_annotation(self, annotation_path): # un-indent this method\n",
        "      tree = ET.parse(annotation_path)\n",
        "      root = tree.getroot()\n",
        "\n",
        "      # lấy kích thước của ảnh để chuẩn hóa\n",
        "      image_width = int(root.find('size').find('width').text)\n",
        "      image_height = int(root.find('size').find('height').text)\n",
        "\n",
        "      label = None\n",
        "      bbox = None\n",
        "\n",
        "      for obj in root.findall('object'):\n",
        "        name = obj.find('name').text\n",
        "        if (label is None):\n",
        "          # lấy label đầu tiên\n",
        "          label = name\n",
        "\n",
        "          # lấy thông tin về bounding box\n",
        "          xmin = int(obj.find('bndbox/xmin').text)\n",
        "          ymin = int(obj.find('bndbox/ymin').text)\n",
        "          xmax = int(obj.find('bndbox/xmin').text)\n",
        "          ymax = int(obj.find('bndbox/ymin').text)\n",
        "\n",
        "          # chuẩn hóa bounding box trong khoảng từ [0,1]\n",
        "          bbox = [xmin/image_width,\n",
        "                  ymin/image_height,\n",
        "                  xmax/image_width,\n",
        "                  ymax/image_height]\n",
        "\n",
        "        label_num = 0 if label == 'cat' else 1 if label == 'dog' else -1\n",
        "        return label_num, torch.tensor(bbox, dtype=torch.float32)"
      ]
    },
    {
      "cell_type": "code",
      "execution_count": 5,
      "metadata": {
        "id": "TqXHWS3IQZPI"
      },
      "outputs": [],
      "source": [
        "annotations_dir = os.path.join(data_dir, 'annotations')\n",
        "image_dir = os.path.join(data_dir, 'images')\n",
        "\n",
        "image_files = [f for f in os.listdir(image_dir) if os.path.isfile(os.path.join(image_dir, f))]\n",
        "df = pd.DataFrame({'image_name': image_files})\n",
        "\n"
      ]
    },
    {
      "cell_type": "code",
      "execution_count": 6,
      "metadata": {
        "id": "qSycZ6OyRo1O"
      },
      "outputs": [],
      "source": [
        "train_df, test_df = train_test_split(df, test_size=0.2, random_state=42)\n",
        "train_df, val_df = train_test_split(train_df, test_size=0.125, random_state=42)"
      ]
    },
    {
      "cell_type": "code",
      "execution_count": 7,
      "metadata": {
        "colab": {
          "base_uri": "https://localhost:8080/"
        },
        "id": "vSd8WeBfS5LQ",
        "outputId": "32fb7824-c003-4fb9-9daf-a8af78f005df"
      },
      "outputs": [
        {
          "output_type": "stream",
          "name": "stdout",
          "text": [
            "Image Cats_Test736.png has multiple objects and will be excluded the dataset\n",
            "Image Cats_Test736.png has multiple objects and will be excluded the dataset\n",
            "Image Cats_Test736.png has multiple objects and will be excluded the dataset\n"
          ]
        }
      ],
      "source": [
        "# transform và chuyển dữ liệu sang tensor\n",
        "from torchvision import transforms\n",
        "transform = transforms.Compose([\n",
        "    transforms.Resize((224, 224)),\n",
        "    transforms.ToTensor(),\n",
        "    transforms.Normalize(mean=[0.485, 0.456, 0.406], std=[0.229, 0.224, 0.225])\n",
        "])\n",
        "\n",
        "# Dataset\n",
        "#train_dataset, val_dataset, test_dataset có cùng một tệp dữ liệu\n",
        "train_dataset = ImageDataset(annotations_dir, image_dir, transform)\n",
        "val_dataset = ImageDataset(annotations_dir, image_dir, transform)\n",
        "test_dataset = ImageDataset(annotations_dir, image_dir, transform)\n",
        "\n",
        "# lọc dataset\n",
        "# lọc tất cả các file nào nằm trong dataframe train, val, test\n",
        "train_dataset.image_files =  [f for f in train_dataset.image_files if f in train_df['image_name'].values]\n",
        "val_dataset.image_files =  [f for f in val_dataset.image_files if f in val_df['image_name'].values]\n",
        "test_dataset.image_files =  [f for f in test_dataset.image_files if f in test_df['image_name'].values]\n"
      ]
    },
    {
      "cell_type": "code",
      "execution_count": 8,
      "metadata": {
        "id": "4h14_f21TTuA"
      },
      "outputs": [],
      "source": [
        "batch_size = 32\n",
        "train_loader = DataLoader(train_dataset, batch_size=batch_size, shuffle=True)\n",
        "val_loader = DataLoader(val_dataset, batch_size=batch_size, shuffle=False)\n",
        "test_loader = DataLoader(test_dataset, batch_size=batch_size, shuffle=False)\n"
      ]
    },
    {
      "cell_type": "code",
      "execution_count": 9,
      "metadata": {
        "id": "ne3azjibXwkO"
      },
      "outputs": [],
      "source": [
        "class TwoHeadeModel(nn.Module):\n",
        "  def __init__(self, num_classes = 2):\n",
        "    super(TwoHeadeModel, self).__init__()\n",
        "    self.base_model = models.resnet18(weights=ResNet18_Weights.DEFAULT)\n",
        "    # lất layer cuối cùng ra\n",
        "    self.num_ftrs = self.base_model.fc.in_features\n",
        "    # thay đổi layer cuối cùng\n",
        "    self.base_model.fc = nn.Identity()\n",
        "\n",
        "    # xóa toàn bộ trọng số của layer cuối cùng, sau đó tuning lại\n",
        "    self.classifier = nn.Linear(self.num_ftrs, num_classes)\n",
        "\n",
        "    # bounding box head (x_min, y_min, x_max, y_max)\n",
        "    self.bbox_regressor = nn.Linear(self.num_ftrs, 4)\n",
        "\n",
        "  def forward(self, x):\n",
        "    base_out = self.base_model(x)\n",
        "    class_out = self.classifier(base_out)\n",
        "    # tại vì ban đầu mình đã normalize trong khoảng (0,1)\n",
        "    bbox_out = torch.sigmoid(self.bbox_regressor(base_out))\n",
        "\n",
        "    return class_out, bbox_out"
      ]
    },
    {
      "cell_type": "markdown",
      "metadata": {
        "id": "KJcQno2jrjoJ"
      },
      "source": [
        "Cài đặt cho model"
      ]
    },
    {
      "cell_type": "code",
      "execution_count": 10,
      "metadata": {
        "colab": {
          "base_uri": "https://localhost:8080/"
        },
        "id": "kpg31noFrlkd",
        "outputId": "8da7987d-3ae8-4aec-d824-4c43da1feb5d"
      },
      "outputs": [
        {
          "output_type": "stream",
          "name": "stderr",
          "text": [
            "Downloading: \"https://download.pytorch.org/models/resnet18-f37072fd.pth\" to /root/.cache/torch/hub/checkpoints/resnet18-f37072fd.pth\n",
            "100%|██████████| 44.7M/44.7M [00:00<00:00, 186MB/s]\n"
          ]
        }
      ],
      "source": [
        "model = TwoHeadeModel()\n",
        "device = torch.device(\"cuda\" if torch.cuda.is_available() else \"cpu\")\n",
        "model.to(device)\n",
        "\n",
        "criterion_class = nn.CrossEntropyLoss()\n",
        "criterion_bbox = nn.MSELoss()\n",
        "optimizer = optim.Adam(model.parameters(), lr=0.001)\n"
      ]
    },
    {
      "cell_type": "code",
      "execution_count": 11,
      "metadata": {
        "colab": {
          "base_uri": "https://localhost:8080/"
        },
        "id": "0lQp6mzKtYLO",
        "outputId": "fe3ffa72-fb1e-46ec-b86d-22b264688930"
      },
      "outputs": [
        {
          "output_type": "stream",
          "name": "stdout",
          "text": [
            "Epoch 1/10, Validation Accuracy : 90.79%,Avg. Bbox Loss : 0.0157\n",
            "Epoch 2/10, Validation Accuracy : 66.94%,Avg. Bbox Loss : 0.0111\n",
            "Epoch 3/10, Validation Accuracy : 92.41%,Avg. Bbox Loss : 0.0096\n",
            "Epoch 4/10, Validation Accuracy : 90.79%,Avg. Bbox Loss : 0.0107\n",
            "Epoch 5/10, Validation Accuracy : 88.08%,Avg. Bbox Loss : 0.0070\n",
            "Epoch 6/10, Validation Accuracy : 95.93%,Avg. Bbox Loss : 0.0065\n",
            "Epoch 7/10, Validation Accuracy : 93.77%,Avg. Bbox Loss : 0.0071\n",
            "Epoch 8/10, Validation Accuracy : 82.38%,Avg. Bbox Loss : 0.0080\n",
            "Epoch 9/10, Validation Accuracy : 94.04%,Avg. Bbox Loss : 0.0066\n",
            "Epoch 10/10, Validation Accuracy : 94.04%,Avg. Bbox Loss : 0.0069\n"
          ]
        }
      ],
      "source": [
        "# trainning loop\n",
        "num_epochs = 10\n",
        "for epoch in range(num_epochs):\n",
        "  model.train()\n",
        "  for batch_idx, (images, labels, bboxes) in enumerate(train_loader):\n",
        "    images = images.to(device)\n",
        "    labels = labels.to(device)\n",
        "    bboxes = bboxes.to(device)\n",
        "    optimizer.zero_grad()\n",
        "\n",
        "    class_outputs, bbox_outputs = model(images)\n",
        "    loss_class = criterion_class(class_outputs, labels)\n",
        "    loss_bbox = criterion_bbox(bbox_outputs, bboxes)\n",
        "    loss = loss_class + loss_bbox # loss combination\n",
        "    loss.backward()\n",
        "    optimizer.step()\n",
        "\n",
        "  model.eval()\n",
        "  with torch.no_grad():\n",
        "    correct = 0\n",
        "    total = 0\n",
        "    total_sample = 0\n",
        "    total_loss_bbox = 0\n",
        "    total_loss_class = 0\n",
        "    for images, labels, bboxes in val_loader:\n",
        "      images = images.to(device)\n",
        "      labels = labels.to(device)\n",
        "      bboxes = bboxes.to(device)\n",
        "\n",
        "      class_outputs, bbox_outputs = model(images)\n",
        "      _, predicted = torch.max(class_outputs.data, 1)\n",
        "      total += labels.size(0)\n",
        "      correct += (predicted == labels).sum().item()\n",
        "\n",
        "      # tính toán bounding box cho việc giám sát\n",
        "      loss_bbox = criterion_bbox(bbox_outputs, bboxes)\n",
        "      total_loss_bbox += loss_bbox.item() * images.size(0)\n",
        "      total_sample += images.size(0)\n",
        "\n",
        "    avg_loss_bbox = total_loss_bbox / total_sample\n",
        "    print (f'Epoch {epoch+1}/{num_epochs}, Validation Accuracy : {float(correct)/ float(total) *100:.2f}%,'\n",
        "            f'Avg. Bbox Loss : { avg_loss_bbox :.4f}')\n",
        "\n",
        "\n"
      ]
    },
    {
      "cell_type": "code",
      "execution_count": 12,
      "metadata": {
        "colab": {
          "base_uri": "https://localhost:8080/",
          "height": 582
        },
        "id": "3iiR1KuE0nRV",
        "outputId": "c827e80e-c1f2-4885-fc00-125a45ca1f17"
      },
      "outputs": [
        {
          "output_type": "stream",
          "name": "stdout",
          "text": [
            "Test Accuracy: 94.30%, Avg. Bbox Loss: 0.0063\n"
          ]
        },
        {
          "output_type": "display_data",
          "data": {
            "text/plain": [
              "<Figure size 800x600 with 2 Axes>"
            ],
            "image/png": "[encoded data removed]"
          },
          "metadata": {}
        }
      ],
      "source": [
        "# prompt: kiểm tra dữ liệu với tệp test\n",
        "\n",
        "# Assuming 'test_dataset' and 'test_loader' are defined as in the provided code.\n",
        "\n",
        "# Evaluation on the test set\n",
        "model.eval()\n",
        "with torch.no_grad():\n",
        "    correct = 0\n",
        "    total = 0\n",
        "    total_sample = 0\n",
        "    total_loss_bbox = 0\n",
        "    total_loss_class = 0\n",
        "    all_predictions = []\n",
        "    all_labels = []\n",
        "    for images, labels, bboxes in test_loader:\n",
        "        images = images.to(device)\n",
        "        labels = labels.to(device)\n",
        "        bboxes = bboxes.to(device)\n",
        "\n",
        "        class_outputs, bbox_outputs = model(images)\n",
        "        _, predicted = torch.max(class_outputs.data, 1)\n",
        "        total += labels.size(0)\n",
        "        correct += (predicted == labels).sum().item()\n",
        "\n",
        "        all_predictions.extend(predicted.cpu().numpy())\n",
        "        all_labels.extend(labels.cpu().numpy())\n",
        "\n",
        "        # Calculate bounding box loss for monitoring\n",
        "        loss_bbox = criterion_bbox(bbox_outputs, bboxes)\n",
        "        total_loss_bbox += loss_bbox.item() * images.size(0)\n",
        "        total_sample += images.size(0)\n",
        "\n",
        "    avg_loss_bbox = total_loss_bbox / total_sample\n",
        "    accuracy = float(correct) / float(total) * 100\n",
        "    print(f'Test Accuracy: {accuracy:.2f}%, Avg. Bbox Loss: {avg_loss_bbox:.4f}')\n",
        "\n",
        "    # Confusion matrix\n",
        "    cm = confusion_matrix(all_labels, all_predictions)\n",
        "    plt.figure(figsize=(8, 6))\n",
        "    sns.heatmap(cm, annot=True, fmt='d', cmap='Blues', xticklabels=['cat', 'dog'], yticklabels=['cat', 'dog'])\n",
        "    plt.xlabel('Predicted Labels')\n",
        "    plt.ylabel('True Labels')\n",
        "    plt.title('Confusion Matrix')\n",
        "    plt.show()"
      ]
    },
    {
      "cell_type": "code",
      "source": [
        "import matplotlib.pyplot as plt\n",
        "import matplotlib.patches as patches\n",
        "\n",
        "# Assuming you have a test_loader and model as defined in your previous code\n",
        "\n",
        "model.eval()\n",
        "with torch.no_grad():\n",
        "    for images, labels, bboxes in test_loader:\n",
        "        images = images.to(device)\n",
        "        labels, bboxes = labels.to(device), bboxes.to(device)\n",
        "        class_outputs, bbox_outputs = model(images)\n",
        "        _, predicted = torch.max(class_outputs, 1)\n",
        "\n",
        "        for i in range(images.shape[0]):  # Iterate through each image in the batch\n",
        "            image = images[i].permute(1, 2, 0).cpu().numpy()  # Convert image tensor to numpy array\n",
        "            image = (image * np.array([0.229, 0.224, 0.225])) + np.array([0.485, 0.456, 0.406]) #denormalize\n",
        "            image = np.clip(image,0,1) # clip image to valid range\n",
        "\n",
        "            true_label = labels[i].item()\n",
        "            predicted_label = predicted[i].item()\n",
        "\n",
        "            true_bbox = bboxes[i].cpu().numpy()\n",
        "            predicted_bbox = bbox_outputs[i].cpu().numpy()\n",
        "\n",
        "\n",
        "            fig, ax = plt.subplots(1)\n",
        "            ax.imshow(image)\n",
        "\n",
        "            # True bounding box\n",
        "            true_width = true_bbox[2] - true_bbox[0]\n",
        "            true_height = true_bbox[3] - true_bbox[1]\n",
        "            true_rect = patches.Rectangle((true_bbox[0]*224, true_bbox[1]*224), true_width *224, true_height*224, linewidth=2, edgecolor='g', facecolor='none')\n",
        "\n",
        "            # Predicted bounding box\n",
        "            predicted_width = predicted_bbox[2] - predicted_bbox[0]\n",
        "            predicted_height = predicted_bbox[3] - predicted_bbox[1]\n",
        "            predicted_rect = patches.Rectangle((predicted_bbox[0]*224, predicted_bbox[1]*224), predicted_width*224, predicted_height*224, linewidth=2, edgecolor='r', facecolor='none')\n",
        "\n",
        "            ax.add_patch(true_rect)\n",
        "            ax.add_patch(predicted_rect)\n",
        "\n",
        "            ax.set_title(f'True: {true_label}, Predicted: {predicted_label}')\n",
        "            plt.show()\n",
        "\n",
        "            #break  # remove this line to visualize all images in a batch\n",
        "        #break # remove this line to visualize all batches\n",
        "\n"
      ],
      "metadata": {
        "id": "3fQQntcs-dzn",
        "collapsed": true
      },
      "execution_count": null,
      "outputs": []
    }
  ],
  "metadata": {
    "accelerator": "GPU",
    "colab": {
      "gpuType": "T4",
      "provenance": [],
      "authorship_tag": "ABX9TyMDYlcNBz/BRLA3FYv8ilo6",
      "include_colab_link": true
    },
    "kernelspec": {
      "display_name": "Python 3",
      "name": "python3"
    },
    "language_info": {
      "name": "python"
    }
  },
  "nbformat": 4,
  "nbformat_minor": 0
}