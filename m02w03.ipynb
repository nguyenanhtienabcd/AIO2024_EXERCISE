{
 "cells": [
  {
   "cell_type": "markdown",
   "metadata": {},
   "source": [
    "## EX4"
   ]
  },
  {
   "cell_type": "code",
   "execution_count": 58,
   "metadata": {},
   "outputs": [],
   "source": [
    "import pandas as pd\n",
    "import numpy as np\n"
   ]
  },
  {
   "cell_type": "markdown",
   "metadata": {},
   "source": [
    "### Định nghĩa các hàm"
   ]
  },
  {
   "cell_type": "code",
   "execution_count": 60,
   "metadata": {},
   "outputs": [],
   "source": [
    "def create_train_data():\n",
    "    data = [\n",
    "        ['Sunny', 'Hot', 'High', 'Weak', 'no'],\n",
    "        ['Sunny', 'Hot', 'High', 'Strong', 'no'],\n",
    "        ['Overcast', 'Hot', 'High', 'Weak', 'yes'],\n",
    "        ['Rain', 'Mild', 'High', 'Weak', 'yes'],\n",
    "        ['Rain', 'Cool', 'Normal', 'Weak', 'yes'],\n",
    "        ['Rain', 'Cool', 'Normal', 'Strong', 'no'],\n",
    "        ['Overcast', 'Cool', 'Normal', 'Strong', 'yes'],\n",
    "        ['Overcast', 'Mild', 'High', 'Weak', 'no'],\n",
    "        ['Sunny', 'Cool', 'Normal', 'Weak', 'yes'],\n",
    "        ['Rain', 'Mild', 'Normal', 'Weak', 'yes']\n",
    "    ]\n",
    "    return np.array(data)\n"
   ]
  },
  {
   "cell_type": "code",
   "execution_count": 71,
   "metadata": {},
   "outputs": [],
   "source": [
    "def compute_prior_probability(train_data):\n",
    "    y_unique = ['no','yes']\n",
    "    prior_probability = np.zeros(len( y_unique))\n",
    "    count_no = np.count_nonzero(train_data[:,4] == y_unique[0])\n",
    "    count_yes = np.count_nonzero(train_data[:,4] == y_unique[1])\n",
    "    prior_probability[0] = count_no/(count_no + count_yes)\n",
    "    prior_probability[1] = count_yes/(count_no + count_yes)\n",
    "    return prior_probability"
   ]
  },
  {
   "cell_type": "code",
   "execution_count": 105,
   "metadata": {},
   "outputs": [],
   "source": [
    "def compute_conditional_probability(train_data):\n",
    "    y_unique = ['no','yes']\n",
    "    x_name_list = []\n",
    "    conditional_probability_no = []     # list chưa SX tương ứng x_name_list , với điều kiện no\n",
    "    conditional_probability_yes = []    # list chưa SX tương ứng x_name_list , với điều kiện yes\n",
    "    # lấy dữ liệu lần lượt tất cả các cột, trừ cột cuối cùng (cột xem là result)\n",
    "    for i in range (0, train_data.shape[1]-1):\n",
    "        x_unique = np.unique(train_data[:,i])\n",
    "        x_name_list.append(x_unique)\n",
    "\n",
    "        conditional_probability_no.append([0]*len(x_unique))\n",
    "        conditional_probability_yes.append([0]*len(x_unique))\n",
    "\n",
    "        for j in range (0, len(x_unique)):\n",
    "                ## tính toán conditional_probability cho 'no'\n",
    "            index_no = np.nonzero(train_data[:,train_data.shape[1]-1] == y_unique[0])[0]   # lấy index no cột cuối cùng\n",
    "            count_j = np.count_nonzero(train_data[:,i][index_no] == x_unique[j])\n",
    "            conditional_probability_no[i][j] = count_j/len(index_no)\n",
    "\n",
    "                ## tính toán conditional_probability cho 'yes'\n",
    "            index_yes = np.nonzero(train_data[:,train_data.shape[1]-1] == y_unique[1])[0]   # lấy index yes cột cuối cùng\n",
    "            count_j = np.count_nonzero(train_data[:,i][index_yes] == x_unique[j])\n",
    "            conditional_probability_yes[i][j] = count_j/len(index_yes)\n",
    "\n",
    "    conditional_probability = [conditional_probability_no,conditional_probability_yes]\n",
    "    return conditional_probability, x_name_list\n",
    "\n"
   ]
  },
  {
   "cell_type": "code",
   "execution_count": 119,
   "metadata": {},
   "outputs": [],
   "source": [
    "def get_index_from_value(value, x_name_list):\n",
    "    for i in range(len(x_name_list)):\n",
    "        for j in range (len(x_name_list[i])):\n",
    "            if x_name_list[i][j] == value:\n",
    "                return i,j\n"
   ]
  },
  {
   "cell_type": "code",
   "execution_count": 137,
   "metadata": {},
   "outputs": [],
   "source": [
    "# ##########################\n",
    "# Train Naive Bayes Model\n",
    "# ##########################\n",
    "def train_naive_bayes(train_data):\n",
    "    prior_probability = compute_prior_probability(train_data)\n",
    "    conditional_probability, x_name_list = compute_conditional_probability(train_data)\n",
    "    return prior_probability, conditional_probability, x_name_list "
   ]
  },
  {
   "cell_type": "markdown",
   "metadata": {},
   "source": [
    "### Cách 1: tường minh"
   ]
  },
  {
   "cell_type": "code",
   "execution_count": 142,
   "metadata": {},
   "outputs": [],
   "source": [
    "# ###################\n",
    "# Prediction\n",
    "# ###################\n",
    "def prediction_play_tennis (given_x, x_name_list , prior_probability , conditional_probability):\n",
    "    \n",
    "    x1 = get_index_from_value(given_x[0],x_name_list)\n",
    "    x2 = get_index_from_value(given_x[1],x_name_list)\n",
    "    x3 = get_index_from_value(given_x[2],x_name_list)\n",
    "    x4 = get_index_from_value(given_x[3],x_name_list)\n",
    "\n",
    "    # gán biến Prediction ban đầu\n",
    "    p0 = 0  # sx sẽ thực hiện no\n",
    "    p1 = 0  # sx sẽ thực hiện yes\n",
    "\n",
    "    # tính sx có điều kiện với 'no':  'p(no).p(x/no)'\n",
    "    x1_no = conditional_probability[0][x1[0]][x1[1]]\n",
    "    x2_no = conditional_probability[0][x2[0]][x2[1]]\n",
    "    x3_no = conditional_probability[0][x3[0]][x3[1]]\n",
    "    x4_no = conditional_probability[0][x4[0]][x4[1]]\n",
    "    p_no = prior_probability[0] * x1_no * x2_no * x3_no * x4_no\n",
    "\n",
    "    # tính sx có điều kiện với 'yes':  'p(yes).p(x/yes)'\n",
    "    x1_yes = conditional_probability[1][x1[0]][x1[1]]\n",
    "    x2_yes = conditional_probability[1][x2[0]][x2[1]]\n",
    "    x3_yes = conditional_probability[1][x3[0]][x3[1]]\n",
    "    x4_yes = conditional_probability[1][x4[0]][x4[1]]\n",
    "    p_yes = prior_probability[1] * x1_yes * x2_yes * x3_yes * x4_yes\n",
    "\n",
    "    # tính không gian mẫu\n",
    "    p_total = p_no + p_yes\n",
    "\n",
    "    # tính sx sẽ thực hiên (prediction)\n",
    "    p0 = p_no/p_total\n",
    "    p1 = p_yes/p_total\n",
    "\n",
    "    y_predict = None\n",
    "\n",
    "    if p0 > p1:\n",
    "        y_predict = 'NO'\n",
    "    if p0 < p1:\n",
    "        y_predict = 'YES'\n",
    "\n",
    "    return y_predict,p0,p1,p_no,p_yes\n",
    "\n"
   ]
  },
  {
   "cell_type": "markdown",
   "metadata": {},
   "source": [
    "### Cách 2: tổng quát hơn"
   ]
  },
  {
   "cell_type": "code",
   "execution_count": 153,
   "metadata": {},
   "outputs": [],
   "source": [
    "# ###################\n",
    "# Prediction\n",
    "# ###################\n",
    "def prediction_play_tennis_2 (given_x, x_name_list , prior_probability , conditional_probability):\n",
    "    \n",
    "    x0 = [get_index_from_value(a,x_name_list) for a in given_x]\n",
    "\n",
    "    # gán biến Prediction ban đầu\n",
    "    p0 = 0  # sx sẽ thực hiện no\n",
    "    p1 = 0  # sx sẽ thực hiện yes\n",
    "\n",
    "    # tính sx có điều kiện với 'no':  'p(no).p(x/no)'\n",
    "    x_no = [conditional_probability[0][x[0]][x[1]] for x in x0]\n",
    "    p_no = prior_probability[0] * np.prod(x_no)\n",
    "    # np.prod(x_no) nhân các hàng của một vector\n",
    "\n",
    "    # tính sx có điều kiện với 'yes':  'p(yes).p(x/yes)'\n",
    "    x_yes = [conditional_probability[1][x[0]][x[1]] for x in x0]\n",
    "    p_yes = prior_probability[1] * np.prod(x_yes)\n",
    "\n",
    "    # tính không gian mẫu\n",
    "    p_total = p_no + p_yes\n",
    "\n",
    "    # tính sx sẽ thực hiên (prediction)\n",
    "    p0 = p_no/p_total\n",
    "    p1 = p_yes/p_total\n",
    "\n",
    "    y_predict = None\n",
    "\n",
    "    if p0 > p1:\n",
    "        y_predict = 'NO'\n",
    "    if p0 < p1:\n",
    "        y_predict = 'YES'\n",
    "\n",
    "    return y_predict,p0,p1,p_no,p_yes"
   ]
  },
  {
   "cell_type": "markdown",
   "metadata": {},
   "source": [
    "### Test kết quả"
   ]
  },
  {
   "cell_type": "code",
   "execution_count": 154,
   "metadata": {},
   "outputs": [
    {
     "name": "stdout",
     "output_type": "stream",
     "text": [
      "NO 0.8709677419354839 0.1290322580645161 0.018750000000000003 0.0027777777777777775\n"
     ]
    }
   ],
   "source": [
    "train_data = create_train_data()\n",
    "X = ['Sunny','Cool', 'High', 'Strong']\n",
    "prior_probability, conditional_probability, x_name_list = train_naive_bayes(train_data)\n",
    "y_predict,p0,p1,p_no,p_yes = prediction_play_tennis(X, x_name_list , prior_probability , conditional_probability)\n",
    "print(y_predict,p0,p1,p_no,p_yes)\n"
   ]
  },
  {
   "cell_type": "code",
   "execution_count": 155,
   "metadata": {},
   "outputs": [
    {
     "name": "stdout",
     "output_type": "stream",
     "text": [
      "NO 0.8709677419354839 0.1290322580645161 0.018750000000000003 0.0027777777777777775\n"
     ]
    }
   ],
   "source": [
    "train_data = create_train_data()\n",
    "X = ['Sunny','Cool', 'High', 'Strong']\n",
    "prior_probability, conditional_probability, x_name_list = train_naive_bayes(train_data)\n",
    "y_predict,p0,p1,p_no,p_yes = prediction_play_tennis_2 (X, x_name_list , prior_probability , conditional_probability)\n",
    "print(y_predict,p0,p1,p_no,p_yes)"
   ]
  },
  {
   "cell_type": "code",
   "execution_count": 318,
   "metadata": {},
   "outputs": [
    {
     "name": "stdout",
     "output_type": "stream",
     "text": [
      "sắc xuất play tenis = \"no\":  ['no' 'yes']\n",
      "sắc xuất play tenis = \"yes\":  [0.4 0.6]\n"
     ]
    }
   ],
   "source": [
    "train_data = create_train_data()\n",
    "prior_probability = compute_prior_probability(train_data)\n",
    "print('sắc xuất play tenis = \"no\": ',prior_probability[0])\n",
    "print('sắc xuất play tenis = \"yes\": ',prior_probability[1])\n"
   ]
  },
  {
   "cell_type": "markdown",
   "metadata": {},
   "source": [
    "## EX5:"
   ]
  },
  {
   "cell_type": "code",
   "execution_count": 279,
   "metadata": {},
   "outputs": [],
   "source": [
    "import numpy as np\n",
    "import pandas as pd\n",
    "import math\n"
   ]
  },
  {
   "cell_type": "markdown",
   "metadata": {},
   "source": [
    "### Create Functions"
   ]
  },
  {
   "cell_type": "code",
   "execution_count": 280,
   "metadata": {},
   "outputs": [],
   "source": [
    "def create_data_iris(path):\n",
    "    data_fr = pd.read_csv(path, header=None)\n",
    "    header = ['Sepal length','Sepal width','Petal length', 'Petal width', 'Species']\n",
    "    data_fr.columns=header\n",
    "    train_data = data_fr.to_numpy()\n",
    "    return train_data\n"
   ]
  },
  {
   "cell_type": "code",
   "execution_count": 281,
   "metadata": {},
   "outputs": [],
   "source": [
    "def compute_prior_probability(train_data):\n",
    "    last_col = len(train_data[1,:])-1\n",
    "    y_unique = np.unique(train_data[:,last_col]) #last column in table\n",
    "    count = [np.count_nonzero(train_data[:,last_col] == y) for y in y_unique ]\n",
    "    prior_probability = count/np.sum(count)\n",
    "    return y_unique, prior_probability"
   ]
  },
  {
   "cell_type": "code",
   "execution_count": 305,
   "metadata": {},
   "outputs": [],
   "source": [
    "def gaussian_function(x,mean, sqrt_var):\n",
    "    gaus = []\n",
    "    for i in range(len(mean)):\n",
    "        p1 = 1/(sqrt_var[i]*np.sqrt(2*np.pi))\n",
    "        p2 = pow((x[i]-mean[i])/sqrt_var[i],2)\n",
    "        p3 = np.exp(-p2/2)\n",
    "        gaus.append(p1*p3) \n",
    "    return np.array(gaus)"
   ]
  },
  {
   "cell_type": "code",
   "execution_count": null,
   "metadata": {},
   "outputs": [],
   "source": [
    "def compute_conditional_probability(x, train_data):\n",
    "    last_col = len(train_data[1,:])-1\n",
    "    y_unique = np.unique(train_data[:,last_col])\n",
    "    conditional_probability = []\n",
    "    for i in range(len(y_unique)):\n",
    "        index = np.nonzero(train_data[:,train_data.shape[1]-1] == y_unique[i])[0]   # lấy index y_unique[i] cột cuối cùng\n",
    "        table_i = train_data[index,:train_data.shape[1]-1]\n",
    "        mean_i = np.mean(table_i, axis=0)\n",
    "        var_i = np.var(table_i, axis=0)\n",
    "        sqrt_var_i = []\n",
    "        for data in var_i:\n",
    "            sqrt_var_i.append(math.sqrt(data))\n",
    "        sqrt_var_i = np.array(sqrt_var_i)\n",
    "\n",
    "        # tính sx của từng hàng\n",
    "        p_i = gaussian_function(x,mean_i,sqrt_var_i)\n",
    "\n",
    "        # sx có điều kiện của tưng thành phần\n",
    "        conditional_probability.append(np.prod(p_i))\n",
    "\n",
    "    \n",
    "    return np.array(conditional_probability)"
   ]
  },
  {
   "cell_type": "code",
   "execution_count": 320,
   "metadata": {},
   "outputs": [],
   "source": [
    "def train_gaussian_naive(x, train_data):\n",
    "    y_unique, prior_probability = compute_prior_probability(train_data)\n",
    "    conditional_probability = compute_conditional_probability(x, train_data)\n",
    "    return y_unique, prior_probability,conditional_probability\n",
    "    "
   ]
  },
  {
   "cell_type": "code",
   "execution_count": 321,
   "metadata": {},
   "outputs": [],
   "source": [
    "def predict_data_iris(y_unique,prior_probability,conditional_probability):\n",
    "    p = prior_probability*conditional_probability\n",
    "    predict_list = (p/np.sum(p))\n",
    "    index_predict = np.nonzero(predict_list == np.max(predict_list))[0]\n",
    "    predict = y_unique[index_predict]\n",
    "    return predict"
   ]
  },
  {
   "cell_type": "markdown",
   "metadata": {},
   "source": [
    "### Test result"
   ]
  },
  {
   "cell_type": "code",
   "execution_count": 310,
   "metadata": {},
   "outputs": [
    {
     "name": "stdout",
     "output_type": "stream",
     "text": [
      "['Iris-setosa' 'Iris-versicolor' 'Iris-virginica']\n",
      "Iris-setosa\n",
      "[ 0  1  2  3  4  5  6  7  8  9 10 11 12 13 14 15 16 17 18 19 20 21 22 23\n",
      " 24 25 26 27 28 29 30 31 32 33 34 35 36 37 38 39 40 41 42 43 44 45 46 47\n",
      " 48 49]\n",
      "\n",
      "[5.005999999999999 3.4180000000000006 1.464 0.2439999999999999]\n",
      "[0.12176399999999993 0.142276 0.02950400000000001 0.011263999999999996]\n",
      "\n",
      "<class 'numpy.ndarray'>\n",
      "\n",
      "[0.33333333 0.33333333 0.33333333]\n"
     ]
    }
   ],
   "source": [
    "train_data = create_data_iris('iris.data.csv')\n",
    "y_unique, prior_probability = compute_prior_probability(train_data)\n",
    "index = np.nonzero(train_data[:,train_data.shape[1]-1] == y_unique[0])[0]\n",
    "table_i = train_data[index,:train_data.shape[1]-1]\n",
    "mean_i = np.mean(table_i, axis=0)\n",
    "var_i = np.var(table_i, axis=0)\n",
    "sqrt_var_i = []\n",
    "for data in var_i:\n",
    "    sqrt_var_i.append(math.sqrt(data))\n",
    "sqrt_var_i = np.array(sqrt_var_i)\n",
    "\n",
    "print(y_unique)\n",
    "print(y_unique[0])\n",
    "print(index)\n",
    "print()\n",
    "print(mean_i)\n",
    "print(var_i)\n",
    "print()\n",
    "print(type(sqrt_var_i))\n",
    "#print(np.sqrt(var_i))\n",
    "print()\n",
    "print(prior_probability)"
   ]
  },
  {
   "cell_type": "code",
   "execution_count": 322,
   "metadata": {},
   "outputs": [
    {
     "data": {
      "text/plain": [
       "array(['Iris-virginica'], dtype=object)"
      ]
     },
     "execution_count": 322,
     "metadata": {},
     "output_type": "execute_result"
    }
   ],
   "source": [
    "train_data = create_data_iris('iris.data.csv')\n",
    "X = [6.3 , 3.3 , 6.0 , 2.5]\n",
    "y_unique, prior_probability = compute_prior_probability(train_data)\n",
    "conditional_probability = compute_conditional_probability(X, train_data)\n",
    "predict  = predict_data_iris(y_unique,prior_probability,conditional_probability)\n",
    "predict"
   ]
  },
  {
   "cell_type": "code",
   "execution_count": 315,
   "metadata": {},
   "outputs": [
    {
     "data": {
      "text/plain": [
       "array(['Iris-versicolor'], dtype=object)"
      ]
     },
     "execution_count": 315,
     "metadata": {},
     "output_type": "execute_result"
    }
   ],
   "source": [
    "X = [5.0 ,2.0 ,3.5 ,1.0]\n",
    "y_unique, prior_probability = compute_prior_probability(train_data)\n",
    "conditional_probability = compute_conditional_probability(X, train_data)\n",
    "predict = predict_data_iris(y_unique,prior_probability,conditional_probability)\n",
    "predict"
   ]
  },
  {
   "cell_type": "code",
   "execution_count": 316,
   "metadata": {},
   "outputs": [
    {
     "data": {
      "text/plain": [
       "array(['Iris-setosa'], dtype=object)"
      ]
     },
     "execution_count": 316,
     "metadata": {},
     "output_type": "execute_result"
    }
   ],
   "source": [
    "X = [4.9 ,3.1 ,1.5 ,0.1]\n",
    "y_unique, prior_probability = compute_prior_probability(train_data)\n",
    "conditional_probability = compute_conditional_probability(X, train_data)\n",
    "predict = predict_data_iris(y_unique,prior_probability,conditional_probability)\n",
    "predict"
   ]
  }
 ],
 "metadata": {
  "kernelspec": {
   "display_name": "Python 3",
   "language": "python",
   "name": "python3"
  },
  "language_info": {
   "codemirror_mode": {
    "name": "ipython",
    "version": 3
   },
   "file_extension": ".py",
   "mimetype": "text/x-python",
   "name": "python",
   "nbconvert_exporter": "python",
   "pygments_lexer": "ipython3",
   "version": "3.12.4"
  }
 },
 "nbformat": 4,
 "nbformat_minor": 2
}
