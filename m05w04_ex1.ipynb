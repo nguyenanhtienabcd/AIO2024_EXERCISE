{
  "nbformat": 4,
  "nbformat_minor": 0,
  "metadata": {
    "colab": {
      "provenance": [],
      "toc_visible": true,
      "authorship_tag": "ABX9TyNp5205zisvyih+9j9OHU0v",
      "include_colab_link": true
    },
    "kernelspec": {
      "name": "python3",
      "display_name": "Python 3"
    },
    "language_info": {
      "name": "python"
    }
  },
  "cells": [
    {
      "cell_type": "markdown",
      "metadata": {
        "id": "view-in-github",
        "colab_type": "text"
      },
      "source": [
        "<a href=\"https://colab.research.google.com/github/nguyenanhtienabcd/AIO2024_EXERCISE/blob/feature%2FMODULE5-WEEK4/m05w04_ex1.ipynb\" target=\"_parent\"><img src=\"https://colab.research.google.com/assets/colab-badge.svg\" alt=\"Open In Colab\"/></a>"
      ]
    },
    {
      "cell_type": "markdown",
      "source": [
        "## Ex1: Stochastic Gradient Descent"
      ],
      "metadata": {
        "id": "9-lW96U6FhPF"
      }
    },
    {
      "cell_type": "markdown",
      "source": [
        "cho một hàm số Loss ban đầu như dưới đây:\n",
        "$$f(w_1, w_2) = 0.1w_1^2 + 2w_2^2 \\;\\;\\;\\;\\;\\;\\;(1)$$ \\\\\n",
        "Giá trị khởi tạo:\n",
        "$$w_1 = -5, \\; w_2 = -2, \\; \\alpha = 0.4$$\n"
      ],
      "metadata": {
        "id": "0Kjjqi5SKJeU"
      }
    },
    {
      "cell_type": "markdown",
      "source": [
        "\n",
        "- **STEP1**: tính đạo hàm riêng cho hàm số \\\\\n",
        "$$\n",
        "\\begin{aligned}\n",
        "\\frac{\\partial f}{\\partial w_1} & = 2 \\cdot 0.1w_1 = 0.2w_1 = -1  \\\\\n",
        "\\frac{\\partial f}{\\partial w_2} & = 2 \\cdot 2w_2 = 4w_2 = -8\n",
        "\\end{aligned}\n",
        "$$\n",
        "\n",
        "- **STEP2**: cập nhật trọng số \\\\\n",
        "$$\n",
        "\\begin{aligned}\n",
        "w_1 = w_1 - \\alpha * \\frac{\\partial f}{\\partial w_1}  = -5 - 0.4*(-1) = -4.6  \\\\\n",
        "w_2 = w_2 - \\alpha * \\frac{\\partial f}{\\partial w_2}  = -2 - 0.4*(-8) = 1.2\n",
        "\\end{aligned}\n",
        "$$\n",
        "\n"
      ],
      "metadata": {
        "id": "SDxe8q6NNBEH"
      }
    },
    {
      "cell_type": "code",
      "source": [
        "import numpy as np"
      ],
      "metadata": {
        "id": "lgxgqXrMNAeG"
      },
      "execution_count": null,
      "outputs": []
    },
    {
      "cell_type": "code",
      "source": [
        "def df_w(W):\n",
        "    \"\"\"\n",
        "    Thực hiện tính gradient của dw1 và dw2\n",
        "    Arguments:\n",
        "    W -- np.array [w1, w2]\n",
        "    Returns:\n",
        "    dW -- np.array [dw1, dw2], array chứa giá trị đạo hàm theo w1 và w2\n",
        "    \"\"\"\n",
        "    W = np.asarray(W)\n",
        "    dW = np.array([0.2, 4])*W\n",
        "    return dW"
      ],
      "metadata": {
        "id": "GW_fQXUBUFOh"
      },
      "execution_count": null,
      "outputs": []
    },
    {
      "cell_type": "code",
      "source": [
        "def sgd(W, dW, lr):\n",
        "    \"\"\"\n",
        "    Thực hiện thuật tóa Gradient Descent để update w1 và w2\n",
        "    Arguments:\n",
        "    W -- np.array: [w1, w2]\n",
        "    dW -- np.array: [dw1, dw2], array chứa giá trị đạo hàm theo w1 và w2\n",
        "    lr -- float: learning rate\n",
        "    Returns:\n",
        "    W -- np.array: [w1, w2] w1 và w2 sau khi đã update\n",
        "    \"\"\"\n",
        "    W = W - lr*dW\n",
        "    return W"
      ],
      "metadata": {
        "id": "fE9xych5FkvB"
      },
      "execution_count": null,
      "outputs": []
    },
    {
      "cell_type": "code",
      "source": [
        "epoches = 30\n",
        "W = np.array([-5, -2])\n",
        "for i in range(epoches):\n",
        "    dW = df_w(W)\n",
        "    W = sgd(W, dW, 0.4)\n",
        "    print(W)"
      ],
      "metadata": {
        "colab": {
          "base_uri": "https://localhost:8080/"
        },
        "id": "DnIxScyfV3M6",
        "outputId": "15e1b558-5a60-4084-bfe7-0cbad08880eb"
      },
      "execution_count": null,
      "outputs": [
        {
          "output_type": "stream",
          "name": "stdout",
          "text": [
            "[-4.6  1.2]\n",
            "[-4.232 -0.72 ]\n",
            "[-3.89344  0.432  ]\n",
            "[-3.5819648 -0.2592   ]\n",
            "[-3.29540762  0.15552   ]\n",
            "[-3.03177501 -0.093312  ]\n",
            "[-2.78923301  0.0559872 ]\n",
            "[-2.56609437 -0.03359232]\n",
            "[-2.36080682  0.02015539]\n",
            "[-2.17194227 -0.01209324]\n",
            "[-1.99818689  0.00725594]\n",
            "[-1.83833194 -0.00435356]\n",
            "[-1.69126538  0.00261214]\n",
            "[-1.55596415 -0.00156728]\n",
            "[-1.43148702e+00  9.40369969e-04]\n",
            "[-1.31696806e+00 -5.64221981e-04]\n",
            "[-1.21161061e+00  3.38533189e-04]\n",
            "[-1.11468176e+00 -2.03119913e-04]\n",
            "[-1.02550722e+00  1.21871948e-04]\n",
            "[-9.43466646e-01 -7.31231688e-05]\n",
            "[-8.67989314e-01  4.38739013e-05]\n",
            "[-7.98550169e-01 -2.63243408e-05]\n",
            "[-7.34666155e-01  1.57946045e-05]\n",
            "[-6.75892863e-01 -9.47676268e-06]\n",
            "[-6.21821434e-01  5.68605761e-06]\n",
            "[-5.72075719e-01 -3.41163456e-06]\n",
            "[-5.26309662e-01  2.04698074e-06]\n",
            "[-4.84204889e-01 -1.22818844e-06]\n",
            "[-4.45468498e-01  7.36913066e-07]\n",
            "[-4.09831018e-01 -4.42147839e-07]\n"
          ]
        }
      ]
    },
    {
      "cell_type": "markdown",
      "source": [],
      "metadata": {
        "id": "JMLr3gJ9Feok"
      }
    }
  ]
}