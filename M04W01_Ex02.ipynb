{
 "cells": [
  {
   "cell_type": "code",
   "execution_count": 47,
   "metadata": {},
   "outputs": [],
   "source": [
    "import numpy as np\n",
    "import matplotlib.pyplot as plt\n",
    "import random"
   ]
  },
  {
   "cell_type": "markdown",
   "metadata": {},
   "source": [
    "## function defination"
   ]
  },
  {
   "cell_type": "code",
   "execution_count": 48,
   "metadata": {},
   "outputs": [],
   "source": [
    "def get_column(data, index):\n",
    "    return [row[index] for row in data]"
   ]
  },
  {
   "cell_type": "code",
   "execution_count": 49,
   "metadata": {},
   "outputs": [],
   "source": [
    "def prepare_data(file_name_dataset):\n",
    "    data = np.genfromtxt(file_name_dataset, delimiter=',',\n",
    "                         skip_header=1).tolist()\n",
    "    X = [get_column(data, k) for k in range(3)]\n",
    "    y = get_column(data, 3)\n",
    "    return X, y"
   ]
  },
  {
   "cell_type": "code",
   "execution_count": 50,
   "metadata": {},
   "outputs": [],
   "source": [
    "def predict(x, w, b):\n",
    "    return sum([w_i * x_i for w_i, x_i in zip(w, x)]) + b"
   ]
  },
  {
   "cell_type": "code",
   "execution_count": 51,
   "metadata": {},
   "outputs": [],
   "source": [
    "def compute_loss(y_hat, y, loss_type=\"mse\"):\n",
    "    if loss_type == \"mae\":\n",
    "        return np.abs(y_hat - y)\n",
    "    elif loss_type == \"mse\":\n",
    "        return (y_hat - y) ** 2"
   ]
  },
  {
   "cell_type": "code",
   "execution_count": 52,
   "metadata": {},
   "outputs": [],
   "source": [
    "def compute_gradient_wi(xi, y_hat, y):\n",
    "    wi = 2*xi*(y_hat - y)\n",
    "    return wi"
   ]
  },
  {
   "cell_type": "code",
   "execution_count": 53,
   "metadata": {},
   "outputs": [],
   "source": [
    "def compute_gradient_b(y_hat, y):\n",
    "    b = 2*(y_hat - y)\n",
    "    return b"
   ]
  },
  {
   "cell_type": "code",
   "execution_count": 54,
   "metadata": {},
   "outputs": [],
   "source": [
    "def update_weight(wi, dl_dwi, lr):\n",
    "    w = wi - lr*dl_dwi\n",
    "    return w"
   ]
  },
  {
   "cell_type": "code",
   "execution_count": 55,
   "metadata": {},
   "outputs": [],
   "source": [
    "def update_bias(b, dl_db, lr):\n",
    "    return b - lr*dl_db"
   ]
  },
  {
   "cell_type": "code",
   "execution_count": 56,
   "metadata": {},
   "outputs": [],
   "source": [
    "def initialize_params():\n",
    "    return [0.01699, 0.00708, -0.00231], 0"
   ]
  },
  {
   "cell_type": "code",
   "execution_count": 57,
   "metadata": {},
   "outputs": [],
   "source": [
    "def implement_linear_regression(x_data, y_data, epoch_max=50, lr=1e-05):\n",
    "    losses = []\n",
    "    w, b = initialize_params()\n",
    "    n = len(y_data)\n",
    "    for _ in range(epoch_max):\n",
    "        for i in range(n):\n",
    "            x = [x_data[j][i] for j in range(len(x_data))]\n",
    "            y = y_data[i]\n",
    "            y_hat = predict(x, w, b)\n",
    "            loss = compute_loss(y_hat, y, loss_type=\"mse\")\n",
    "            dl_dw = [compute_gradient_wi(xi, y_hat, y) for xi in x]\n",
    "            dl_db = compute_gradient_b(y_hat, y)\n",
    "            w = [update_weight(wi, dl_dwi, lr) for wi, dl_dwi in zip(w, dl_dw)]\n",
    "            b = update_bias(b, dl_db, lr)\n",
    "            losses.append(loss)\n",
    "    return w, b, losses"
   ]
  },
  {
   "cell_type": "markdown",
   "metadata": {},
   "source": [
    "## question"
   ]
  },
  {
   "cell_type": "code",
   "execution_count": 58,
   "metadata": {},
   "outputs": [
    {
     "name": "stdout",
     "output_type": "stream",
     "text": [
      "question 01: [624.1, 175.1, 300.5, 78.9]\n"
     ]
    }
   ],
   "source": [
    "# question 01\n",
    "X, y = prepare_data('advertising.csv')\n",
    "list = [sum(X[0][:5]), sum(X[1][:5]), sum(X[2][:5]), sum(y[:5])]\n",
    "print('question 01:', list)"
   ]
  },
  {
   "cell_type": "code",
   "execution_count": 59,
   "metadata": {},
   "outputs": [
    {
     "name": "stdout",
     "output_type": "stream",
     "text": [
      "question 02: 1.0\n"
     ]
    }
   ],
   "source": [
    "# question 2\n",
    "x_1 = [1, 1, 1]\n",
    "w = [0, 0.5, 0]\n",
    "y_hat = predict(x_1, w, b=0.5)\n",
    "print('question 02:', y_hat)"
   ]
  },
  {
   "cell_type": "code",
   "execution_count": 60,
   "metadata": {},
   "outputs": [
    {
     "name": "stdout",
     "output_type": "stream",
     "text": [
      "question 03: 0.25\n"
     ]
    }
   ],
   "source": [
    "\n",
    "# question 3\n",
    "loss = compute_loss(y_hat, 0.5, 'mse')\n",
    "print('question 03:', loss)"
   ]
  },
  {
   "cell_type": "code",
   "execution_count": 61,
   "metadata": {},
   "outputs": [
    {
     "name": "stdout",
     "output_type": "stream",
     "text": [
      "question 04 1.0\n"
     ]
    }
   ],
   "source": [
    "\n",
    "# question 3\n",
    "dl_dwi = compute_gradient_wi(xi=1.0, y_hat=1.0, y=0.5)\n",
    "print('question 04', dl_dwi)\n"
   ]
  },
  {
   "cell_type": "code",
   "execution_count": 62,
   "metadata": {},
   "outputs": [
    {
     "name": "stdout",
     "output_type": "stream",
     "text": [
      "question 05 -3.0\n"
     ]
    }
   ],
   "source": [
    "\n",
    "# question 5\n",
    "dl_db = compute_gradient_b(y_hat=0.5, y=2.0)\n",
    "print('question 05', dl_db)"
   ]
  },
  {
   "cell_type": "code",
   "execution_count": 63,
   "metadata": {},
   "outputs": [
    {
     "name": "stdout",
     "output_type": "stream",
     "text": [
      "question 06 1.000005\n"
     ]
    }
   ],
   "source": [
    "\n",
    "# question 6\n",
    "after_wi = update_weight(wi=1.0, dl_dwi=-0.5, lr=1e-5)\n",
    "print('question 06', after_wi)"
   ]
  },
  {
   "cell_type": "code",
   "execution_count": 64,
   "metadata": {},
   "outputs": [
    {
     "name": "stdout",
     "output_type": "stream",
     "text": [
      "question 07 0.50001\n"
     ]
    }
   ],
   "source": [
    "# question 7\n",
    "after_b = update_weight(wi=0.5, dl_dwi=-1, lr=1e-5)\n",
    "print('question 07', after_b)"
   ]
  },
  {
   "cell_type": "code",
   "execution_count": 65,
   "metadata": {},
   "outputs": [
    {
     "name": "stdout",
     "output_type": "stream",
     "text": [
      "question 08: w1 = 0.07405984067937156, w2 = 0.159173602674084, w3 = 0.017561197577810533\n"
     ]
    }
   ],
   "source": [
    "# question 8\n",
    "w, b, losses = implement_linear_regression(X, y)\n",
    "print(f'question 08: w1 = {w[0]}, w2 = {w[1]}, w3 = {w[2]}')\n"
   ]
  },
  {
   "cell_type": "code",
   "execution_count": 66,
   "metadata": {},
   "outputs": [
    {
     "name": "stdout",
     "output_type": "stream",
     "text": [
      "question 09: 8.176413318540153\n"
     ]
    }
   ],
   "source": [
    "# question 9\n",
    "x_2 = [19.2, 35.9, 51.3]\n",
    "y_hat = predict(x_2, w, b)\n",
    "print('question 09:', y_hat)"
   ]
  },
  {
   "cell_type": "code",
   "execution_count": 67,
   "metadata": {},
   "outputs": [
    {
     "name": "stdout",
     "output_type": "stream",
     "text": [
      "question 10: 0.5\n"
     ]
    }
   ],
   "source": [
    "# question 10\n",
    "loss = compute_loss(y_hat=1, y=0.5, loss_type=\"mae\")\n",
    "print('question 10:', loss)"
   ]
  },
  {
   "cell_type": "code",
   "execution_count": 69,
   "metadata": {},
   "outputs": [
    {
     "data": {
      "image/png": "[encoded data removed]",
      "text/plain": [
       "<Figure size 640x480 with 1 Axes>"
      ]
     },
     "metadata": {},
     "output_type": "display_data"
    }
   ],
   "source": [
    "plt.plot(losses[:100])\n",
    "plt.xlabel(\"#epoch\")\n",
    "plt.ylabel('MSE loss')\n",
    "plt.show()"
   ]
  }
 ],
 "metadata": {
  "kernelspec": {
   "display_name": "Python 3",
   "language": "python",
   "name": "python3"
  },
  "language_info": {
   "name": "python",
   "version": "3.12.5"
  }
 },
 "nbformat": 4,
 "nbformat_minor": 2
}
