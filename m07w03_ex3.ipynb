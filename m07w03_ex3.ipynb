{
  "nbformat": 4,
  "nbformat_minor": 0,
  "metadata": {
    "colab": {
      "provenance": [],
      "gpuType": "T4",
      "authorship_tag": "ABX9TyMk09TAx53WfubQsY3ThDZG",
      "include_colab_link": true
    },
    "kernelspec": {
      "name": "python3",
      "display_name": "Python 3"
    },
    "language_info": {
      "name": "python"
    },
    "accelerator": "GPU"
  },
  "cells": [
    {
      "cell_type": "markdown",
      "metadata": {
        "id": "view-in-github",
        "colab_type": "text"
      },
      "source": [
        "<a href=\"https://colab.research.google.com/github/nguyenanhtienabcd/AIO2024_EXERCISE/blob/feature%2FMODULE7-WEEK3/m07w03_ex3.ipynb\" target=\"_parent\"><img src=\"https://colab.research.google.com/assets/colab-badge.svg\" alt=\"Open In Colab\"/></a>"
      ]
    },
    {
      "cell_type": "markdown",
      "source": [
        "## Open Vocab Detector"
      ],
      "metadata": {
        "id": "OOTC7J9gyarV"
      }
    },
    {
      "cell_type": "code",
      "source": [
        "!pip install ultralytics"
      ],
      "metadata": {
        "id": "ZbphUxLd3V-Q"
      },
      "execution_count": null,
      "outputs": []
    },
    {
      "cell_type": "code",
      "source": [
        "!pip install utils\n",
        "!pip install loguru"
      ],
      "metadata": {
        "colab": {
          "base_uri": "https://localhost:8080/"
        },
        "id": "-FxoKx7o70WO",
        "outputId": "46bebafa-dd82-409c-a830-8801c059a24b"
      },
      "execution_count": 41,
      "outputs": [
        {
          "output_type": "stream",
          "name": "stdout",
          "text": [
            "Requirement already satisfied: utils in /usr/local/lib/python3.11/dist-packages (1.0.2)\n",
            "Collecting loguru\n",
            "  Downloading loguru-0.7.3-py3-none-any.whl.metadata (22 kB)\n",
            "Downloading loguru-0.7.3-py3-none-any.whl (61 kB)\n",
            "\u001b[2K   \u001b[90m━━━━━━━━━━━━━━━━━━━━━━━━━━━━━━━━━━━━━━━━\u001b[0m \u001b[32m61.6/61.6 kB\u001b[0m \u001b[31m5.0 MB/s\u001b[0m eta \u001b[36m0:00:00\u001b[0m\n",
            "\u001b[?25hInstalling collected packages: loguru\n",
            "Successfully installed loguru-0.7.3\n"
          ]
        }
      ]
    },
    {
      "cell_type": "code",
      "execution_count": 43,
      "metadata": {
        "id": "ciXKHmV8wOqi"
      },
      "outputs": [],
      "source": [
        "from ultralytics import YOLOWorld\n",
        "from ultralytics.engine.results import Boxes"
      ]
    },
    {
      "cell_type": "code",
      "source": [
        "import sys\n",
        "import uuid\n",
        "from pathlib import Path\n",
        "\n",
        "import cv2\n",
        "from loguru import logger\n",
        "\n",
        "def save_detection_results(results: Boxes) -> list[str]:\n",
        "    \"\"\"\n",
        "    Save detection results as images if detections were found.\n",
        "\n",
        "    :param results: Detection results from YOLO model prediction, containing bounding boxes and other metadata\n",
        "    :return: List of paths where annotated images were saved as strings\n",
        "    \"\"\"\n",
        "    # Initialize empty list to store paths of saved images\n",
        "    saved_paths = []\n",
        "\n",
        "    # Iterate through each detection result\n",
        "    for i, result in enumerate(results):\n",
        "        # Check if any detections were made by looking at number of bounding boxes\n",
        "        if len(result.boxes) > 0:\n",
        "            # Plot the detection results with bounding boxes and labels on the image\n",
        "            annotated_image = result.plot()\n",
        "\n",
        "            # Generate unique filename using UUID to avoid overwrites\n",
        "            output_path = f\"/content/bus_{uuid.uuid4()}.jpg\"\n",
        "\n",
        "            # Save the annotated image to disk using OpenCV\n",
        "            cv2.imwrite(output_path, annotated_image)\n",
        "\n",
        "            # Get absolute path and convert to string for consistency\n",
        "            saved_path = Path(output_path).resolve()\n",
        "            print(f\"Image saved to {saved_path}\")\n",
        "            saved_paths.append(str(saved_path))\n",
        "\n",
        "    return saved_paths"
      ],
      "metadata": {
        "id": "vMHPGTtXFafc"
      },
      "execution_count": 42,
      "outputs": []
    },
    {
      "cell_type": "code",
      "source": [
        "# khởi tạo mô hình với các trọng số được huấn luyện từ trước\n",
        "model = YOLOWorld('yolov8s-world.pt')"
      ],
      "metadata": {
        "id": "NBzDQLx7zDdc"
      },
      "execution_count": 38,
      "outputs": []
    },
    {
      "cell_type": "code",
      "source": [
        "# define custom classes\n",
        "model.set_classes(['Bus'])\n",
        "results : Boxes = model.predict (\"/content/bus.jpg\")"
      ],
      "metadata": {
        "colab": {
          "base_uri": "https://localhost:8080/"
        },
        "id": "5cpCjp7HzqsP",
        "outputId": "b6c65ab9-9e15-4a6c-ac23-b848071ff852"
      },
      "execution_count": 39,
      "outputs": [
        {
          "output_type": "stream",
          "name": "stdout",
          "text": [
            "\n",
            "image 1/1 /content/bus.jpg: 480x640 8 Buss, 16.5ms\n",
            "Speed: 2.7ms preprocess, 16.5ms inference, 1.4ms postprocess per image at shape (1, 3, 480, 640)\n"
          ]
        }
      ]
    },
    {
      "cell_type": "code",
      "source": [
        "# Save detection results as images\n",
        "save_detection_results(results)"
      ],
      "metadata": {
        "colab": {
          "base_uri": "https://localhost:8080/"
        },
        "id": "dLN9LakV_3jL",
        "outputId": "f4728b0f-a928-49ef-a07b-64d155af7d70"
      },
      "execution_count": 40,
      "outputs": [
        {
          "output_type": "stream",
          "name": "stdout",
          "text": [
            "Image saved to /content/bus_2dabb196-b5f1-4e07-b3b9-19034cec1089.jpg\n"
          ]
        },
        {
          "output_type": "execute_result",
          "data": {
            "text/plain": [
              "['/content/bus_2dabb196-b5f1-4e07-b3b9-19034cec1089.jpg']"
            ]
          },
          "metadata": {},
          "execution_count": 40
        }
      ]
    }
  ]
}