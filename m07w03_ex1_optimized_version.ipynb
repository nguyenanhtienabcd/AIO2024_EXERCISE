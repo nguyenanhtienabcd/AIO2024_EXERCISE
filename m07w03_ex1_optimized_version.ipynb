{
  "nbformat": 4,
  "nbformat_minor": 0,
  "metadata": {
    "colab": {
      "provenance": [],
      "gpuType": "T4",
      "authorship_tag": "ABX9TyOi9uvU3bmGPWBTk0G9EwSn",
      "include_colab_link": true
    },
    "kernelspec": {
      "name": "python3",
      "display_name": "Python 3"
    },
    "language_info": {
      "name": "python"
    },
    "accelerator": "GPU"
  },
  "cells": [
    {
      "cell_type": "markdown",
      "metadata": {
        "id": "view-in-github",
        "colab_type": "text"
      },
      "source": [
        "<a href=\"https://colab.research.google.com/github/nguyenanhtienabcd/AIO2024_EXERCISE/blob/feature%2FMODULE7-WEEK3/m07w03_ex1_optimized_version.ipynb\" target=\"_parent\"><img src=\"https://colab.research.google.com/assets/colab-badge.svg\" alt=\"Open In Colab\"/></a>"
      ]
    },
    {
      "cell_type": "markdown",
      "source": [
        "## Optimized version"
      ],
      "metadata": {
        "id": "5Qy5XCOVwXVU"
      }
    },
    {
      "cell_type": "markdown",
      "source": [
        "### Install library"
      ],
      "metadata": {
        "id": "YvJWmcG4seWt"
      }
    },
    {
      "cell_type": "code",
      "source": [
        "!pip install ultralytics"
      ],
      "metadata": {
        "colab": {
          "base_uri": "https://localhost:8080/"
        },
        "id": "9kqeYR7aldeU",
        "outputId": "3b8ad123-1d96-4e08-9f09-d15102e2e207"
      },
      "execution_count": null,
      "outputs": [
        {
          "output_type": "stream",
          "name": "stdout",
          "text": [
            "Collecting ultralytics\n",
            "  Downloading ultralytics-8.3.73-py3-none-any.whl.metadata (35 kB)\n",
            "Requirement already satisfied: numpy<=2.1.1,>=1.23.0 in /usr/local/lib/python3.11/dist-packages (from ultralytics) (1.26.4)\n",
            "Requirement already satisfied: matplotlib>=3.3.0 in /usr/local/lib/python3.11/dist-packages (from ultralytics) (3.10.0)\n",
            "Requirement already satisfied: opencv-python>=4.6.0 in /usr/local/lib/python3.11/dist-packages (from ultralytics) (4.11.0.86)\n",
            "Requirement already satisfied: pillow>=7.1.2 in /usr/local/lib/python3.11/dist-packages (from ultralytics) (11.1.0)\n",
            "Requirement already satisfied: pyyaml>=5.3.1 in /usr/local/lib/python3.11/dist-packages (from ultralytics) (6.0.2)\n",
            "Requirement already satisfied: requests>=2.23.0 in /usr/local/lib/python3.11/dist-packages (from ultralytics) (2.32.3)\n",
            "Requirement already satisfied: scipy>=1.4.1 in /usr/local/lib/python3.11/dist-packages (from ultralytics) (1.13.1)\n",
            "Requirement already satisfied: torch>=1.8.0 in /usr/local/lib/python3.11/dist-packages (from ultralytics) (2.5.1+cu124)\n",
            "Requirement already satisfied: torchvision>=0.9.0 in /usr/local/lib/python3.11/dist-packages (from ultralytics) (0.20.1+cu124)\n",
            "Requirement already satisfied: tqdm>=4.64.0 in /usr/local/lib/python3.11/dist-packages (from ultralytics) (4.67.1)\n",
            "Requirement already satisfied: psutil in /usr/local/lib/python3.11/dist-packages (from ultralytics) (5.9.5)\n",
            "Requirement already satisfied: py-cpuinfo in /usr/local/lib/python3.11/dist-packages (from ultralytics) (9.0.0)\n",
            "Requirement already satisfied: pandas>=1.1.4 in /usr/local/lib/python3.11/dist-packages (from ultralytics) (2.2.2)\n",
            "Requirement already satisfied: seaborn>=0.11.0 in /usr/local/lib/python3.11/dist-packages (from ultralytics) (0.13.2)\n",
            "Collecting ultralytics-thop>=2.0.0 (from ultralytics)\n",
            "  Downloading ultralytics_thop-2.0.14-py3-none-any.whl.metadata (9.4 kB)\n",
            "Requirement already satisfied: contourpy>=1.0.1 in /usr/local/lib/python3.11/dist-packages (from matplotlib>=3.3.0->ultralytics) (1.3.1)\n",
            "Requirement already satisfied: cycler>=0.10 in /usr/local/lib/python3.11/dist-packages (from matplotlib>=3.3.0->ultralytics) (0.12.1)\n",
            "Requirement already satisfied: fonttools>=4.22.0 in /usr/local/lib/python3.11/dist-packages (from matplotlib>=3.3.0->ultralytics) (4.55.8)\n",
            "Requirement already satisfied: kiwisolver>=1.3.1 in /usr/local/lib/python3.11/dist-packages (from matplotlib>=3.3.0->ultralytics) (1.4.8)\n",
            "Requirement already satisfied: packaging>=20.0 in /usr/local/lib/python3.11/dist-packages (from matplotlib>=3.3.0->ultralytics) (24.2)\n",
            "Requirement already satisfied: pyparsing>=2.3.1 in /usr/local/lib/python3.11/dist-packages (from matplotlib>=3.3.0->ultralytics) (3.2.1)\n",
            "Requirement already satisfied: python-dateutil>=2.7 in /usr/local/lib/python3.11/dist-packages (from matplotlib>=3.3.0->ultralytics) (2.8.2)\n",
            "Requirement already satisfied: pytz>=2020.1 in /usr/local/lib/python3.11/dist-packages (from pandas>=1.1.4->ultralytics) (2025.1)\n",
            "Requirement already satisfied: tzdata>=2022.7 in /usr/local/lib/python3.11/dist-packages (from pandas>=1.1.4->ultralytics) (2025.1)\n",
            "Requirement already satisfied: charset-normalizer<4,>=2 in /usr/local/lib/python3.11/dist-packages (from requests>=2.23.0->ultralytics) (3.4.1)\n",
            "Requirement already satisfied: idna<4,>=2.5 in /usr/local/lib/python3.11/dist-packages (from requests>=2.23.0->ultralytics) (3.10)\n",
            "Requirement already satisfied: urllib3<3,>=1.21.1 in /usr/local/lib/python3.11/dist-packages (from requests>=2.23.0->ultralytics) (2.3.0)\n",
            "Requirement already satisfied: certifi>=2017.4.17 in /usr/local/lib/python3.11/dist-packages (from requests>=2.23.0->ultralytics) (2025.1.31)\n",
            "Requirement already satisfied: filelock in /usr/local/lib/python3.11/dist-packages (from torch>=1.8.0->ultralytics) (3.17.0)\n",
            "Requirement already satisfied: typing-extensions>=4.8.0 in /usr/local/lib/python3.11/dist-packages (from torch>=1.8.0->ultralytics) (4.12.2)\n",
            "Requirement already satisfied: networkx in /usr/local/lib/python3.11/dist-packages (from torch>=1.8.0->ultralytics) (3.4.2)\n",
            "Requirement already satisfied: jinja2 in /usr/local/lib/python3.11/dist-packages (from torch>=1.8.0->ultralytics) (3.1.5)\n",
            "Requirement already satisfied: fsspec in /usr/local/lib/python3.11/dist-packages (from torch>=1.8.0->ultralytics) (2024.10.0)\n",
            "Collecting nvidia-cuda-nvrtc-cu12==12.4.127 (from torch>=1.8.0->ultralytics)\n",
            "  Downloading nvidia_cuda_nvrtc_cu12-12.4.127-py3-none-manylinux2014_x86_64.whl.metadata (1.5 kB)\n",
            "Collecting nvidia-cuda-runtime-cu12==12.4.127 (from torch>=1.8.0->ultralytics)\n",
            "  Downloading nvidia_cuda_runtime_cu12-12.4.127-py3-none-manylinux2014_x86_64.whl.metadata (1.5 kB)\n",
            "Collecting nvidia-cuda-cupti-cu12==12.4.127 (from torch>=1.8.0->ultralytics)\n",
            "  Downloading nvidia_cuda_cupti_cu12-12.4.127-py3-none-manylinux2014_x86_64.whl.metadata (1.6 kB)\n",
            "Collecting nvidia-cudnn-cu12==9.1.0.70 (from torch>=1.8.0->ultralytics)\n",
            "  Downloading nvidia_cudnn_cu12-9.1.0.70-py3-none-manylinux2014_x86_64.whl.metadata (1.6 kB)\n",
            "Collecting nvidia-cublas-cu12==12.4.5.8 (from torch>=1.8.0->ultralytics)\n",
            "  Downloading nvidia_cublas_cu12-12.4.5.8-py3-none-manylinux2014_x86_64.whl.metadata (1.5 kB)\n",
            "Collecting nvidia-cufft-cu12==11.2.1.3 (from torch>=1.8.0->ultralytics)\n",
            "  Downloading nvidia_cufft_cu12-11.2.1.3-py3-none-manylinux2014_x86_64.whl.metadata (1.5 kB)\n",
            "Collecting nvidia-curand-cu12==10.3.5.147 (from torch>=1.8.0->ultralytics)\n",
            "  Downloading nvidia_curand_cu12-10.3.5.147-py3-none-manylinux2014_x86_64.whl.metadata (1.5 kB)\n",
            "Collecting nvidia-cusolver-cu12==11.6.1.9 (from torch>=1.8.0->ultralytics)\n",
            "  Downloading nvidia_cusolver_cu12-11.6.1.9-py3-none-manylinux2014_x86_64.whl.metadata (1.6 kB)\n",
            "Collecting nvidia-cusparse-cu12==12.3.1.170 (from torch>=1.8.0->ultralytics)\n",
            "  Downloading nvidia_cusparse_cu12-12.3.1.170-py3-none-manylinux2014_x86_64.whl.metadata (1.6 kB)\n",
            "Requirement already satisfied: nvidia-nccl-cu12==2.21.5 in /usr/local/lib/python3.11/dist-packages (from torch>=1.8.0->ultralytics) (2.21.5)\n",
            "Requirement already satisfied: nvidia-nvtx-cu12==12.4.127 in /usr/local/lib/python3.11/dist-packages (from torch>=1.8.0->ultralytics) (12.4.127)\n",
            "Collecting nvidia-nvjitlink-cu12==12.4.127 (from torch>=1.8.0->ultralytics)\n",
            "  Downloading nvidia_nvjitlink_cu12-12.4.127-py3-none-manylinux2014_x86_64.whl.metadata (1.5 kB)\n",
            "Requirement already satisfied: triton==3.1.0 in /usr/local/lib/python3.11/dist-packages (from torch>=1.8.0->ultralytics) (3.1.0)\n",
            "Requirement already satisfied: sympy==1.13.1 in /usr/local/lib/python3.11/dist-packages (from torch>=1.8.0->ultralytics) (1.13.1)\n",
            "Requirement already satisfied: mpmath<1.4,>=1.1.0 in /usr/local/lib/python3.11/dist-packages (from sympy==1.13.1->torch>=1.8.0->ultralytics) (1.3.0)\n",
            "Requirement already satisfied: six>=1.5 in /usr/local/lib/python3.11/dist-packages (from python-dateutil>=2.7->matplotlib>=3.3.0->ultralytics) (1.17.0)\n",
            "Requirement already satisfied: MarkupSafe>=2.0 in /usr/local/lib/python3.11/dist-packages (from jinja2->torch>=1.8.0->ultralytics) (3.0.2)\n",
            "Downloading ultralytics-8.3.73-py3-none-any.whl (914 kB)\n",
            "\u001b[2K   \u001b[90m━━━━━━━━━━━━━━━━━━━━━━━━━━━━━━━━━━━━━━━━\u001b[0m \u001b[32m914.6/914.6 kB\u001b[0m \u001b[31m53.0 MB/s\u001b[0m eta \u001b[36m0:00:00\u001b[0m\n",
            "\u001b[?25hDownloading nvidia_cublas_cu12-12.4.5.8-py3-none-manylinux2014_x86_64.whl (363.4 MB)\n",
            "\u001b[2K   \u001b[90m━━━━━━━━━━━━━━━━━━━━━━━━━━━━━━━━━━━━━━━━\u001b[0m \u001b[32m363.4/363.4 MB\u001b[0m \u001b[31m4.2 MB/s\u001b[0m eta \u001b[36m0:00:00\u001b[0m\n",
            "\u001b[?25hDownloading nvidia_cuda_cupti_cu12-12.4.127-py3-none-manylinux2014_x86_64.whl (13.8 MB)\n",
            "\u001b[2K   \u001b[90m━━━━━━━━━━━━━━━━━━━━━━━━━━━━━━━━━━━━━━━━\u001b[0m \u001b[32m13.8/13.8 MB\u001b[0m \u001b[31m109.3 MB/s\u001b[0m eta \u001b[36m0:00:00\u001b[0m\n",
            "\u001b[?25hDownloading nvidia_cuda_nvrtc_cu12-12.4.127-py3-none-manylinux2014_x86_64.whl (24.6 MB)\n",
            "\u001b[2K   \u001b[90m━━━━━━━━━━━━━━━━━━━━━━━━━━━━━━━━━━━━━━━━\u001b[0m \u001b[32m24.6/24.6 MB\u001b[0m \u001b[31m22.8 MB/s\u001b[0m eta \u001b[36m0:00:00\u001b[0m\n",
            "\u001b[?25hDownloading nvidia_cuda_runtime_cu12-12.4.127-py3-none-manylinux2014_x86_64.whl (883 kB)\n",
            "\u001b[2K   \u001b[90m━━━━━━━━━━━━━━━━━━━━━━━━━━━━━━━━━━━━━━━━\u001b[0m \u001b[32m883.7/883.7 kB\u001b[0m \u001b[31m48.3 MB/s\u001b[0m eta \u001b[36m0:00:00\u001b[0m\n",
            "\u001b[?25hDownloading nvidia_cudnn_cu12-9.1.0.70-py3-none-manylinux2014_x86_64.whl (664.8 MB)\n",
            "\u001b[2K   \u001b[90m━━━━━━━━━━━━━━━━━━━━━━━━━━━━━━━━━━━━━━━━\u001b[0m \u001b[32m664.8/664.8 MB\u001b[0m \u001b[31m2.6 MB/s\u001b[0m eta \u001b[36m0:00:00\u001b[0m\n",
            "\u001b[?25hDownloading nvidia_cufft_cu12-11.2.1.3-py3-none-manylinux2014_x86_64.whl (211.5 MB)\n",
            "\u001b[2K   \u001b[90m━━━━━━━━━━━━━━━━━━━━━━━━━━━━━━━━━━━━━━━━\u001b[0m \u001b[32m211.5/211.5 MB\u001b[0m \u001b[31m5.5 MB/s\u001b[0m eta \u001b[36m0:00:00\u001b[0m\n",
            "\u001b[?25hDownloading nvidia_curand_cu12-10.3.5.147-py3-none-manylinux2014_x86_64.whl (56.3 MB)\n",
            "\u001b[2K   \u001b[90m━━━━━━━━━━━━━━━━━━━━━━━━━━━━━━━━━━━━━━━━\u001b[0m \u001b[32m56.3/56.3 MB\u001b[0m \u001b[31m9.5 MB/s\u001b[0m eta \u001b[36m0:00:00\u001b[0m\n",
            "\u001b[?25hDownloading nvidia_cusolver_cu12-11.6.1.9-py3-none-manylinux2014_x86_64.whl (127.9 MB)\n",
            "\u001b[2K   \u001b[90m━━━━━━━━━━━━━━━━━━━━━━━━━━━━━━━━━━━━━━━━\u001b[0m \u001b[32m127.9/127.9 MB\u001b[0m \u001b[31m7.1 MB/s\u001b[0m eta \u001b[36m0:00:00\u001b[0m\n",
            "\u001b[?25hDownloading nvidia_cusparse_cu12-12.3.1.170-py3-none-manylinux2014_x86_64.whl (207.5 MB)\n",
            "\u001b[2K   \u001b[90m━━━━━━━━━━━━━━━━━━━━━━━━━━━━━━━━━━━━━━━━\u001b[0m \u001b[32m207.5/207.5 MB\u001b[0m \u001b[31m6.1 MB/s\u001b[0m eta \u001b[36m0:00:00\u001b[0m\n",
            "\u001b[?25hDownloading nvidia_nvjitlink_cu12-12.4.127-py3-none-manylinux2014_x86_64.whl (21.1 MB)\n",
            "\u001b[2K   \u001b[90m━━━━━━━━━━━━━━━━━━━━━━━━━━━━━━━━━━━━━━━━\u001b[0m \u001b[32m21.1/21.1 MB\u001b[0m \u001b[31m99.9 MB/s\u001b[0m eta \u001b[36m0:00:00\u001b[0m\n",
            "\u001b[?25hDownloading ultralytics_thop-2.0.14-py3-none-any.whl (26 kB)\n",
            "Installing collected packages: nvidia-nvjitlink-cu12, nvidia-curand-cu12, nvidia-cufft-cu12, nvidia-cuda-runtime-cu12, nvidia-cuda-nvrtc-cu12, nvidia-cuda-cupti-cu12, nvidia-cublas-cu12, nvidia-cusparse-cu12, nvidia-cudnn-cu12, nvidia-cusolver-cu12, ultralytics-thop, ultralytics\n",
            "  Attempting uninstall: nvidia-nvjitlink-cu12\n",
            "    Found existing installation: nvidia-nvjitlink-cu12 12.5.82\n",
            "    Uninstalling nvidia-nvjitlink-cu12-12.5.82:\n",
            "      Successfully uninstalled nvidia-nvjitlink-cu12-12.5.82\n",
            "  Attempting uninstall: nvidia-curand-cu12\n",
            "    Found existing installation: nvidia-curand-cu12 10.3.6.82\n",
            "    Uninstalling nvidia-curand-cu12-10.3.6.82:\n",
            "      Successfully uninstalled nvidia-curand-cu12-10.3.6.82\n",
            "  Attempting uninstall: nvidia-cufft-cu12\n",
            "    Found existing installation: nvidia-cufft-cu12 11.2.3.61\n",
            "    Uninstalling nvidia-cufft-cu12-11.2.3.61:\n",
            "      Successfully uninstalled nvidia-cufft-cu12-11.2.3.61\n",
            "  Attempting uninstall: nvidia-cuda-runtime-cu12\n",
            "    Found existing installation: nvidia-cuda-runtime-cu12 12.5.82\n",
            "    Uninstalling nvidia-cuda-runtime-cu12-12.5.82:\n",
            "      Successfully uninstalled nvidia-cuda-runtime-cu12-12.5.82\n",
            "  Attempting uninstall: nvidia-cuda-nvrtc-cu12\n",
            "    Found existing installation: nvidia-cuda-nvrtc-cu12 12.5.82\n",
            "    Uninstalling nvidia-cuda-nvrtc-cu12-12.5.82:\n",
            "      Successfully uninstalled nvidia-cuda-nvrtc-cu12-12.5.82\n",
            "  Attempting uninstall: nvidia-cuda-cupti-cu12\n",
            "    Found existing installation: nvidia-cuda-cupti-cu12 12.5.82\n",
            "    Uninstalling nvidia-cuda-cupti-cu12-12.5.82:\n",
            "      Successfully uninstalled nvidia-cuda-cupti-cu12-12.5.82\n",
            "  Attempting uninstall: nvidia-cublas-cu12\n",
            "    Found existing installation: nvidia-cublas-cu12 12.5.3.2\n",
            "    Uninstalling nvidia-cublas-cu12-12.5.3.2:\n",
            "      Successfully uninstalled nvidia-cublas-cu12-12.5.3.2\n",
            "  Attempting uninstall: nvidia-cusparse-cu12\n",
            "    Found existing installation: nvidia-cusparse-cu12 12.5.1.3\n",
            "    Uninstalling nvidia-cusparse-cu12-12.5.1.3:\n",
            "      Successfully uninstalled nvidia-cusparse-cu12-12.5.1.3\n",
            "  Attempting uninstall: nvidia-cudnn-cu12\n",
            "    Found existing installation: nvidia-cudnn-cu12 9.3.0.75\n",
            "    Uninstalling nvidia-cudnn-cu12-9.3.0.75:\n",
            "      Successfully uninstalled nvidia-cudnn-cu12-9.3.0.75\n",
            "  Attempting uninstall: nvidia-cusolver-cu12\n",
            "    Found existing installation: nvidia-cusolver-cu12 11.6.3.83\n",
            "    Uninstalling nvidia-cusolver-cu12-11.6.3.83:\n",
            "      Successfully uninstalled nvidia-cusolver-cu12-11.6.3.83\n",
            "Successfully installed nvidia-cublas-cu12-12.4.5.8 nvidia-cuda-cupti-cu12-12.4.127 nvidia-cuda-nvrtc-cu12-12.4.127 nvidia-cuda-runtime-cu12-12.4.127 nvidia-cudnn-cu12-9.1.0.70 nvidia-cufft-cu12-11.2.1.3 nvidia-curand-cu12-10.3.5.147 nvidia-cusolver-cu12-11.6.1.9 nvidia-cusparse-cu12-12.3.1.170 nvidia-nvjitlink-cu12-12.4.127 ultralytics-8.3.73 ultralytics-thop-2.0.14\n"
          ]
        }
      ]
    },
    {
      "cell_type": "code",
      "source": [
        "!pip install loguru"
      ],
      "metadata": {
        "colab": {
          "base_uri": "https://localhost:8080/"
        },
        "id": "A3I6g8iml-EP",
        "outputId": "7c40f3c5-b67e-45c0-9139-090f3f3751ef"
      },
      "execution_count": null,
      "outputs": [
        {
          "output_type": "stream",
          "name": "stdout",
          "text": [
            "Collecting loguru\n",
            "  Downloading loguru-0.7.3-py3-none-any.whl.metadata (22 kB)\n",
            "Downloading loguru-0.7.3-py3-none-any.whl (61 kB)\n",
            "\u001b[?25l   \u001b[90m━━━━━━━━━━━━━━━━━━━━━━━━━━━━━━━━━━━━━━━━\u001b[0m \u001b[32m0.0/61.6 kB\u001b[0m \u001b[31m?\u001b[0m eta \u001b[36m-:--:--\u001b[0m\r\u001b[2K   \u001b[90m━━━━━━━━━━━━━━━━━━━━━━━━━━━━━━━━━━━━━━━━\u001b[0m \u001b[32m61.6/61.6 kB\u001b[0m \u001b[31m6.2 MB/s\u001b[0m eta \u001b[36m0:00:00\u001b[0m\n",
            "\u001b[?25hInstalling collected packages: loguru\n",
            "Successfully installed loguru-0.7.3\n"
          ]
        }
      ]
    },
    {
      "cell_type": "markdown",
      "source": [
        "### Program"
      ],
      "metadata": {
        "id": "TOOib8W7sjvQ"
      }
    },
    {
      "cell_type": "code",
      "execution_count": null,
      "metadata": {
        "id": "1Gi5B1YTwLEx"
      },
      "outputs": [],
      "source": [
        "# import các thư viện cần thiết\n",
        "import argparse\n",
        "from collections import defaultdict\n",
        "import cv2\n",
        "import numpy as np\n",
        "from tqdm import tqdm\n",
        "from ultralytics import YOLO\n",
        "from loguru import logger"
      ]
    },
    {
      "cell_type": "code",
      "source": [
        "# định nghĩa cấu hình khởi tạo video\n",
        "def load_config():\n",
        "  \"\"\"load và trả lại cấu hình\"\"\"\n",
        "  return {\n",
        "      \"model_path\": \"yolo11x.pt\",\n",
        "      \"track_history_length\": 120,\n",
        "      \"batch_size\": 64,\n",
        "      \"line_thickness\": 4,\n",
        "      \"track_color\": (230, 230, 230),  # Add track_color (green in this case)\n",
        "  }"
      ],
      "metadata": {
        "id": "g_aFH_QOww6i"
      },
      "execution_count": null,
      "outputs": []
    },
    {
      "cell_type": "code",
      "source": [
        "def initialize_video(video_path):\n",
        "  \"\"\"Initialize video capture and writer object\"\"\"\n",
        "  cap =  cv2.VideoCapture(video_path)\n",
        "  width = int(cap.get(cv2.CAP_PROP_FRAME_WIDTH))\n",
        "  height = int(cap.get(cv2.CAP_PROP_FRAME_HEIGHT))\n",
        "  fps = int(cap.get(cv2.CAP_PROP_FPS))\n",
        "\n",
        "  video_name = video_path.split(\"/\")[-1].split(\".\")[0]\n",
        "  output_path = f\"/content/{video_name}_tracked.mp4\"\n",
        "  fourcc = cv2.VideoWriter_fourcc(*\"mp4v\")\n",
        "  out = cv2.VideoWriter(output_path, fourcc, fps, (width, height))\n",
        "  return cap, out, output_path"
      ],
      "metadata": {
        "id": "rKEU7URCbeYk"
      },
      "execution_count": null,
      "outputs": []
    },
    {
      "cell_type": "code",
      "source": [
        "def update_track_history(\n",
        "    track_history,\n",
        "    last_seen,\n",
        "    track_ids,\n",
        "    frame_count,\n",
        "    batch_size,\n",
        "    frame_idx,\n",
        "    history_length,\n",
        "):\n",
        "  \"\"\"Update track history and remove old tracks\"\"\"\n",
        "  current_track = set(track_ids) # lấy toàn bộ track_id trong\n",
        "  for track_id in list(track_history.keys()):\n",
        "    if track_id in current_track:\n",
        "      last_seen[track_id] = frame_count - (batch_size - frame_idx - 1)\n",
        "    elif frame_count - last_seen[track_id] > history_length:\n",
        "      del track_history[track_id]\n",
        "      del last_seen[track_id]\n",
        "\n"
      ],
      "metadata": {
        "id": "E3aSNnEtQJme"
      },
      "execution_count": null,
      "outputs": []
    },
    {
      "cell_type": "code",
      "source": [
        "def draw_tracks(frame, boxes, track_ids, track_history, config):\n",
        "  \"\"\"Draw tracking lines on frame\"\"\"\n",
        "  if not track_ids:\n",
        "    return frame\n",
        "\n",
        "  for box, track_id in zip(boxes, track_ids):\n",
        "    x, y, h, w = box  # lấy tọa độ x, y\n",
        "    track = track_history[track_id]  # lấy id\n",
        "    track.append((float(x), float(y)))  # lưu tọa độ vaod ID\n",
        "    if len(track) > config[\"track_history_length\"]:  # kiểm tra track_his\n",
        "      track.pop(0)  # Use pop(0) to remove the first element\n",
        "\n",
        "    points = np.hstack(track).astype(np.int32).reshape((-1, 1, 2))\n",
        "    cv2.polylines(\n",
        "        frame,\n",
        "        [points],\n",
        "        isClosed=False,  # Add isClosed argument\n",
        "        color=config[\"track_color\"],\n",
        "        thickness=config[\"line_thickness\"],\n",
        "    )  # dùng để vẽ hình có chứa tọa độ\n",
        "  return frame # Move return statement outside the loop"
      ],
      "metadata": {
        "id": "T38GC9RtwgZE"
      },
      "execution_count": null,
      "outputs": []
    },
    {
      "cell_type": "code",
      "source": [
        "\"\"\" Xử lý một patch các frame \"\"\"\n",
        "def process_batch(model, batch_frames, track_history, last_seen, frame_count, config):\n",
        "    \"\"\"process batch of frames through YOLO model\"\"\"\n",
        "    results = model.track(\n",
        "        batch_frames,\n",
        "        persist=True,\n",
        "        verbose=False,\n",
        "        show=False,\n",
        "        tracker=\"botsort.yaml\",\n",
        "        iou = 0.5,\n",
        "    )\n",
        "    processed_frames = []\n",
        "    for frame_idx, result in enumerate(results):\n",
        "        # Now 'result' is the result object for a single frame\n",
        "\n",
        "        # Access boxes and track_ids from the individual result object\n",
        "        boxes = result.boxes.xywh.cpu()\n",
        "        # Get track_ids, ensure it's a list\n",
        "        track_ids = (\n",
        "            result.boxes.id.int().cpu().tolist() if result.boxes.id is not None else []\n",
        "        )\n",
        "\n",
        "        update_track_history(\n",
        "            track_history,\n",
        "            last_seen,\n",
        "            track_ids,\n",
        "            frame_count,\n",
        "            len(batch_frames),\n",
        "            frame_idx,\n",
        "            config[\"track_history_length\"],\n",
        "        )\n",
        "\n",
        "        annotated_frame = result.plot(font_size=4, line_width=2)\n",
        "        annotated_frame = draw_tracks(\n",
        "            annotated_frame,\n",
        "            boxes,\n",
        "            track_ids,\n",
        "            track_history,\n",
        "            config,\n",
        "        )\n",
        "        processed_frames.append(annotated_frame)\n",
        "\n",
        "    # Return the list of processed frames after processing the entire batch\n",
        "    return processed_frames"
      ],
      "metadata": {
        "id": "9P_J_t2McCe9"
      },
      "execution_count": null,
      "outputs": []
    },
    {
      "cell_type": "code",
      "source": [
        "def main(video_path):\n",
        "  \"\"\" Main function to process video\"\"\"\n",
        "  CONFIG = load_config() # load toàn bộ cấu hình mong muốn\n",
        "  model = YOLO(CONFIG.get(\"model_path\", \"yolo11x.pt\")) # lấy model mong muốn\n",
        "  cap, out, output_path = initialize_video(video_path) # lấy khung hình, video đầu ra, đương lưu video đầu ra\n",
        "  track_history = defaultdict(lambda: []) # tạo ra một track theo dõi\n",
        "  last_seen = defaultdict(int) # tạo ta một list\n",
        "  total_frames = int(cap.get(cv2.CAP_PROP_FRAME_COUNT)) # lấy toàn bộ frame của video\n",
        "\n",
        "  with tqdm(total=total_frames,\n",
        "            desc = \"Processing frames\",\n",
        "            colour = \"green\",) as pbar:\n",
        "            frame_count = 0\n",
        "            batch_frame = []\n",
        "\n",
        "            while cap.isOpened():\n",
        "              sucess, frame = cap.read()\n",
        "              if not sucess:\n",
        "                break\n",
        "\n",
        "              frame_count += 1\n",
        "              batch_frame.append(frame)\n",
        "\n",
        "              if len(batch_frame) == CONFIG[\"batch_size\"] or frame_count == total_frames:\n",
        "                  try:\n",
        "                      processed_frames = process_batch(\n",
        "                          model,\n",
        "                          batch_frame,\n",
        "                          track_history,\n",
        "                          last_seen,\n",
        "                          frame_count,\n",
        "                          CONFIG,\n",
        "                      )\n",
        "                      for frame in processed_frames:\n",
        "                        out.write(frame)\n",
        "                        pbar.update(1)\n",
        "                      batch_frame = []\n",
        "                  except Exception as e:\n",
        "                      logger.error(f\"Error processing batch: {e}\")\n",
        "                      batch_frame = []\n",
        "                      continue\n",
        "  try:\n",
        "    cap.release()\n",
        "    out.release()\n",
        "    cv2.destroyAllWindows()\n",
        "  except Exception as e:\n",
        "    logger.error(f\"Error releasing resources: {e}\")\n"
      ],
      "metadata": {
        "id": "8irbJlbk1aHx"
      },
      "execution_count": null,
      "outputs": []
    },
    {
      "cell_type": "code",
      "source": [
        "def main(video_path):\n",
        "    \"\"\" Main function to process video\"\"\"\n",
        "    CONFIG = load_config()  # load toàn bộ cấu hình mong muốn\n",
        "    model = YOLO(CONFIG.get(\"model_path\", \"yolo11x.pt\"))  # lấy model mong muốn\n",
        "    cap, out, output_path = initialize_video(video_path)  # lấy khung hình, video đầu ra, đường dẫn video đầu ra\n",
        "    track_history = defaultdict(lambda: [])\n",
        "    last_seen = defaultdict(int)\n",
        "    total_frames = int(cap.get(cv2.CAP_PROP_FRAME_COUNT))\n",
        "\n",
        "    with tqdm(total=total_frames, desc=\"Processing frames\", colour=\"green\") as pbar:\n",
        "        frame_count = 0\n",
        "        batch_frame = []\n",
        "\n",
        "        while cap.isOpened():\n",
        "            success, frame = cap.read()\n",
        "            if not success:\n",
        "                break\n",
        "\n",
        "            frame_count += 1\n",
        "            batch_frame.append(frame)\n",
        "\n",
        "            # Xử lý batch khi đủ kích thước hoặc đã đọc tới frame cuối (theo số frame báo của video)\n",
        "            if len(batch_frame) == CONFIG[\"batch_size\"] or frame_count == total_frames:\n",
        "                try:\n",
        "                    processed_frames = process_batch(\n",
        "                        model,\n",
        "                        batch_frame,\n",
        "                        track_history,\n",
        "                        last_seen,\n",
        "                        frame_count,\n",
        "                        CONFIG,\n",
        "                    )\n",
        "                    for processed_frame in processed_frames:\n",
        "                        out.write(processed_frame)\n",
        "                        pbar.update(1)\n",
        "                    batch_frame = []  # reset batch sau khi xử lý\n",
        "                except Exception as e:\n",
        "                    logger.error(f\"Error processing batch: {e}\")\n",
        "                    batch_frame = []\n",
        "                    continue\n",
        "\n",
        "        # Sau vòng lặp, nếu còn frame chưa được xử lý (batch cuối không đủ số lượng), tiến hành xử lý\n",
        "        if batch_frame:\n",
        "            try:\n",
        "                processed_frames = process_batch(\n",
        "                    model,\n",
        "                    batch_frame,\n",
        "                    track_history,\n",
        "                    last_seen,\n",
        "                    frame_count,\n",
        "                    CONFIG,\n",
        "                )\n",
        "                for processed_frame in processed_frames:\n",
        "                    out.write(processed_frame)\n",
        "                    pbar.update(1)\n",
        "            except Exception as e:\n",
        "                logger.error(f\"Error processing final batch: {e}\")\n",
        "\n",
        "    try:\n",
        "        cap.release()\n",
        "        out.release()\n",
        "        cv2.destroyAllWindows()\n",
        "    except Exception as e:\n",
        "        logger.error(f\"Error releasing resources: {e}\")\n"
      ],
      "metadata": {
        "id": "71KACef654Ab"
      },
      "execution_count": null,
      "outputs": []
    },
    {
      "cell_type": "markdown",
      "source": [
        "**Lỗi xử lý batch cuối**: Code xử lý video theo batch. Khi số lượng khung hình còn lại không đủ tạo thành một batch, đoạn code có thể không xử lý được batch cuối cùng này"
      ],
      "metadata": {
        "id": "v1NMNoFF2TrG"
      }
    },
    {
      "cell_type": "code",
      "source": [
        "video_path = \"/content/vtv24h.mp4\"\n",
        "main(video_path)"
      ],
      "metadata": {
        "colab": {
          "base_uri": "https://localhost:8080/"
        },
        "id": "jCysYpS9omCZ",
        "outputId": "cb5b41c8-ae8f-4907-91d1-423606bb3463"
      },
      "execution_count": null,
      "outputs": [
        {
          "output_type": "stream",
          "name": "stderr",
          "text": [
            "Processing frames:  99%|\u001b[32m█████████▊\u001b[0m| 313/317 [00:27<00:00, 11.49it/s]\n"
          ]
        }
      ]
    },
    {
      "cell_type": "code",
      "source": [],
      "metadata": {
        "id": "ttdgdyMJ2eJJ"
      },
      "execution_count": null,
      "outputs": []
    }
  ]
}