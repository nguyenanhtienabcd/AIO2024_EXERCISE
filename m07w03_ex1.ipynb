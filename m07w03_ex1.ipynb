{
  "nbformat": 4,
  "nbformat_minor": 0,
  "metadata": {
    "colab": {
      "provenance": [],
      "gpuType": "T4",
      "authorship_tag": "ABX9TyPnG1Kf2nshVul4S2tJCiXV",
      "include_colab_link": true
    },
    "kernelspec": {
      "name": "python3",
      "display_name": "Python 3"
    },
    "language_info": {
      "name": "python"
    },
    "accelerator": "GPU"
  },
  "cells": [
    {
      "cell_type": "markdown",
      "metadata": {
        "id": "view-in-github",
        "colab_type": "text"
      },
      "source": [
        "<a href=\"https://colab.research.google.com/github/nguyenanhtienabcd/AIO2024_EXERCISE/blob/feature%2FMODULE7-WEEK3/m07w03_ex1.ipynb\" target=\"_parent\"><img src=\"https://colab.research.google.com/assets/colab-badge.svg\" alt=\"Open In Colab\"/></a>"
      ]
    },
    {
      "cell_type": "markdown",
      "source": [
        "## Object tracking - Simple version"
      ],
      "metadata": {
        "id": "Mv2dpXXtTUuI"
      }
    },
    {
      "cell_type": "code",
      "execution_count": 1,
      "metadata": {
        "id": "qs_kovMKO-k_"
      },
      "outputs": [],
      "source": [
        "from collections import defaultdict\n",
        "import cv2\n",
        "import numpy as np\n",
        "import os\n",
        "from ultralytics import YOLO\n"
      ]
    },
    {
      "cell_type": "code",
      "source": [
        "# load model YOLO 11 from YOLO\n",
        "model = YOLO('yolo11l.pt')\n",
        "\n",
        "# openr the video file\n",
        "video_path = '/content/vtv24h.mp4'\n",
        "cap = cv2.VideoCapture(video_path)\n"
      ],
      "metadata": {
        "id": "SuvIwE1cS0sU"
      },
      "execution_count": 6,
      "outputs": []
    },
    {
      "cell_type": "code",
      "source": [
        "'''sử dung VideoWriter để lưu video kết quả đã được xử lý '''\n",
        "# get video properties\n",
        "width =  int(cap.get(cv2.CAP_PROP_FRAME_WIDTH))\n",
        "height = int(cap.get(cv2.CAP_PROP_FRAME_HEIGHT))\n",
        "fps = int(cap.get(cv2.CAP_PROP_FPS))\n",
        "\n",
        "# create videowriter object - lưu lại video với số khung hình và kích thước khung hình là như nhau\n",
        "video_name =  video_path.split('/')[-1] # lấy file của video \"vtv24.mp4\"\n",
        "output_path = f'/content/{video_name.split(\".\")[0]}_output.mp4'\n",
        "fourcc = cv2.VideoWriter_fourcc(*\"mp4v\")\n",
        "out = cv2.VideoWriter(output_path, fourcc, fps, (width, height))"
      ],
      "metadata": {
        "id": "m1ZzpfufB8Vc"
      },
      "execution_count": 7,
      "outputs": []
    },
    {
      "cell_type": "code",
      "source": [
        "# Store the track history\n",
        "track_history = defaultdict(lambda: [])\n",
        "\n",
        "# Loop through the video frames\n",
        "while cap.isOpened():\n",
        "    # Read a frame from the video\n",
        "    success, frame = cap.read()\n",
        "\n",
        "    if success:\n",
        "        # Run YOLO11 tracking on the frame, persisting tracks between frames\n",
        "        results = model.track(frame, persist=True, show=False)\n",
        "\n",
        "        # Get the boxes and track IDs (with error handling)\n",
        "        boxes = results[0].boxes.xywh.cpu()\n",
        "        try:\n",
        "            track_ids = results[0].boxes.id\n",
        "            if track_ids is not None:\n",
        "                track_ids = track_ids.int().cpu().tolist()\n",
        "            else:\n",
        "                track_ids = []  # No tracks found in this frame\n",
        "        except AttributeError:\n",
        "            track_ids = []  # Handle case where tracking fails\n",
        "\n",
        "        # Visualize the results on the frame\n",
        "        annotated_frame = results[0].plot()\n",
        "\n",
        "        # Plot the tracks only if we have valid tracking data\n",
        "        if track_ids:\n",
        "            for box, track_id in zip(boxes, track_ids):\n",
        "                x, y, w, h = box\n",
        "                track = track_history[track_id]\n",
        "                track.append((float(x), float(y)))  # x, y center point\n",
        "\n",
        "                if len(track) > 120:  # retain 30 tracks for 30 frames\n",
        "                    track.pop(0)\n",
        "\n",
        "                # Draw the tracking lines\n",
        "                points = np.hstack(track).astype(np.int32).reshape(-1, 1, 2)\n",
        "                cv2.polylines(\n",
        "                    annotated_frame,\n",
        "                    [points],\n",
        "                    isClosed=False,\n",
        "                    color=(230, 230, 230),\n",
        "                    thickness=4,\n",
        "                )\n",
        "\n",
        "        # Write the frame to output video\n",
        "        out.write(annotated_frame)\n",
        "    else:\n",
        "        # Break the loop if the end of the video is reached\n",
        "        break\n",
        "\n",
        "# Release everything\n",
        "cap.release()\n",
        "out.release()\n",
        "print(f\"Video has been saved to {output_path}\")\n"
      ],
      "metadata": {
        "id": "ccsnPpFyJkYI"
      },
      "execution_count": null,
      "outputs": []
    },
    {
      "cell_type": "markdown",
      "source": [
        "### một ví dụ về hàm default dictionary"
      ],
      "metadata": {
        "id": "SIC4jg3VOsq7"
      }
    },
    {
      "cell_type": "code",
      "source": [
        "from collections import defaultdict\n",
        "import numpy as np\n",
        "\n",
        "np.random.seed(42)\n",
        "\n",
        "track_history = defaultdict(lambda: [])\n",
        "print(track_history)\n",
        "\n",
        "for i in range(1,7):\n",
        "  track = track_history[i]\n",
        "  print(track)\n",
        "\n",
        "  # Generate random numbers using np.random.random() and then round\n",
        "  track.append((np.random.randint(10), np.random.randint(10)))\n",
        "  #print(track_history.values())\n",
        "\n",
        "# chuyên về n hàng, 1 cột, 2 chiều\n",
        "b = np.hstack(list(track_history.values()))\n",
        "print(b)\n",
        "c = b.astype(np.int32).reshape((-1, 1, 2))\n",
        "print(c)"
      ],
      "metadata": {
        "colab": {
          "base_uri": "https://localhost:8080/"
        },
        "id": "T501318oOLUK",
        "outputId": "e8e3d7aa-0473-4714-ecb9-1e950afbbc4a"
      },
      "execution_count": 5,
      "outputs": [
        {
          "output_type": "stream",
          "name": "stdout",
          "text": [
            "defaultdict(<function <lambda> at 0x7beda95ed120>, {})\n",
            "[]\n",
            "[]\n",
            "[]\n",
            "[]\n",
            "[]\n",
            "[]\n",
            "[[6 3 7 4 6 9 2 6 7 4 3 7]]\n",
            "[[[6 3]]\n",
            "\n",
            " [[7 4]]\n",
            "\n",
            " [[6 9]]\n",
            "\n",
            " [[2 6]]\n",
            "\n",
            " [[7 4]]\n",
            "\n",
            " [[3 7]]]\n"
          ]
        }
      ]
    }
  ]
}