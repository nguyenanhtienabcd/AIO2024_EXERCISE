{
  "nbformat": 4,
  "nbformat_minor": 0,
  "metadata": {
    "colab": {
      "provenance": [],
      "authorship_tag": "ABX9TyO2vaimE68TSj/WsC73+8uE",
      "include_colab_link": true
    },
    "kernelspec": {
      "name": "python3",
      "display_name": "Python 3"
    },
    "language_info": {
      "name": "python"
    }
  },
  "cells": [
    {
      "cell_type": "markdown",
      "metadata": {
        "id": "view-in-github",
        "colab_type": "text"
      },
      "source": [
        "<a href=\"https://colab.research.google.com/github/nguyenanhtienabcd/AIO2024_EXERCISE/blob/feature%2FMODULE7-WEEK1/m07w01_ex1.ipynb\" target=\"_parent\"><img src=\"https://colab.research.google.com/assets/colab-badge.svg\" alt=\"Open In Colab\"/></a>"
      ]
    },
    {
      "cell_type": "code",
      "execution_count": null,
      "metadata": {
        "id": "24hgTh4oCwcg"
      },
      "outputs": [],
      "source": [
        "import torch\n",
        "import torch.nn as nn"
      ]
    },
    {
      "cell_type": "markdown",
      "source": [
        "tạo feature map ban đầu từ"
      ],
      "metadata": {
        "id": "N_0OKC8cMZdD"
      }
    },
    {
      "cell_type": "code",
      "source": [
        "class FirstFeature(nn.Module):\n",
        "    def __init__(self, input_channels, out_channels):\n",
        "        super(FirstFeature, self).__init__()\n",
        "        self.conv = nn.Sequential(\n",
        "            nn.Conv2d(in_channels=input_channels,\n",
        "                      out_channels=out_channels,\n",
        "                      kernel_size=1,\n",
        "                      padding=0,\n",
        "                      stride=1,\n",
        "                      bias=False),\n",
        "            nn.LeakyReLU()\n",
        "        )\n",
        "    def forward(self, x):\n",
        "        return self.conv(x)"
      ],
      "metadata": {
        "id": "1YzEJKvsKpWG"
      },
      "execution_count": null,
      "outputs": []
    },
    {
      "cell_type": "code",
      "source": [
        "class ConvBlock(nn.Module):\n",
        "    def __init__(self, input_channels, out_channels):\n",
        "        super(ConvBlock, self).__init__()\n",
        "        self.conv = nn.Sequential(\n",
        "            nn.Conv2d(in_channels=input_channels,\n",
        "                      out_channels=out_channels,\n",
        "                      kernel_size=3,\n",
        "                      padding=1,\n",
        "                      stride=1,\n",
        "                      bias = False),\n",
        "            nn.BatchNorm2d(out_channels),\n",
        "            nn.LeakyReLU(implace = True),\n",
        "            nn.Conv2d(in_channels=input_channels,\n",
        "                      out_channels=out_channels,\n",
        "                      kernel_size=3,\n",
        "                      padding=1,\n",
        "                      stride=1,\n",
        "                      bias = False),\n",
        "            nn.BatchNorm2d(out_channels),\n",
        "            nn.LeakyReLU(implace = True),\n",
        "        )\n",
        "\n",
        "    def forward(self, x):\n",
        "        return self.conv(x)\n"
      ],
      "metadata": {
        "id": "GLIda5ppNiLM"
      },
      "execution_count": null,
      "outputs": []
    },
    {
      "cell_type": "code",
      "source": [
        "class Encoder(nn.Module):\n",
        "    def __init__(self, input_channels, out_channels):\n",
        "        super(Encoder, self).__init__()\n",
        "        self.conv = nn.Sequential(\n",
        "            nn.Maxpool2d(kernel_size=2),\n",
        "            ConvBlock(input_channels, out_channels)\n",
        "        )\n",
        "    def forward(self, x):\n",
        "        return self.conv(x)"
      ],
      "metadata": {
        "id": "ioVBvZq7PjUx"
      },
      "execution_count": null,
      "outputs": []
    },
    {
      "cell_type": "code",
      "source": [
        "class Decoder(nn.Module):\n",
        "    def __init__(self, input_channels, out_channels):\n",
        "        super(Decoder, self).__init__()\n",
        "        self.conv = nn.Sequential(\n",
        "            nn.UpsamplingBilinear2d(2),\n",
        "            nn.Conv2d(input_channels = input_channels,\n",
        "                      out_channels = out_channels,\n",
        "                      kernel_size = 1,\n",
        "                      stride = 1,\n",
        "                      padding = 0,\n",
        "                      bias = False),\n",
        "            nn.BatchNorm2d(out_channels),\n",
        "            nn.LeakyReLU(implace = True),\n",
        "        )\n",
        "        self.conv_block = ConvBlock(input_channels, out_channels)\n",
        "    def forward(self, x, skip):\n",
        "        x = self.conv(x)\n",
        "        x = torch.cat((x, skip), dim = 1)\n",
        "        x = self.conv_block(x)\n",
        "        return x"
      ],
      "metadata": {
        "id": "8MPgygmwRZY1"
      },
      "execution_count": null,
      "outputs": []
    },
    {
      "cell_type": "code",
      "source": [
        "class FinalOutput(nn.Module):\n",
        "    def __init__(self, input_channels, out_channels):\n",
        "        super(FinalOutput, self).__init__()\n",
        "        self.conv = nn.Sequential(\n",
        "            nn.Conv2d(input_channels, out_channels, 1, 1, 0, bias = False),\n",
        "        )\n",
        "    def forward(self, x):\n",
        "        return self.conv(x)"
      ],
      "metadata": {
        "id": "P09S5xeWXukS"
      },
      "execution_count": null,
      "outputs": []
    },
    {
      "cell_type": "code",
      "source": [
        "class Unet(nn.Module):\n",
        "    def __init__(self, n_channels=3, n_classes=3):\n",
        "        super(Unet, self).__init__()\n",
        "        self.n_channels = n_channels\n",
        "        self.n_classes = n_classes\n",
        "\n",
        "        self.first_feature = FirstFeature(n_channels, 64)\n",
        "\n",
        "        self.encoder1 = Encoder(64, 128)\n",
        "        self.encoder2 = Encoder(128,256)\n",
        "        self.encoder3 = Encoder(256,512)\n",
        "        self.encoder4 = Encoder(512,1024)\n",
        "\n",
        "        self.decoder1 = Decoder(1024,512)\n",
        "        self.decoder2 = Decoder(512,256)\n",
        "        self.decoder3 = Decoder(256,128)\n",
        "        self.decoder4 = Decoder(128,64)\n",
        "\n",
        "        self.final_output = FinalOutput(64, n_classes)\n",
        "\n",
        "    def forward(self, x):\n",
        "      x1 = self.first_feature(x)\n",
        "      x2 = self.encoder1(x1)\n",
        "      x3 = self.encoder2(x2)\n",
        "      x4 = self.encoder3(x3)\n",
        "      x5 = self.encoder4(x4)\n",
        "\n",
        "      x = self.decoder1(x5, x4)\n",
        "      x = self.decoder2(x, x3)\n",
        "      x = self.decoder3(x, x2)\n",
        "      x = self.decoder4(x, x1)\n",
        "      x = self.final_output(x)\n",
        "      return x\n"
      ],
      "metadata": {
        "id": "Ma0NzCjUP6Lk"
      },
      "execution_count": null,
      "outputs": []
    }
  ]
}